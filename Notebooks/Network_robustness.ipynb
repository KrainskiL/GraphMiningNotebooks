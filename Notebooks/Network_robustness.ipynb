{
 "cells": [
  {
   "cell_type": "code",
   "execution_count": null,
   "metadata": {},
   "outputs": [],
   "source": [
    "## path to datasets\n",
    "datadir='../Datasets/'"
   ]
  },
  {
   "cell_type": "code",
   "execution_count": null,
   "metadata": {},
   "outputs": [],
   "source": [
    "import igraph as ig\n",
    "import numpy as np\n",
    "import pandas as pd\n",
    "import matplotlib.pyplot as plt\n",
    "import random"
   ]
  },
  {
   "cell_type": "markdown",
   "metadata": {},
   "source": [
    "# Power grid graph"
   ]
  },
  {
   "cell_type": "markdown",
   "metadata": {},
   "source": [
    "This is a test of robustness of an empirical graph that does not exhibit power law.\n",
    "\n",
    "Network robustness is an important practical topic for power grids."
   ]
  },
  {
   "cell_type": "markdown",
   "metadata": {},
   "source": [
    "First we load data"
   ]
  },
  {
   "cell_type": "code",
   "execution_count": null,
   "metadata": {},
   "outputs": [],
   "source": [
    "gr = ig.Graph.Read_Ncol(datadir+'GridEurope/gridkit_europe-highvoltage.edges', directed=False)\n",
    "gr = gr.simplify()\n",
    "## read the vertices along with some attributes\n",
    "X = pd.read_csv(datadir+'GridEurope/gridkit_europe-highvoltage.vertices')\n",
    "idx = [int(i) for i in gr.vs['name']]\n",
    "sorterIndex = dict(zip(idx,range(len(idx))))\n",
    "X['Rank'] = X['v_id'].map(sorterIndex)\n",
    "X.sort_values(['Rank'], ascending=[True],inplace=True)\n",
    "X.dropna(inplace=True)\n",
    "gr.vs['longitude'] = list(X['lon'])\n",
    "gr.vs['latitude'] = list(X['lat'])\n",
    "gr.vs['type'] = list(X['typ'])\n",
    "gr.vs['layout'] = [(v['longitude'],v['latitude']) for v in gr.vs()]\n",
    "gr.vs['size'] = 3\n",
    "gr.es['color'] = 'grey'\n",
    "gr.vs['color'] = 'black'"
   ]
  },
  {
   "cell_type": "markdown",
   "metadata": {},
   "source": [
    "We want to concentrate on an Iberic peninsula. Note that we select a giant component of the graph selected by latitude and longitude as e.g. nodes located on islands are isolated."
   ]
  },
  {
   "cell_type": "code",
   "execution_count": null,
   "metadata": {},
   "outputs": [],
   "source": [
    "## subgraph of Grid -- giant component on Iberic peninsula\n",
    "V = [v for v in gr.vs() if v['latitude']>36 and v['latitude']<44 and v['longitude']>-10 and v['longitude']<4]\n",
    "gr_spain = gr.subgraph(V).clusters().giant()\n",
    "ly = ig.Layout(gr_spain.vs['layout'])\n",
    "ly.mirror(1)\n",
    "ig.plot(gr_spain, 'grid_iberic_giant.eps', layout=ly, bbox=(0,0,300,300))"
   ]
  },
  {
   "cell_type": "markdown",
   "metadata": {},
   "source": [
    "We check the node count and average node degree "
   ]
  },
  {
   "cell_type": "code",
   "execution_count": null,
   "metadata": {},
   "outputs": [],
   "source": [
    "gr_spain.vcount()"
   ]
  },
  {
   "cell_type": "code",
   "execution_count": null,
   "metadata": {},
   "outputs": [],
   "source": [
    "np.mean(gr_spain.degree())"
   ]
  },
  {
   "cell_type": "markdown",
   "metadata": {},
   "source": [
    "This function given a graph `gr` tests removing nodes from this graph until `stop_count` nodes are left.\n",
    "If `rnd` is `True` then we assume random failure model. If `rnd` is `False` then we assume targetted attack, in which sequentially a node with the highest degree in the remaining network is removed.\n",
    "\n",
    "The function returns order parameter sequence (i.e. the fraction of nodes in the giant component of the remaining graph) and the final graph."
   ]
  },
  {
   "cell_type": "code",
   "execution_count": null,
   "metadata": {},
   "outputs": [],
   "source": [
    "def single_run(gr, fun, stop_count=1):\n",
    "    gr = gr.copy()\n",
    "    order = [1.0]\n",
    "    while gr.vcount() > stop_count:\n",
    "        if fun == \"random\":\n",
    "            to_delete = random.randint(0, gr.vcount() - 1)\n",
    "        elif fun == \"degree\":\n",
    "            m = max(gr.degree())\n",
    "            am = [i for i, j in enumerate(gr.degree()) if j == m]\n",
    "            to_delete = random.choice(am)\n",
    "        elif fun == \"between\":\n",
    "            b = gr.betweenness()\n",
    "            m = max(b)\n",
    "            am = [i for i, j in enumerate(b) if j == m]\n",
    "            to_delete = random.choice(am)\n",
    "        else:\n",
    "            raise Exception(\"unknown value of parameter fun\")\n",
    "        gr.delete_vertices(to_delete)\n",
    "        order.append(gr.clusters().giant().vcount() / gr.vcount())\n",
    "    return order, gr"
   ]
  },
  {
   "cell_type": "markdown",
   "metadata": {},
   "source": [
    "We run both options (`rnd` equal to `True` and to `False`) 16 times and report the average result as `single_run` is randomized. Note that `rnd=True` leads to much lower variability."
   ]
  },
  {
   "cell_type": "code",
   "execution_count": null,
   "metadata": {},
   "outputs": [],
   "source": [
    "res_rnd = single_run(gr_spain, \"random\")[0]"
   ]
  },
  {
   "cell_type": "code",
   "execution_count": null,
   "metadata": {},
   "outputs": [],
   "source": [
    "res_degree = single_run(gr_spain, \"degree\")[0]"
   ]
  },
  {
   "cell_type": "code",
   "execution_count": null,
   "metadata": {},
   "outputs": [],
   "source": [
    "res_between = single_run(gr_spain, \"between\")[0]"
   ]
  },
  {
   "cell_type": "markdown",
   "metadata": {},
   "source": [
    "Observe that order parameter:\n",
    "1. Falls much faster when `rnd=True`\n",
    "2. When almost all nodes are removed order parameter increases, but this is a case that is not very interesting (we are mostly interested in the left parts of the plots)"
   ]
  },
  {
   "cell_type": "code",
   "execution_count": null,
   "metadata": {},
   "outputs": [],
   "source": [
    "plt.plot(res_rnd)\n",
    "plt.plot(res_degree)\n",
    "plt.plot(res_between)\n",
    "plt.xlabel(\"# of removed vertices\")\n",
    "plt.ylabel(\"order parameter\")\n",
    "plt.legend([\"random\", \"max degree attack\", \"max betweenness attack\"])\n",
    "plt.savefig('op_power_grid.eps', format='eps')"
   ]
  },
  {
   "cell_type": "markdown",
   "metadata": {},
   "source": [
    "We test a single scenario under maximum degree attack when 5% of nodes are removed. Colors on the plot represent different components of the graph."
   ]
  },
  {
   "cell_type": "code",
   "execution_count": null,
   "metadata": {},
   "outputs": [],
   "source": [
    "_, gr_sel = single_run(gr_spain, \"between\", gr_spain.vcount()*0.95)"
   ]
  },
  {
   "cell_type": "code",
   "execution_count": null,
   "metadata": {},
   "outputs": [],
   "source": [
    "ly = ig.Layout(gr_sel.vs['layout'])\n",
    "ly.mirror(1)\n",
    "ig.plot(gr_sel.clusters(), 'grid_iberic_5pct_attack.eps', layout=ly, bbox=(0,0,300,300))"
   ]
  },
  {
   "cell_type": "markdown",
   "metadata": {},
   "source": [
    "Check the number of components"
   ]
  },
  {
   "cell_type": "code",
   "execution_count": null,
   "metadata": {},
   "outputs": [],
   "source": [
    "len(gr_sel.clusters().sizes())"
   ]
  },
  {
   "cell_type": "markdown",
   "metadata": {},
   "source": [
    "And distribution of their sizes. We can see that we have many small components."
   ]
  },
  {
   "cell_type": "code",
   "execution_count": null,
   "metadata": {},
   "outputs": [],
   "source": [
    "plt.hist(gr_sel.clusters().sizes(), 50);"
   ]
  },
  {
   "cell_type": "code",
   "execution_count": null,
   "metadata": {},
   "outputs": [],
   "source": [
    "df = pd.DataFrame({'size': gr_sel.clusters().sizes()})"
   ]
  },
  {
   "cell_type": "code",
   "execution_count": null,
   "metadata": {},
   "outputs": [],
   "source": [
    "df['size'].value_counts().sort_index()"
   ]
  },
  {
   "cell_type": "code",
   "execution_count": null,
   "metadata": {},
   "outputs": [],
   "source": [
    "_, gr_sel = single_run(gr_spain, \"degree\", gr_spain.vcount()*0.95)"
   ]
  },
  {
   "cell_type": "code",
   "execution_count": null,
   "metadata": {},
   "outputs": [],
   "source": [
    "plt.hist(gr_sel.clusters().sizes(), 50);"
   ]
  },
  {
   "cell_type": "code",
   "execution_count": null,
   "metadata": {},
   "outputs": [],
   "source": [
    "df = pd.DataFrame({'size': gr_sel.clusters().sizes()})\n",
    "df['size'].value_counts().sort_index()"
   ]
  },
  {
   "cell_type": "markdown",
   "metadata": {},
   "source": [
    "This time we get more components, but the larger components are bigger."
   ]
  },
  {
   "cell_type": "markdown",
   "metadata": {},
   "source": [
    "# Power law"
   ]
  },
  {
   "cell_type": "markdown",
   "metadata": {},
   "source": [
    "Here we investigate the scenario where we simulate a graph whose degree distribution follows the power law."
   ]
  },
  {
   "cell_type": "markdown",
   "metadata": {},
   "source": [
    "As the initial graph might be disconnected, note that there is a drop in order parameter when we start the process."
   ]
  },
  {
   "cell_type": "markdown",
   "metadata": {},
   "source": [
    "In all compared scenarios we generate a graph with 2000 nodes and mean degree 4 and change the power law exponent only."
   ]
  },
  {
   "cell_type": "code",
   "execution_count": null,
   "metadata": {},
   "outputs": [],
   "source": [
    "def gen_pl(exponent):\n",
    "    g = ig.Graph.Static_Power_Law(2000, 4000, exponent)\n",
    "    return (single_run(g, \"random\")[0], single_run(g, \"degree\")[0], single_run(g, \"between\")[0])"
   ]
  },
  {
   "cell_type": "code",
   "execution_count": null,
   "metadata": {},
   "outputs": [],
   "source": [
    "plt.rcParams[\"figure.figsize\"] = (15, 6)"
   ]
  },
  {
   "cell_type": "markdown",
   "metadata": {},
   "source": [
    "the above computations are slow, because computing betweenness is expansive."
   ]
  },
  {
   "cell_type": "code",
   "execution_count": null,
   "metadata": {},
   "outputs": [],
   "source": [
    "r4, d4, b4 = gen_pl(4)\n",
    "r3, d3, b3 = gen_pl(3)\n",
    "r25, d25, b25 = gen_pl(2.5)\n",
    "r2, d2, b2 = gen_pl(2)\n",
    "\n",
    "fig, (ax1, ax2, ax3) = plt.subplots(1, 3)\n",
    "ax1.plot(r4)\n",
    "ax1.plot(r3)\n",
    "ax1.plot(r25)\n",
    "ax1.plot(r2)\n",
    "ax1.set_title(\"random\")\n",
    "ax1.legend([\"4\", \"3\", \"2.5\", \"2\"])\n",
    "\n",
    "ax2.plot(d4)\n",
    "ax2.plot(d3)\n",
    "ax2.plot(d25)\n",
    "ax2.plot(d2)\n",
    "ax2.set_title(\"max degree\")\n",
    "ax2.legend([\"4\", \"3\", \"2.5\", \"2\"])\n",
    "\n",
    "ax3.plot(b4)\n",
    "ax3.plot(b3)\n",
    "ax3.plot(b25)\n",
    "ax3.plot(b2)\n",
    "ax3.set_title(\"max betweenness\")\n",
    "ax3.legend([\"4\", \"3\", \"2.5\", \"2\"])\n",
    "\n",
    "plt.savefig('op_power_law.eps', format='eps')"
   ]
  },
  {
   "cell_type": "markdown",
   "metadata": {},
   "source": [
    "# Assortative"
   ]
  },
  {
   "cell_type": "markdown",
   "metadata": {},
   "source": [
    "Next we turn our analysis to checking how network assortativity influences the order parameter."
   ]
  },
  {
   "cell_type": "code",
   "execution_count": null,
   "metadata": {},
   "outputs": [],
   "source": [
    "## Xulvi-Brunet and Sokolov algorithm with power law underlying graph\n",
    "def XBS(q, assortative):\n",
    "    g = ig.Graph.Static_Power_Law(2000, 4000, 3)\n",
    "    g.es['touched'] = False\n",
    "    ec = g.ecount()\n",
    "    while True:\n",
    "        re = np.random.choice(ec, 2, replace=False)\n",
    "        nodes = list(g.es[re[0]].tuple+g.es[re[1]].tuple)\n",
    "        if len(set(nodes))==4:\n",
    "            ## with proba q, wire w.r.t. assortativity, else randomly\n",
    "            if np.random.random()<q:\n",
    "                idx = np.argsort(g.degree(nodes))\n",
    "                if assortative:\n",
    "                    e1 = (nodes[idx[0]],nodes[idx[1]])\n",
    "                    e2 = (nodes[idx[2]],nodes[idx[3]])\n",
    "                else:\n",
    "                    e1 = (nodes[idx[0]],nodes[idx[3]])\n",
    "                    e2 = (nodes[idx[1]],nodes[idx[2]])\n",
    "            else:\n",
    "                np.random.shuffle(nodes)\n",
    "                e1 = (nodes[0],nodes[1])\n",
    "                e2 = (nodes[2],nodes[3])\n",
    "            if g.get_eid(e1[0], e1[1], directed=False, error=False)+\\\n",
    "               g.get_eid(e2[0], e2[1], directed=False, error=False) == -2:\n",
    "                    g.delete_edges(re)\n",
    "                    g.add_edge(e1[0],e1[1],touched=True)\n",
    "                    g.add_edge(e2[0],e2[1],touched=True)\n",
    "            else:\n",
    "                g.es[re[0]]['touched']=True\n",
    "                g.es[re[1]]['touched']=True\n",
    "        if sum(g.es['touched']) == g.ecount():\n",
    "            break\n",
    "    return (single_run(g, \"random\")[0], single_run(g, \"degree\")[0], single_run(g, \"between\")[0])"
   ]
  },
  {
   "cell_type": "markdown",
   "metadata": {},
   "source": [
    "In the scenarios we again make the graphs to have a comparable number of nodes and average degree to grid network."
   ]
  },
  {
   "cell_type": "markdown",
   "metadata": {},
   "source": [
    "Positive assortativity scenario"
   ]
  },
  {
   "cell_type": "code",
   "execution_count": null,
   "metadata": {},
   "outputs": [],
   "source": [
    "ra, da, ba = XBS(3/4, True)\n",
    "rd, dd, bd = XBS(3/4, False)\n",
    "r0, d0, b0 = XBS(0, True)\n",
    "\n",
    "fig, (ax1, ax2, ax3) = plt.subplots(1, 3)\n",
    "ax1.plot(ra)\n",
    "ax1.plot(rd)\n",
    "ax1.plot(r0)\n",
    "ax1.set_title(\"random\")\n",
    "ax1.legend([\"assortative\", \"dissortative\", \"zero\"])\n",
    "\n",
    "ax2.plot(da)\n",
    "ax2.plot(dd)\n",
    "ax2.plot(d0)\n",
    "ax2.set_title(\"max degree\")\n",
    "ax2.legend([\"assortative\", \"dissortative\", \"zero\"])\n",
    "\n",
    "ax3.plot(ba)\n",
    "ax3.plot(bd)\n",
    "ax3.plot(b0)\n",
    "ax3.set_title(\"max betweenness\")\n",
    "ax3.legend([\"assortative\", \"dissortative\", \"zero\"])\n",
    "\n",
    "plt.savefig('op_assortative.eps', format='eps')"
   ]
  },
  {
   "cell_type": "markdown",
   "metadata": {},
   "source": [
    "Negative assortivity scenario"
   ]
  },
  {
   "cell_type": "markdown",
   "metadata": {},
   "source": [
    "No assortivity scenario"
   ]
  },
  {
   "cell_type": "markdown",
   "metadata": {},
   "source": [
    "We can observe that for random failure model the higher assortativity makes the decreas of order parameter more evenly distributed.\n",
    "\n",
    "For maximum degree attack scenario we note the reverse - lower assortativity leads to more evenly distributed decerase of order parameter."
   ]
  },
  {
   "cell_type": "markdown",
   "metadata": {},
   "source": [
    "# Communities"
   ]
  },
  {
   "cell_type": "markdown",
   "metadata": {},
   "source": [
    "The last experiment we perform is with a graph that contains communities. We used ABCD graph generator with $\\xi\\in\\{0.1,0.4,0.7,1.0\\}$.\n",
    "\n",
    "Again we tune the graphs to roughly follow the node count and average node degree of a grid graph."
   ]
  },
  {
   "cell_type": "code",
   "execution_count": null,
   "metadata": {},
   "outputs": [],
   "source": [
    "def read_graph(name):\n",
    "    g = ig.Graph.Read_Ncol(datadir+'ABCD/edge'+name+'.dat',directed=False)\n",
    "    print(\"node count: \", g.vcount())\n",
    "    print(\"mean degree:\", np.mean(g.degree()))\n",
    "    return single_run(g, \"random\")[0], single_run(g, \"degree\")[0], single_run(g, \"between\")[0]"
   ]
  },
  {
   "cell_type": "markdown",
   "metadata": {},
   "source": [
    "As you can see - in this case we do not see a significant influence of $\\xi$ parameter on the results."
   ]
  },
  {
   "cell_type": "code",
   "execution_count": null,
   "metadata": {},
   "outputs": [],
   "source": [
    "r01, d01, b01 = read_graph('01')\n",
    "r04, d04, b04 = read_graph('04')\n",
    "r07, d07, b07 = read_graph('07')\n",
    "r10, d10, b10 = read_graph('10')\n",
    "\n",
    "fig, (ax1, ax2, ax3) = plt.subplots(1, 3)\n",
    "ax1.plot(r01)\n",
    "ax1.plot(r04)\n",
    "ax1.plot(r07)\n",
    "ax1.plot(r10)\n",
    "ax1.set_title(\"random\")\n",
    "ax1.legend([\"0.1\", \"0.4\", \"0.7\", \"1.0\"])\n",
    "\n",
    "ax2.plot(d01)\n",
    "ax2.plot(d04)\n",
    "ax2.plot(d07)\n",
    "ax2.plot(d10)\n",
    "ax2.set_title(\"max degree\")\n",
    "ax2.legend([\"0.1\", \"0.4\", \"0.7\", \"1.0\"])\n",
    "\n",
    "ax3.plot(b01)\n",
    "ax3.plot(b04)\n",
    "ax3.plot(b07)\n",
    "ax3.plot(b10)\n",
    "ax3.set_title(\"max betweenness\")\n",
    "ax3.legend([\"0.1\", \"0.4\", \"0.7\", \"1.0\"])\n",
    "\n",
    "plt.savefig('op_communities.eps', format='eps')"
   ]
  },
  {
   "cell_type": "code",
   "execution_count": null,
   "metadata": {},
   "outputs": [],
   "source": [
    "fig, (ax2, ax3) = plt.subplots(1, 2)\n",
    "ax2.plot(d01[:300])\n",
    "ax2.plot(d04[:300])\n",
    "ax2.plot(d07[:300])\n",
    "ax2.plot(d10[:300])\n",
    "ax2.set_title(\"max degree\")\n",
    "ax2.legend([\"0.1\", \"0.4\", \"0.7\", \"1.0\"])\n",
    "\n",
    "ax3.plot(b01[:300])\n",
    "ax3.plot(b04[:300])\n",
    "ax3.plot(b07[:300])\n",
    "ax3.plot(b10[:300])\n",
    "ax3.set_title(\"max betweenness\")\n",
    "ax3.legend([\"0.1\", \"0.4\", \"0.7\", \"1.0\"])"
   ]
  }
 ],
 "metadata": {
  "kernelspec": {
   "display_name": "Python 3",
   "language": "python",
   "name": "python3"
  },
  "language_info": {
   "codemirror_mode": {
    "name": "ipython",
    "version": 3
   },
   "file_extension": ".py",
   "mimetype": "text/x-python",
   "name": "python",
   "nbconvert_exporter": "python",
   "pygments_lexer": "ipython3",
   "version": "3.8.5"
  }
 },
 "nbformat": 4,
 "nbformat_minor": 4
}

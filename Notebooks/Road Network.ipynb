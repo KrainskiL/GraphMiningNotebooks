{
 "cells": [
  {
   "cell_type": "code",
   "execution_count": null,
   "metadata": {},
   "outputs": [],
   "source": [
    "# the source graph was prepared using the map taken from:\n",
    "# https://github.com/pszufe/OpenStreetMapX.jl/blob/master/test/data/reno_east3.osm\n",
    "\n",
    "## path to datasets\n",
    "datadir='../Datasets/'\n",
    "\n",
    "## package to add:\n",
    "## conda install folium\n"
   ]
  },
  {
   "cell_type": "code",
   "execution_count": null,
   "metadata": {},
   "outputs": [],
   "source": [
    "import folium as flm \n",
    "import igraph as ig\n",
    "import numpy as np\n",
    "import pandas as pd\n",
    "import matplotlib.pyplot as plt"
   ]
  },
  {
   "cell_type": "markdown",
   "metadata": {},
   "source": [
    "Major limitations of the simplified simulation\n",
    "* real road graphs are directed\n",
    "* we ignore number of lanes\n",
    "* we ignore speed limits\n",
    "* we ignore restrictions on turning on intersections\n",
    "* we ignore street lights\n",
    "* we ignore road usage restrictions\n",
    "* we ignore road class\n",
    "* we assume uniform source and destination locations\n",
    "\n",
    "We build two variants: ignoring and not ingoring road length"
   ]
  },
  {
   "cell_type": "code",
   "execution_count": null,
   "metadata": {},
   "outputs": [],
   "source": [
    "## build undirected weighted graph\n",
    "g_edges = pd.read_csv(datadir+'Reno/weights.csv')\n",
    "nv = 1 + max(max(g_edges[\"from\"]), max(g_edges[\"to\"]))\n",
    "\n",
    "g = ig.Graph(directed=False)\n",
    "g.add_vertices(nv)\n",
    "\n",
    "for i in range(len(g_edges)):\n",
    "    g.add_edge(g_edges[\"from\"][i], g_edges[\"to\"][i])\n",
    "\n",
    "g.es['weight'] = g_edges[\"w\"]"
   ]
  },
  {
   "cell_type": "code",
   "execution_count": null,
   "metadata": {},
   "outputs": [],
   "source": [
    "## read lat/lon position of nodes (intersections)\n",
    "meta = pd.read_csv(datadir+'Reno/nodeloc.csv')\n",
    "\n",
    "g.vs['longitude'] = list(meta['lon'])\n",
    "g.vs['latitude'] = list(meta['lat'])\n",
    "g.vs['layout'] = [(v['longitude'],v['latitude']) for v in g.vs]"
   ]
  },
  {
   "cell_type": "code",
   "execution_count": null,
   "metadata": {},
   "outputs": [],
   "source": [
    "## keep giant connected component only\n",
    "g = g.clusters().giant()"
   ]
  },
  {
   "cell_type": "markdown",
   "metadata": {},
   "source": [
    "## Using betweenness without edge weights (road length)\n",
    "\n",
    "We distinguish 4 types of nodes w.r.t. betweenness:\n",
    "* the heaviest one (green)\n",
    "* the very heavy ones (red), 99th percentile\n",
    "* heavy ones (violet), 90th percentile\n",
    "* others (black)"
   ]
  },
  {
   "cell_type": "code",
   "execution_count": null,
   "metadata": {},
   "outputs": [],
   "source": [
    "## compute betweenness and plot distribution\n",
    "bet = g.betweenness()\n",
    "plt.hist(bet, 50);"
   ]
  },
  {
   "cell_type": "code",
   "execution_count": null,
   "metadata": {},
   "outputs": [],
   "source": [
    "## color and size w.r.t. 4 types of nodes\n",
    "top_node = max(bet)\n",
    "very_heavy_usage = np.quantile(bet, 0.99)\n",
    "heavy_usage = np.quantile(bet, 0.9)\n",
    "\n",
    "g.vs['color'] = [\"black\" if b < heavy_usage else \"violet\" if b < very_heavy_usage else \"green\" if b == top_node else \"red\" for b in bet]\n",
    "g.vs['size'] = [3 if b < heavy_usage else 5 if b < very_heavy_usage else 15 if b == top_node else 8 for b in bet]"
   ]
  },
  {
   "cell_type": "code",
   "execution_count": null,
   "metadata": {},
   "outputs": [],
   "source": [
    "## plot highlighting intersections with high betweenness\n",
    "ly = ig.Layout(g.vs['layout'])\n",
    "ly.mirror(1)\n",
    "ig.plot(g, layout=ly, vertex_size=g.vs['size'], vertex_color=g.vs['color'], edge_arrow_size=0.7, edge_arrow_width=0.7)"
   ]
  },
  {
   "cell_type": "markdown",
   "metadata": {},
   "source": [
    "#### When we do map overlay we note that there is a river in the middle of the plot going from west to east."
   ]
  },
  {
   "cell_type": "code",
   "execution_count": null,
   "metadata": {},
   "outputs": [],
   "source": [
    "MAP_BOUNDS = ((39.5001-0.001, -119.802-0.001), (39.5435+0.001, -119.7065+0.001))\n",
    "m_plot = flm.Map()\n",
    "\n",
    "for v in g.vs:\n",
    "    flm.Circle(\n",
    "        (v['latitude'], v['longitude']),\n",
    "        radius=10, color=v['color'], weight= v['size'],\n",
    "        fill=True, fill_color=v['color']).add_to(m_plot)\n",
    "\n",
    "for e in g.es:\n",
    "    v1 = g.vs[e.source]\n",
    "    v2 = g.vs[e.target]\n",
    "    flm.PolyLine(\n",
    "        [(v1['latitude'], v1['longitude']), (v2['latitude'], v2['longitude'])],\n",
    "        color=\"black\", weight=1).add_to(m_plot)\n",
    "\n",
    "flm.Rectangle(MAP_BOUNDS, color=\"blue\",weight=4).add_to(m_plot)\n",
    "m_plot.fit_bounds(MAP_BOUNDS)\n",
    "m_plot"
   ]
  },
  {
   "cell_type": "markdown",
   "metadata": {},
   "source": [
    "## Using betweenness with edge weights (road length)\n"
   ]
  },
  {
   "cell_type": "code",
   "execution_count": null,
   "metadata": {},
   "outputs": [],
   "source": [
    "## compute betweenness and plot distribution\n",
    "bet = g.betweenness(weights=g.es['weight'])\n",
    "plt.hist(bet, 50);"
   ]
  },
  {
   "cell_type": "code",
   "execution_count": null,
   "metadata": {},
   "outputs": [],
   "source": [
    "## color w.r.t. 4 node types\n",
    "top_node = max(bet)\n",
    "very_heavy_usage = np.quantile(bet, 0.99)\n",
    "heavy_usage = np.quantile(bet, 0.9)\n",
    "\n",
    "g.vs['color'] = [\"black\" if b < heavy_usage else \"violet\" if b < very_heavy_usage else \"green\" if b == top_node else \"red\" for b in bet]\n",
    "g.vs['size'] = [3 if b < heavy_usage else 5 if b < very_heavy_usage else 15 if b == top_node else 8 for b in bet]"
   ]
  },
  {
   "cell_type": "code",
   "execution_count": null,
   "metadata": {},
   "outputs": [],
   "source": [
    "## plot highlighting intersections with high betweenness\n",
    "ly = ig.Layout(g.vs['layout'])\n",
    "ly.mirror(1)\n",
    "ig.plot(g, layout=ly, vertex_size=g.vs['size'], vertex_color=g.vs['color'], edge_arrow_size=0.7, edge_arrow_width=0.7)"
   ]
  },
  {
   "cell_type": "code",
   "execution_count": null,
   "metadata": {},
   "outputs": [],
   "source": [
    "MAP_BOUNDS = ((39.5001-0.001, -119.802-0.001), (39.5435+0.001, -119.7065+0.001))\n",
    "m_plot = flm.Map()\n",
    "\n",
    "for v in g.vs:\n",
    "    flm.Circle(\n",
    "        (v['latitude'], v['longitude']),\n",
    "        radius=10, color=v['color'], weight= v['size'],\n",
    "        fill=True, fill_color=v['color']).add_to(m_plot)\n",
    "\n",
    "for e in g.es:\n",
    "    v1 = g.vs[e.source]\n",
    "    v2 = g.vs[e.target]\n",
    "    flm.PolyLine(\n",
    "        [(v1['latitude'], v1['longitude']), (v2['latitude'], v2['longitude'])],\n",
    "        color=\"black\", weight=1).add_to(m_plot)\n",
    "\n",
    "flm.Rectangle(MAP_BOUNDS, color=\"blue\",weight=4).add_to(m_plot)\n",
    "m_plot.fit_bounds(MAP_BOUNDS)\n",
    "m_plot"
   ]
  }
 ],
 "metadata": {
  "kernelspec": {
   "display_name": "Python 3",
   "language": "python",
   "name": "python3"
  },
  "language_info": {
   "codemirror_mode": {
    "name": "ipython",
    "version": 3
   },
   "file_extension": ".py",
   "mimetype": "text/x-python",
   "name": "python",
   "nbconvert_exporter": "python",
   "pygments_lexer": "ipython3",
   "version": "3.7.9"
  }
 },
 "nbformat": 4,
 "nbformat_minor": 4
}

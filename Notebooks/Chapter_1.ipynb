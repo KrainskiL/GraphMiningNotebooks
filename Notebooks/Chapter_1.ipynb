{
 "cells": [
  {
   "cell_type": "code",
   "execution_count": null,
   "metadata": {},
   "outputs": [],
   "source": [
    "import igraph as ig\n",
    "import numpy as np\n",
    "import pandas as pd\n",
    "import matplotlib.pyplot as plt\n",
    "from sklearn.linear_model import LinearRegression\n",
    "from collections import Counter\n",
    "import plfit\n",
    "from statsmodels.distributions.empirical_distribution import ECDF as ecdf\n",
    "\n",
    "datadir='../Datasets/'"
   ]
  },
  {
   "cell_type": "markdown",
   "metadata": {},
   "source": [
    "Just looking at basic statistics on degree distribution and shortest paths, we can identify huge difference between different types of graphs. Here we look at a social-type graph, and a transportation-type network."
   ]
  },
  {
   "cell_type": "markdown",
   "metadata": {},
   "source": [
    "## GitHub Developpers (undirected)\n",
    "\n",
    "Description\n",
    "\n",
    "A large social network of GitHub developers which was collected from the public API in June 2019. Nodes are developers who have starred at least 10 repositories and edges are mutual follower relationships between them. The vertex features are extracted based on the location, repositories starred, employer and e-mail address. The task related to the graph is binary node classification - one has to predict whether the GitHub user is a web or a machine learning developer. This target feature was derived from the job title of each user.\n",
    "\n",
    "Properties\n",
    "\n",
    "- Nodes: 37,700\n",
    "- Edges: 289,003\n",
    "- Transitvity: 0.013\n"
   ]
  },
  {
   "cell_type": "markdown",
   "metadata": {},
   "source": [
    "## Europe Electric Grid\n",
    "\n",
    "Details at:\n",
    "https://zenodo.org/record/47317#.Xt6nzy3MxTY\n",
    "\n"
   ]
  },
  {
   "cell_type": "code",
   "execution_count": null,
   "metadata": {},
   "outputs": [],
   "source": [
    "## read the GitHub edge list into a graph\n",
    "D = pd.read_csv(datadir+'GitHubDeveloppers/musae_git_edges.csv')\n",
    "tuples = [tuple(x) for x in D.values]\n",
    "gh = ig.Graph.TupleList(tuples, directed = False)\n",
    "\n",
    "## add some node features, here there are\n",
    "## 2 class of nodes, 0: web developper (red), 1: ml developper (blue)\n",
    "X = pd.read_csv(datadir+'GitHubDeveloppers/musae_git_target.csv')\n",
    "idx = [int(i) for i in gh.vs['name']]\n",
    "sorterIndex = dict(zip(idx,range(len(idx))))\n",
    "X['Rank'] = X['id'].map(sorterIndex)\n",
    "X.sort_values(['Rank'], ascending=[True],inplace=True)\n",
    "X.dropna(inplace=True)\n",
    "gh.vs['target'] = list(X['ml_target'])\n",
    "cls = ['grey','black']\n",
    "lbl = ['web','ml']\n",
    "gh.vs['color'] = [cls[i] for i in list(X['ml_target'])]\n",
    "gh.vs['lbl'] = [lbl[i] for i in list(X['ml_target'])]\n",
    "gh.es['color'] = 'grey'"
   ]
  },
  {
   "cell_type": "code",
   "execution_count": null,
   "metadata": {},
   "outputs": [],
   "source": [
    "## read edge list for the grid network\n",
    "gr = ig.Graph.Read_Ncol(datadir+'GridEurope/gridkit_europe-highvoltage.edges', directed=False)\n",
    "gr = gr.simplify()\n",
    "\n",
    "## read the vertices along with some attributes\n",
    "X = pd.read_csv(datadir+'GridEurope/gridkit_europe-highvoltage.vertices')\n",
    "idx = [int(i) for i in gr.vs['name']]\n",
    "sorterIndex = dict(zip(idx,range(len(idx))))\n",
    "X['Rank'] = X['v_id'].map(sorterIndex)\n",
    "X.sort_values(['Rank'], ascending=[True],inplace=True)\n",
    "X.dropna(inplace=True)\n",
    "gr.vs['longitude'] = list(X['lon'])\n",
    "gr.vs['latitude'] = list(X['lat'])\n",
    "gr.vs['type'] = list(X['typ'])\n",
    "gr.vs['layout'] = [(v['longitude'],v['latitude']) for v in gr.vs()]\n",
    "gr.vs['size'] = 3\n",
    "gr.es['color'] = 'grey'\n",
    "gr.vs['color'] = 'black'"
   ]
  },
  {
   "cell_type": "code",
   "execution_count": null,
   "metadata": {},
   "outputs": [],
   "source": [
    "## for github, 9739 are ml developpers, build the subgraphs\n",
    "gh_ml = gh.subgraph([v for v in gh.vs() if v['lbl']=='ml'])\n",
    "gh_web = gh.subgraph([v for v in gh.vs() if v['lbl']=='web'])"
   ]
  },
  {
   "cell_type": "code",
   "execution_count": null,
   "metadata": {},
   "outputs": [],
   "source": [
    "## basic stats in a table\n",
    "S = []\n",
    "deg = gh.degree()\n",
    "S.append(['GitHub',gh.vcount(),gh.ecount(),np.min(deg),np.mean(deg),np.median(deg),np.quantile(deg,.99),\n",
    "      np.max(deg),gh.diameter(),np.max(gh.clusters().membership)+1,gh.clusters().giant().vcount(),\n",
    "         sum([x==0 for x in gh.degree()])])\n",
    "deg = gh_ml.degree()\n",
    "S.append(['GitHub (ml)',gh_ml.vcount(),gh_ml.ecount(),np.min(deg),np.mean(deg),np.median(deg),np.quantile(deg,.99),\n",
    "      np.max(deg),gh_ml.diameter(),np.max(gh_ml.clusters().membership)+1,gh_ml.clusters().giant().vcount(),\n",
    "         sum([x==0 for x in gh_ml.degree()])])\n",
    "deg = gh_web.degree()\n",
    "S.append(['GitHub (web)',gh_web.vcount(),gh_web.ecount(),np.min(deg),np.mean(deg),np.median(deg),np.quantile(deg,.99),\n",
    "      np.max(deg),gh_web.diameter(),np.max(gh_web.clusters().membership)+1,gh_web.clusters().giant().vcount(),\n",
    "         sum([x==0 for x in gh_web.degree()])])\n",
    "deg = gr.degree()\n",
    "S.append(['Grid',gr.vcount(),gr.ecount(),np.min(deg),np.mean(deg),np.median(deg),np.quantile(deg,.99),\n",
    "      np.max(deg),gr.diameter(),np.max(gr.clusters().membership)+1,gr.clusters().giant().vcount(),\n",
    "         sum([x==0 for x in gr.degree()])])\n"
   ]
  },
  {
   "cell_type": "code",
   "execution_count": null,
   "metadata": {},
   "outputs": [],
   "source": [
    "D = pd.DataFrame(S,columns=['graph','nodes','edges',r'$d_{min}$',r'$d_{mean}$',\n",
    "                             r'$d_{median}$',r'$d_{quant_{99}}$',r'$d_{max}$','diameter','components','largest','isolates'])"
   ]
  },
  {
   "cell_type": "code",
   "execution_count": null,
   "metadata": {},
   "outputs": [],
   "source": [
    "D = D.transpose()\n",
    "D"
   ]
  },
  {
   "cell_type": "code",
   "execution_count": null,
   "metadata": {},
   "outputs": [],
   "source": [
    "## To produce LaTeX from a DataFrame\n",
    "#df = D.round(decimals=3)\n",
    "#print(df.to_latex(index=True))"
   ]
  },
  {
   "cell_type": "code",
   "execution_count": null,
   "metadata": {},
   "outputs": [],
   "source": [
    "## count ml with connection to web only\n",
    "c_ml = c_web = 0\n",
    "for v in gh.vs():\n",
    "    if v['lbl']=='ml':\n",
    "        if set([gh.vs[i]['lbl'] for i in gh.neighbors(v)])=={'web'}:\n",
    "            c_ml+=1\n",
    "    else:\n",
    "        if set([gh.vs[i]['lbl'] for i in gh.neighbors(v)])=={'ml'}:\n",
    "            c_web+=1\n",
    "print(c_ml,'ml connected only to web and',c_web,'web connected only to ml')        "
   ]
  },
  {
   "cell_type": "code",
   "execution_count": null,
   "metadata": {},
   "outputs": [],
   "source": [
    "## degree exponent\n",
    "sg = gr.clusters().giant()\n",
    "d = sg.degree()\n",
    "X = plfit.plfit(d)\n",
    "print(X.plfit()[1])\n",
    "## transitivity\n",
    "print(sg.transitivity_undirected())"
   ]
  },
  {
   "cell_type": "code",
   "execution_count": null,
   "metadata": {},
   "outputs": [],
   "source": [
    "## subgraph of Grid -- Iberic peninsula\n",
    "V = [v for v in gr.vs() if v['latitude']>36 and v['latitude']<44 and v['longitude']>-10 and v['longitude']<4]\n",
    "gr_spain = gr.subgraph(V)\n",
    "ly = ig.Layout(gr_spain.vs['layout'])\n",
    "ly.mirror(1)\n",
    "print(gr_spain.vcount())\n",
    "ig.plot(gr_spain, 'grid_sg.eps', layout=ly, bbox=(0,0,300,300))"
   ]
  },
  {
   "cell_type": "code",
   "execution_count": null,
   "metadata": {},
   "outputs": [],
   "source": [
    "## plot subgraph for github(ml)\n",
    "sg = gh_ml.clusters().giant()\n",
    "ly = sg.layout_auto()\n",
    "sg.vs['x'] = [x[0] for x in ly]\n",
    "sg.vs['y'] = [x[1] for x in ly]\n",
    "\n",
    "## degree exponent\n",
    "d = sg.degree()\n",
    "X = plfit.plfit(d)\n",
    "print(X.plfit()[1])\n",
    "\n",
    "## transitivity\n",
    "print(sg.transitivity_avglocal_undirected())\n"
   ]
  },
  {
   "cell_type": "code",
   "execution_count": null,
   "metadata": {},
   "outputs": [],
   "source": [
    "z = 52\n",
    "V = [v for v in sg.vs() if v['x']<z and v['x']>-z and v['y']<z and v['y']>-z]\n",
    "ssg = sg.subgraph(V).clusters().giant()\n",
    "ssg.vs['size'] = 3\n",
    "print(ssg.vcount())\n",
    "ig.plot(ssg, 'github_ml_sg.eps',bbox=(0,0,300,300))"
   ]
  },
  {
   "cell_type": "code",
   "execution_count": null,
   "metadata": {},
   "outputs": [],
   "source": [
    "## plot subgraph for github (web)\n",
    "sg = gh_web.clusters().giant()\n",
    "ly = sg.layout_auto()\n",
    "sg.vs['x'] = [x[0] for x in ly]\n",
    "sg.vs['y'] = [x[1] for x in ly]\n",
    "\n",
    "## degree exponent\n",
    "d = sg.degree()\n",
    "X = plfit.plfit(d)\n",
    "print(X.plfit()[1])\n",
    "\n",
    "## transitivity\n",
    "print(sg.transitivity_avglocal_undirected())"
   ]
  },
  {
   "cell_type": "code",
   "execution_count": null,
   "metadata": {},
   "outputs": [],
   "source": [
    "z = 66\n",
    "V = [v for v in sg.vs() if v['x']<z and v['x']>-z and v['y']<z and v['y']>-z]\n",
    "ssg = sg.subgraph(V).clusters().giant()\n",
    "ssg.vs['size'] = 3\n",
    "ssg.vs['color'] = 'black'\n",
    "print(ssg.vcount())\n",
    "ig.plot(ssg, 'github_web_sg.eps',bbox=(0,0,300,300))"
   ]
  },
  {
   "cell_type": "code",
   "execution_count": null,
   "metadata": {},
   "outputs": [],
   "source": [
    "## degree distribution - GitHub graph\n",
    "deg = gh.degree()\n",
    "e = ecdf(deg)\n",
    "x = np.arange(1,max(deg),1)\n",
    "y = [e(i) for i in x]\n",
    "plt.semilogx(x,y,'-',color='black',label='GitHub')\n",
    "plt.xlabel('degree',fontsize=14)\n",
    "plt.ylabel('empirical cdf',fontsize=14);\n",
    "#plt.savefig('ecdf_gh.eps');\n"
   ]
  },
  {
   "cell_type": "code",
   "execution_count": null,
   "metadata": {},
   "outputs": [],
   "source": [
    "## degree distribution - Grid graph\n",
    "deg = gr.degree()\n",
    "e = ecdf(deg)\n",
    "x = np.arange(1,30,1)\n",
    "y = [e(i) for i in x]\n",
    "plt.semilogx(x,y,'-',color='black',label='Grid')\n",
    "plt.xlabel('degree',fontsize=14)\n",
    "plt.ylabel('empirical cdf',fontsize=14);\n",
    "#plt.savefig('ecdf_gr.eps');\n"
   ]
  },
  {
   "cell_type": "code",
   "execution_count": null,
   "metadata": {},
   "outputs": [],
   "source": [
    "## shortest paths length from a given node, GitHib graph\n",
    "from collections import Counter\n",
    "V = np.random.choice(gh.vcount(),size=100,replace=False)\n",
    "sp = []\n",
    "for v in V:\n",
    "    sp.extend(gh.shortest_paths(source=v)[0])\n",
    "nb = np.max(sp)+1\n",
    "c = Counter(sp)\n",
    "s = sorted(c.items())\n",
    "\n",
    "fig, ax = plt.subplots()\n",
    "x = [x[0] for x in s]\n",
    "y = [x[1] for x in s]\n",
    "b = ax.bar(x, y, color='darkgrey') \n",
    "\n",
    "ax.set_yscale('log')\n",
    "\n",
    "ax.set_xlabel('path length',fontsize=14)\n",
    "ax.set_ylabel('volume (log scale)',fontsize=14);\n",
    "#plt.savefig('pathlen_github.eps');\n"
   ]
  },
  {
   "cell_type": "code",
   "execution_count": null,
   "metadata": {},
   "outputs": [],
   "source": [
    "## min path length from that node to other nodes, Grid network\n",
    "V = np.random.choice(gr.vcount(),size=100,replace=False)\n",
    "sp = []\n",
    "for v in V:\n",
    "    sp.extend(gr.shortest_paths(source=v)[0])\n",
    "nb = np.max(sp)+1\n",
    "c = Counter(sp)\n",
    "s = sorted(c.items())\n",
    "\n",
    "\n",
    "fig, ax = plt.subplots()\n",
    "x = [x[0] for x in s]\n",
    "y = [x[1] for x in s]\n",
    "b = ax.bar(x, y, color='darkgrey') \n",
    "\n",
    "ax.set_xlabel('path length',fontsize=14)\n",
    "ax.set_ylabel('volume',fontsize=14);\n",
    "#plt.savefig('pathlen_grid.eps');\n",
    "\n"
   ]
  }
 ],
 "metadata": {
  "kernelspec": {
   "display_name": "Python 3",
   "language": "python",
   "name": "python3"
  },
  "language_info": {
   "codemirror_mode": {
    "name": "ipython",
    "version": 3
   },
   "file_extension": ".py",
   "mimetype": "text/x-python",
   "name": "python",
   "nbconvert_exporter": "python",
   "pygments_lexer": "ipython3",
   "version": "3.6.10"
  }
 },
 "nbformat": 4,
 "nbformat_minor": 4
}

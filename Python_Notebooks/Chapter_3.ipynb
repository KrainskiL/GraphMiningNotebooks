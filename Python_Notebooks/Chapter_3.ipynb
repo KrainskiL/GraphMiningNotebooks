{
 "cells": [
  {
   "cell_type": "markdown",
   "metadata": {},
   "source": [
    "## Requirements\n",
    "\n",
    "* python-igraph\n",
    "* set directory in the next cell"
   ]
  },
  {
   "cell_type": "code",
   "execution_count": null,
   "metadata": {},
   "outputs": [],
   "source": [
    "datadir = '../Datasets/'"
   ]
  },
  {
   "cell_type": "code",
   "execution_count": null,
   "metadata": {
    "slideshow": {
     "slide_type": "slide"
    }
   },
   "outputs": [],
   "source": [
    "import igraph as ig\n",
    "import numpy as np\n",
    "import pandas as pd\n",
    "import matplotlib.pyplot as plt\n",
    "from matplotlib import cm\n"
   ]
  },
  {
   "cell_type": "code",
   "execution_count": null,
   "metadata": {},
   "outputs": [],
   "source": [
    "## define colors and node sizes here\n",
    "cls_edges = 'gainsboro'\n",
    "cls = ['silver','dimgray','black']\n",
    "sz = [6,9,12]"
   ]
  },
  {
   "cell_type": "code",
   "execution_count": null,
   "metadata": {},
   "outputs": [],
   "source": [
    "## To produce LaTeX from a DataFrame\n",
    "#df = df.round(decimals=3)\n",
    "#print(df.to_latex(index=False))\n",
    "#print(df.to_latex(index=True))"
   ]
  },
  {
   "cell_type": "markdown",
   "metadata": {},
   "source": [
    "## US Airport Volume of Passengers\n",
    "\n",
    "The nodes are represented by the 3-letter airport codes; we also read in the volume of passengers that we use as edge weights. The edges are directed.\n",
    "\n",
    "We also read node attributes: lat/lon, state, city."
   ]
  },
  {
   "cell_type": "code",
   "execution_count": null,
   "metadata": {},
   "outputs": [],
   "source": [
    "## read edges and build weighted directed graph\n",
    "D = pd.read_csv(datadir+'Airports/connections.csv')\n",
    "g = ig.Graph.TupleList([tuple(x) for x in D.values], directed=True, edge_attrs=['weight'])\n",
    "df = D.head()"
   ]
  },
  {
   "cell_type": "code",
   "execution_count": null,
   "metadata": {},
   "outputs": [],
   "source": [
    "## read vertex attributes and add to graph\n",
    "A = pd.read_csv(datadir+'Airports/airports_loc.csv')\n",
    "lookup = {k:v for v,k in enumerate(A['airport'])}\n",
    "l = [lookup[x] for x in g.vs()['name']]\n",
    "g.vs()['layout'] = [(A['lon'][i],A['lat'][i]) for i in l]\n",
    "g.vs()['state'] = [A['state'][i] for i in l]\n",
    "g.vs()['city'] = [A['city'][i] for i in l]\n",
    "## add a few more attributes for visualization\n",
    "g.vs()['size'] = sz[1]\n",
    "g.vs()['color'] = cls[1]\n",
    "g.es()['color'] = cls_edges\n",
    "g.es()['arrow_size'] = 0.33\n",
    "df = A.head()\n",
    "print(g.vcount(),'nodes and',g.ecount(),'directed edges')"
   ]
  },
  {
   "cell_type": "code",
   "execution_count": null,
   "metadata": {},
   "outputs": [],
   "source": [
    "## graph is weakly connected except for 2 airports\n",
    "cl = g.clusters(mode='WEAK').membership\n",
    "for i in range(g.vcount()):\n",
    "    if cl[i]>0:\n",
    "        print(i, g.vs[i])\n",
    "    "
   ]
  },
  {
   "cell_type": "code",
   "execution_count": null,
   "metadata": {},
   "outputs": [],
   "source": [
    "max(g.coreness())"
   ]
  },
  {
   "cell_type": "code",
   "execution_count": null,
   "metadata": {},
   "outputs": [],
   "source": [
    "max(g.degree())"
   ]
  },
  {
   "cell_type": "markdown",
   "metadata": {},
   "source": [
    "## California subgraph -- we look at several centrality measures "
   ]
  },
  {
   "cell_type": "code",
   "execution_count": null,
   "metadata": {},
   "outputs": [],
   "source": [
    "## Build smaller subgraph for California (you can try other states)\n",
    "hva = [v for v in g.vs() if v['state'] == 'CA']\n",
    "G = g.subgraph(hva)\n",
    "\n",
    "## drop isolated vertices (i.e. without in-state connections)\n",
    "G = G.subgraph([v for v in G.vs() if v.degree()>0])\n",
    "\n",
    "## remove loops\n",
    "G = G.simplify(multiple=False)\n",
    "print(G.vcount(),'nodes and',G.ecount(),'directed edges')\n"
   ]
  },
  {
   "cell_type": "code",
   "execution_count": null,
   "metadata": {},
   "outputs": [],
   "source": [
    "## again the graph is weakly connected except for 2 airports\n",
    "cl = G.clusters(mode='WEAK').membership\n",
    "for i in range(G.vcount()):\n",
    "    if cl[i]>0:\n",
    "        print(G.vs[i])\n"
   ]
  },
  {
   "cell_type": "code",
   "execution_count": null,
   "metadata": {},
   "outputs": [],
   "source": [
    "## plot using lat/lon as layout\n",
    "ly = ig.Layout(G.vs['layout'])\n",
    "ly.mirror(1)\n",
    "ig.plot(G, bbox=(0,0,300,300), layout=ly)"
   ]
  },
  {
   "cell_type": "code",
   "execution_count": null,
   "metadata": {},
   "outputs": [],
   "source": [
    "## compute normalized weights \n",
    "mw = np.max(G.es['weight'])\n",
    "G.es()['normalized_weight'] = [w/mw for w in G.es()['weight']]"
   ]
  },
  {
   "cell_type": "code",
   "execution_count": null,
   "metadata": {},
   "outputs": [],
   "source": [
    "## directed degree centrality\n",
    "def degree_centrality(g, weights=None):\n",
    "    n = g.vcount()\n",
    "    if g.is_directed():\n",
    "        dc = [sum(x)/(2*(n-1)) for x in zip(G.strength(mode='in',weights=weights),\\\n",
    "              G.strength(mode='out',weights=weights))]\n",
    "    else:\n",
    "        dc = [x/(n-1) for x in G.strength(weights=weights)]\n",
    "    return dc"
   ]
  },
  {
   "cell_type": "markdown",
   "metadata": {},
   "source": [
    "## Warning for disconnected graphs\n",
    "\n",
    "In the code below, we get a warning when running closeness centrality, since the graph is not connected.\n",
    "Here are the details from the help file:\n",
    "\n",
    "''If the graph is not connected, and there is no path between two\n",
    "vertices, the number of vertices is used instead the length of\n",
    "the geodesic. This is always longer than the longest possible\n",
    "geodesic.''"
   ]
  },
  {
   "cell_type": "code",
   "execution_count": null,
   "metadata": {},
   "outputs": [],
   "source": [
    "## compute several centrality measures\n",
    "C = pd.DataFrame({'airport':G.vs()['name'],\\\n",
    "                  'degree':degree_centrality(G,weights='normalized_weight'),\\\n",
    "                  'pagerank':G.pagerank(weights='weight'),'authority':G.authority_score(weights='weight'),\\\n",
    "                  'hub':G.hub_score(weights='weight'),'between':G.betweenness(),\\\n",
    "                  'closeness':G.closeness()})\n",
    "## normalize betweenness\n",
    "n = G.vcount()\n",
    "C['between'] = [2*x/((n-1)*(n-2)) for x in C['between']]\n",
    "## sort w.r.t. degree centrality, look at top airports\n",
    "Cs = C.sort_values(by='degree', ascending=False)\n",
    "df = Cs.head()\n",
    "df"
   ]
  },
  {
   "cell_type": "code",
   "execution_count": null,
   "metadata": {},
   "outputs": [],
   "source": [
    "## Remark: this agres with intuition; note however that SAN has high values ... \n",
    "## except for betweenness, \n",
    "## short path therefore mainly go via LAX and SFO."
   ]
  },
  {
   "cell_type": "code",
   "execution_count": null,
   "metadata": {},
   "outputs": [],
   "source": [
    "## bottom ones\n",
    "df = Cs.tail()\n",
    "df"
   ]
  },
  {
   "cell_type": "code",
   "execution_count": null,
   "metadata": {},
   "outputs": [],
   "source": [
    "## highlight top-3 airports w.r.t. pagerank\n",
    "G.vs()['prk'] = C['pagerank']\n",
    "for x in np.argsort(G.vs()['prk'])[-3:]:\n",
    "    G.vs()[x]['color'] = cls[2]\n",
    "    G.vs()[x]['size'] = sz[2]\n",
    "#ig.plot(G,'California.eps',bbox=(0,0,300,300),layout=ly)\n",
    "ig.plot(G,bbox=(0,0,300,300),layout=ly)\n"
   ]
  },
  {
   "cell_type": "code",
   "execution_count": null,
   "metadata": {},
   "outputs": [],
   "source": [
    "## rank-based correlation between measures\n",
    "df = C.corr('kendall')\n",
    "df"
   ]
  },
  {
   "cell_type": "code",
   "execution_count": null,
   "metadata": {},
   "outputs": [],
   "source": [
    "## plot nodes w.r.t. coreness\n",
    "G.vs['color'] = cls[1]\n",
    "G.vs['size'] = sz[1]\n",
    "G.vs()['core'] = G.coreness()\n",
    "Mc = np.max(G.vs()['core'])\n",
    "mc = np.min(G.vs()['core'])\n",
    "print('minimal coreness:',mc)\n",
    "print('maximal coreness:',Mc)\n",
    "for v in G.vs():\n",
    "    if v['core'] == Mc:\n",
    "        v['color'] = cls[2]\n",
    "        v['size'] = sz[2]\n",
    "    if v['core'] <= mc+1:\n",
    "        v['color'] = cls[0]\n",
    "        v['size'] = sz[0]\n",
    "#ig.plot(G,\"California_coreness.eps\",bbox=(0,0,300,300),layout=ly)\n",
    "ig.plot(G,bbox=(0,0,300,300),layout=ly)"
   ]
  },
  {
   "cell_type": "code",
   "execution_count": null,
   "metadata": {},
   "outputs": [],
   "source": [
    "## the above uses the geographical layout, so it is not clear what is going on\n",
    "## let's use a force directed layout\n",
    "## Different coreness is more clear\n",
    "c = [1 if v['core']==13 else 2 if v['core']==2 else 0 for v in G.vs()]\n",
    "ly = G.layout_kamada_kawai()\n",
    "#ig.plot(G,\"California_kamada.eps\",bbox=(0,0,300,300),layout=ly)\n",
    "ig.plot(G,bbox=(0,0,300,300),layout=ly)"
   ]
  },
  {
   "cell_type": "code",
   "execution_count": null,
   "metadata": {},
   "outputs": [],
   "source": [
    "## show closeness centralities, same layout\n",
    "ix = np.round(G.closeness(),decimals=2)\n",
    "G.vs['size'] = 3\n",
    "#ig.plot(G,\"California_closeness.eps\",vertex_label=ix,layout=ly,bbox=(0,0,300,300))\n",
    "ig.plot(G,vertex_label=ix,layout=ly,bbox=(0,0,300,300))"
   ]
  },
  {
   "cell_type": "code",
   "execution_count": null,
   "metadata": {},
   "outputs": [],
   "source": [
    "## now the 13-core is clearly appearing, and we aso observe a small connected component \n",
    "## that was buried in the previous viz.\n",
    "\n",
    "## vertices in 13-core \n",
    "## note that there are less than 14 nodes, this is an interesting remark and\n",
    "## it is because we consider both in and out-going edges by default for directed graph.\n",
    "V = [v['name'] for v in G.vs() if v['core']==Mc]\n",
    "print(V)"
   ]
  },
  {
   "cell_type": "code",
   "execution_count": null,
   "metadata": {},
   "outputs": [],
   "source": [
    "## comparing coreness with other centrality measures\n",
    "C['coreness'] = G.vs['core']\n",
    "df = C.groupby('coreness').median()\n",
    "df"
   ]
  },
  {
   "cell_type": "code",
   "execution_count": null,
   "metadata": {},
   "outputs": [],
   "source": [
    "## group in 3 categories\n",
    "G.vs()['Core'] = ['low' if v['core']<=2 else 'high' if v['core']==13 else 'mid' for v in G.vs()]\n",
    "C['Coreness'] = G.vs['Core']\n",
    "df = C.groupby('Coreness').mean()\n",
    "df = df.drop('coreness',axis=1)\n",
    "df"
   ]
  },
  {
   "cell_type": "code",
   "execution_count": null,
   "metadata": {},
   "outputs": [],
   "source": [
    "## grouped barplot\n",
    "bh = np.array(df.loc[['high']])[0]\n",
    "bm = np.array(df.loc[['mid']])[0]\n",
    "bl = np.array(df.loc[['low']])[0]\n",
    "barWidth = 0.25\n",
    "# Set position of bar on X axis\n",
    "r1 = np.arange(len(bh))\n",
    "r2 = [x + barWidth for x in r1]\n",
    "r3 = [x + barWidth for x in r2]\n",
    " # Make the plot\n",
    "plt.bar(r1, bh, color=cls[2], width=barWidth, edgecolor='white', label='high coreness')\n",
    "plt.bar(r2, bm, color=cls[1], width=barWidth, edgecolor='white', label='mid coreness')\n",
    "plt.bar(r3, bl, color=cls[0], width=barWidth, edgecolor='white', label='low coreness')\n",
    " \n",
    "# Add xticks on the middle of the group bars\n",
    "plt.xlabel('measure',fontsize=14)\n",
    "plt.xticks([r + barWidth for r in range(len(bh))], df.columns, fontsize=10)\n",
    "plt.ylabel('score',fontsize=14) \n",
    "# Create legend & Show graphic\n",
    "plt.legend(fontsize=12);\n",
    "#plt.savefig('California_core_vs_measures.eps',dpi=1200)"
   ]
  },
  {
   "cell_type": "markdown",
   "metadata": {},
   "source": [
    "### delta-centrality example"
   ]
  },
  {
   "cell_type": "code",
   "execution_count": null,
   "metadata": {},
   "outputs": [],
   "source": [
    "## Delta-centrality with a simple pandemic spread model\n",
    "def spread(g, alpha=0.1):\n",
    "    n = g.vcount()\n",
    "    I = np.diag(np.repeat(1,n))\n",
    "    A = np.array(g.get_adjacency().data)\n",
    "    One = np.ones((n,1))\n",
    "    X = np.linalg.inv(I-alpha*np.transpose(A))\n",
    "    Y = np.reshape(X.dot(One)/n,n)\n",
    "    return np.sum(Y)\n",
    "def spread_delta_centrality(g, alpha=0.1):\n",
    "    dc = []\n",
    "    spr = spread(g, alpha=alpha)\n",
    "    for i in g.vs():\n",
    "        G = g.copy()\n",
    "        el = g.incident(i, mode='ALL')\n",
    "        G.delete_edges(el)\n",
    "        dc.append((spr-spread(G, alpha=alpha))/spr)\n",
    "    return dc"
   ]
  },
  {
   "cell_type": "code",
   "execution_count": null,
   "metadata": {},
   "outputs": [],
   "source": [
    "G.vs['delta'] = spread_delta_centrality(G, alpha=.1)\n",
    "DC = pd.DataFrame(np.transpose([G.vs['name'],G.vs['delta'],G.vs['color']]),columns=['airport','delta','color'])\n",
    "DC.sort_values(by='delta',ascending=False, inplace=True)\n",
    "DC.head()"
   ]
  },
  {
   "cell_type": "code",
   "execution_count": null,
   "metadata": {},
   "outputs": [],
   "source": [
    "heights = [float(x) for x in DC['delta']]\n",
    "bars = DC['airport']\n",
    "y_pos = range(len(bars))\n",
    "plt.bar(y_pos, heights, color=DC['color'] )\n",
    "# Rotation of the bars names\n",
    "plt.ylabel('Delta Centrality',fontsize=12)\n",
    "plt.xticks(y_pos, bars, rotation=90)\n",
    "plt.yticks();\n",
    "#plt.savefig('California_delta.eps',dpi=1200)"
   ]
  },
  {
   "cell_type": "markdown",
   "metadata": {},
   "source": [
    "## Group centrality, centralization\n",
    "\n",
    "Back to US graph, \n",
    "- which states have highest delta centralities w.r.t. efficiency?\n",
    "- what about centralization for each state subgraph?"
   ]
  },
  {
   "cell_type": "code",
   "execution_count": null,
   "metadata": {},
   "outputs": [],
   "source": [
    "## group delta centrality\n",
    "def efficiency(g):\n",
    "    n = g.vcount()\n",
    "    s = 0\n",
    "    for i in range(n):\n",
    "        v = g.get_shortest_paths(i)\n",
    "        s += np.sum([1/(len(x)-1) for x in v if len(x) > 1])\n",
    "    return s/(n*(n-1))\n",
    "\n",
    "def efficiency_u(g):\n",
    "    n = g.vcount()\n",
    "    s = 0\n",
    "    for i in range(n):\n",
    "        v = g.get_shortest_paths(i)\n",
    "        s += np.sum([1/len(x) for x in v[i+1:] if len(x)>0])\n",
    "    return s/(n*(n-1))\n",
    "\n",
    "import warnings\n",
    "warnings.filterwarnings('ignore')\n",
    "\n",
    "## group centrality -- by state\n",
    "states = list(set(g.vs()['state']))\n",
    "eff_us = efficiency(g)\n",
    "dc = []\n",
    "for s in states:\n",
    "    v = [x for x in g.vs() if x['state']==s]\n",
    "    G = g.copy()\n",
    "    e = []\n",
    "    for x in v:\n",
    "        e.extend(g.incident(x, mode='ALL'))\n",
    "    G.delete_edges(e)\n",
    "    dc.append((eff_us-efficiency(G))/eff_us)\n",
    "\n",
    "DC = pd.DataFrame({'state':states, 'delta_centrality':dc})\n",
    "DC = DC.sort_values(by='delta_centrality', ascending=False)\n",
    "df = DC.head(3)\n",
    "df"
   ]
  },
  {
   "cell_type": "code",
   "execution_count": null,
   "metadata": {},
   "outputs": [],
   "source": [
    "## lowest\n",
    "df = DC.tail(3)\n",
    "df"
   ]
  },
  {
   "cell_type": "code",
   "execution_count": null,
   "metadata": {},
   "outputs": [],
   "source": [
    "## group centralization (using PageRank) -- by state\n",
    "states = list(set(g.vs()['state']))\n",
    "pr = []\n",
    "st = []\n",
    "for s in states:\n",
    "    v = [x for x in g.vs() if x['state']==s]\n",
    "    if len(v)>5: ## look at states with more than 5 airports only\n",
    "        G = g.subgraph(v)\n",
    "        G = G.simplify(multiple=False) ## drop self-loops\n",
    "        p = G.pagerank(weights='weight')\n",
    "        pr.append(np.max(p) - np.mean(p))\n",
    "        st.append(s)\n",
    "\n",
    "DC = pd.DataFrame({'State':st, 'Pagerank Centralization':pr})\n",
    "DC = DC.sort_values(by='Pagerank Centralization', ascending=False)\n",
    "df = DC.head(3)\n",
    "df\n"
   ]
  },
  {
   "cell_type": "code",
   "execution_count": null,
   "metadata": {},
   "outputs": [],
   "source": [
    "v = [x for x in g.vs() if x['state']=='MI']\n",
    "G = g.subgraph(v)\n",
    "G = G.subgraph([v for v in G.vs() if v.degree()>0])\n",
    "G = G.simplify(multiple=False)\n",
    "#ig.plot(G, 'central_MI.eps', bbox=(0,0,300,300))\n",
    "ig.plot(G,bbox=(0,0,300,300))\n"
   ]
  },
  {
   "cell_type": "code",
   "execution_count": null,
   "metadata": {},
   "outputs": [],
   "source": [
    "G.vs[0]"
   ]
  },
  {
   "cell_type": "code",
   "execution_count": null,
   "metadata": {},
   "outputs": [],
   "source": [
    "## one big hub city: Detroit\n",
    "G.vs['deg'] = G.degree() # overall degree\n",
    "for v in G.vs:\n",
    "    print(v['city'],v['name'],'degree',v['deg'])"
   ]
  },
  {
   "cell_type": "code",
   "execution_count": null,
   "metadata": {},
   "outputs": [],
   "source": [
    "## lowest ones\n",
    "df = DC.tail(3)\n",
    "df"
   ]
  },
  {
   "cell_type": "code",
   "execution_count": null,
   "metadata": {},
   "outputs": [],
   "source": [
    "v = [x for x in g.vs() if x['state']=='ND']\n",
    "G = g.subgraph(v)\n",
    "G = G.subgraph([v for v in G.vs() if v.degree()>0])\n",
    "G = G.simplify(multiple=False)\n",
    "#ig.plot(G, 'central_ND.eps', bbox=(0,0,300,300))\n",
    "ig.plot(G, bbox=(0,0,300,300))"
   ]
  },
  {
   "cell_type": "code",
   "execution_count": null,
   "metadata": {},
   "outputs": [],
   "source": [
    "## no big hub city\n",
    "G.vs['city']"
   ]
  },
  {
   "cell_type": "code",
   "execution_count": null,
   "metadata": {},
   "outputs": [],
   "source": [
    "## what about California?\n",
    "DC[DC['State']=='CA']"
   ]
  }
 ],
 "metadata": {
  "kernelspec": {
   "display_name": "graphs",
   "language": "python",
   "name": "graphs"
  },
  "language_info": {
   "codemirror_mode": {
    "name": "ipython",
    "version": 3
   },
   "file_extension": ".py",
   "mimetype": "text/x-python",
   "name": "python",
   "nbconvert_exporter": "python",
   "pygments_lexer": "ipython3",
   "version": "3.7.9"
  }
 },
 "nbformat": 4,
 "nbformat_minor": 2
}

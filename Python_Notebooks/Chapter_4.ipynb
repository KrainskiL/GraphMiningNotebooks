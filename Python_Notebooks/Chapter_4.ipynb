{
 "cells": [
  {
   "cell_type": "markdown",
   "metadata": {},
   "source": [
    "## Requirements\n",
    "\n",
    "* python-igraph\n",
    "* set directory in the next cell"
   ]
  },
  {
   "cell_type": "code",
   "execution_count": null,
   "metadata": {},
   "outputs": [],
   "source": [
    "datadir = '../Datasets/'"
   ]
  },
  {
   "cell_type": "code",
   "execution_count": null,
   "metadata": {
    "slideshow": {
     "slide_type": "slide"
    }
   },
   "outputs": [],
   "source": [
    "import igraph as ig\n",
    "import numpy as np\n",
    "import pandas as pd\n",
    "import matplotlib.pyplot as plt\n",
    "from sklearn.linear_model import LinearRegression\n",
    "from collections import Counter\n"
   ]
  },
  {
   "cell_type": "code",
   "execution_count": null,
   "metadata": {},
   "outputs": [],
   "source": [
    "## To produce LaTeX from a DataFrame\n",
    "#df = df.round(decimals=3)\n",
    "#print(df.to_latex(index=False))\n",
    "#print(df.to_latex(index=True))"
   ]
  },
  {
   "cell_type": "code",
   "execution_count": null,
   "metadata": {},
   "outputs": [],
   "source": [
    "## define the colors and node sizes here\n",
    "cls_edges = 'gainsboro'\n",
    "cls = ['silver','dimgray','black']\n",
    "sz = [6,9,12]"
   ]
  },
  {
   "cell_type": "markdown",
   "metadata": {},
   "source": [
    "## Useful functions\n"
   ]
  },
  {
   "cell_type": "code",
   "execution_count": null,
   "metadata": {},
   "outputs": [],
   "source": [
    "## Degree correlation functions\n",
    "def deg_corr_directed(G, mode1='all', mode2='all'):\n",
    "    idx = {v:k for k,v in enumerate([i for i in set(G.degree(mode=mode1))])}\n",
    "    idx_inv = {k:v for k,v in enumerate(idx)}\n",
    "    deg = G.degree(mode=mode2)\n",
    "    L = [[] for i in range(len(idx))]\n",
    "    for v in G.vs():\n",
    "        w = [deg[i] for i in list(set(G.neighbors(v, mode='out')))]\n",
    "        L[idx[v.degree(mode=mode1)]].extend(w)\n",
    "    return {idx_inv[i]:np.mean(L[i]) for i in range(len(L))}\n",
    "def deg_corr(G):\n",
    "    idx = {v:k for k,v in enumerate([i for i in set(G.degree())])}\n",
    "    idx_inv = {k:v for k,v in enumerate(idx)}\n",
    "    deg = G.degree()\n",
    "    L = [[] for i in range(len(idx))]\n",
    "    for v in G.vs():\n",
    "        w = [deg[i] for i in list(set(G.neighbors(v)))]\n",
    "        L[idx[v.degree()]].extend(w)\n",
    "    return {idx_inv[i]:np.mean(L[i]) for i in range(len(L))}\n",
    "\n",
    "## degree correlation for neutral graphs\n",
    "## can also be computed as <k^2>/<k>\n",
    "def deg_corr_random(G):\n",
    "    deg = G.degree()\n",
    "    L = []\n",
    "    for v in G.vs():\n",
    "        w = [deg[i] for i in list(set(G.neighbors(v)))]\n",
    "        L.extend(w)\n",
    "    return np.mean(L)\n",
    "def deg_corr_random_directed(G, mode='all'):\n",
    "    deg = G.degree(mode=mode)\n",
    "    L = []\n",
    "    for v in G.vs():\n",
    "        w = [deg[i] for i in list(set(G.neighbors(v,mode='out')))]\n",
    "        L.extend(w)\n",
    "    return np.mean(L)\n",
    "\n",
    "## Correlation exponent via linear regression (taking logs)\n",
    "def corr_exp(G):\n",
    "    ## compute knn's\n",
    "    knn = deg_corr(G)\n",
    "    # Fit the regression\n",
    "    regressor = LinearRegression()  \n",
    "    x = [np.log(i) for i in knn.keys()]\n",
    "    y = [np.log(i) for i in knn.values()]\n",
    "    regressor.fit(np.array(x).reshape(-1,1), y)\n",
    "    return regressor.coef_[0]\n",
    "\n",
    "def richClub(g, l=1):\n",
    "    g.vs()['degree'] = g.degree()\n",
    "    l_max = np.max(g.degree())\n",
    "    c = Counter(g.degree())\n",
    "    n = g.vcount()\n",
    "    moment = np.sum([k*c[k]/n for k in c])**2\n",
    "    S = [k*c[k]/n for k in c if k>=l]\n",
    "    phi_hat = np.sum([x*y for x in S for y in S])*g.ecount()/moment\n",
    "    G = g.subgraph([v for v in g.vs() if v['degree']>=l])\n",
    "    phi = G.ecount()\n",
    "    return phi/phi_hat     \n"
   ]
  },
  {
   "cell_type": "markdown",
   "metadata": {},
   "source": [
    "## US Airport Volume of Passengers\n",
    "\n",
    "same data as in previous chapter, directed weighted graph (passenger volumes)"
   ]
  },
  {
   "cell_type": "code",
   "execution_count": null,
   "metadata": {},
   "outputs": [],
   "source": [
    "## read edges and build weighted directed graph\n",
    "D = pd.read_csv(datadir+'Airports/connections.csv')\n",
    "g = ig.Graph.TupleList([tuple(x) for x in D.values], directed=True, edge_attrs=['weight'])\n",
    "\n",
    "## read vertex attributes and add to graph\n",
    "A = pd.read_csv(datadir+'Airports/airports_loc.csv')\n",
    "lookup = {k:v for v,k in enumerate(A['airport'])}\n",
    "l = [lookup[x] for x in g.vs()['name']]\n",
    "g.vs()['layout'] = [(A['lon'][i],A['lat'][i]) for i in l]\n",
    "g.vs()['state'] = [A['state'][i] for i in l]\n",
    "g.vs()['city'] = [A['city'][i] for i in l]\n",
    "g = g.simplify()\n",
    "\n",
    "## add a few more attributes for visualization\n",
    "g.vs()['size'] = sz[1]\n",
    "g.vs['color'] = cls[1]\n",
    "g.es()['color'] = cls_edges\n"
   ]
  },
  {
   "cell_type": "markdown",
   "metadata": {},
   "source": [
    "## Directed Degree Correlation Functions (4 cases)\n",
    "\n",
    "We consider the 4 combinations in/out vs in/out degrees\n",
    "\n",
    "Dashed lines are for neutral graphs"
   ]
  },
  {
   "cell_type": "code",
   "execution_count": null,
   "metadata": {},
   "outputs": [],
   "source": [
    "knn = deg_corr_directed(g,'in','in')\n",
    "x = list(knn.keys())\n",
    "y = list(knn.values())\n",
    "r = deg_corr_random_directed(g,'in')\n",
    "plt.scatter(x,y,c='black')\n",
    "plt.hlines(y=r,xmin=min(x),xmax=max(x),linestyles=':')\n",
    "plt.ylabel(r'$k_{nn}(\\ell)$',fontsize=12);\n",
    "#plt.savefig('degree_corr_in_in.eps')"
   ]
  },
  {
   "cell_type": "code",
   "execution_count": null,
   "metadata": {},
   "outputs": [],
   "source": [
    "knn = deg_corr_directed(g,'in','out')\n",
    "x = list(knn.keys())\n",
    "y = list(knn.values())\n",
    "r = deg_corr_random_directed(g,'out')\n",
    "plt.scatter(x,y,c='black')\n",
    "plt.hlines(y=r,xmin=min(x),xmax=max(x),linestyles=':');\n",
    "#plt.savefig('degree_corr_in_out.eps')"
   ]
  },
  {
   "cell_type": "code",
   "execution_count": null,
   "metadata": {},
   "outputs": [],
   "source": [
    "knn = deg_corr_directed(g,'out','in')\n",
    "x = list(knn.keys())\n",
    "y = list(knn.values())\n",
    "r = deg_corr_random_directed(g,'in')\n",
    "plt.scatter(x,y,c='black')\n",
    "plt.hlines(y=r,xmin=min(x),xmax=max(x),linestyles=':')\n",
    "plt.xlabel(r'degree ($\\ell$)',fontsize=12)\n",
    "plt.ylabel(r'$k_{nn}(\\ell)$',fontsize=12);\n",
    "#plt.savefig('degree_corr_out_in.eps')"
   ]
  },
  {
   "cell_type": "code",
   "execution_count": null,
   "metadata": {},
   "outputs": [],
   "source": [
    "knn = deg_corr_directed(g,'out','out')\n",
    "x = list(knn.keys())\n",
    "y = list(knn.values())\n",
    "r = deg_corr_random_directed(g,'out')\n",
    "plt.scatter(x,y,c='black')\n",
    "plt.hlines(y=r,xmin=min(x),xmax=max(x),linestyles=':')\n",
    "plt.xlabel(r'degree ($\\ell$)',fontsize=12);\n",
    "#plt.savefig('degree_corr_out_out.eps')"
   ]
  },
  {
   "cell_type": "markdown",
   "metadata": {},
   "source": [
    "## We consider undirected graph from now on\n"
   ]
  },
  {
   "cell_type": "code",
   "execution_count": null,
   "metadata": {},
   "outputs": [],
   "source": [
    "## Undirected graph\n",
    "g = g.as_undirected()\n",
    "g.es()['color'] = cls_edges\n"
   ]
  },
  {
   "cell_type": "markdown",
   "metadata": {},
   "source": [
    "## Degree correlation: also look via log scale"
   ]
  },
  {
   "cell_type": "code",
   "execution_count": null,
   "metadata": {},
   "outputs": [],
   "source": [
    "knn = deg_corr(g)\n",
    "x = list(knn.keys())\n",
    "y = list(knn.values())\n",
    "r = deg_corr_random(g)\n",
    "plt.scatter(x,y,c='black')\n",
    "plt.hlines(y=r,xmin=min(x),xmax=max(x),linestyles=':')\n",
    "plt.xlabel(r'degree ($\\ell$)',fontsize=12)\n",
    "plt.ylabel(r'$k_{nn}(\\ell)$',fontsize=12);\n",
    "#plt.savefig('degree_corr_linear.eps')"
   ]
  },
  {
   "cell_type": "code",
   "execution_count": null,
   "metadata": {},
   "outputs": [],
   "source": [
    "plt.loglog(x,y,'o',c='black')\n",
    "plt.hlines(y=r,xmin=min(x),xmax=max(x),linestyles=':')\n",
    "plt.xlabel(r'degree ($\\ell$)',fontsize=12);\n",
    "#plt.savefig('degree_corr_log.eps');"
   ]
  },
  {
   "cell_type": "markdown",
   "metadata": {},
   "source": [
    "## State by state assortativity and correlation exponent"
   ]
  },
  {
   "cell_type": "code",
   "execution_count": null,
   "metadata": {},
   "outputs": [],
   "source": [
    "## for each state compute degree assortativity (r)\n",
    "## also estimate correlation exponent (mu) via regression (taking the logs)\n",
    "## Show assortativity and mu for states with 5+ vertices\n",
    "L = []\n",
    "for s in set(list(A['state'])):\n",
    "    ## Build state subgraph\n",
    "    hva = [v for v in g.vs() if v['state'] == s]\n",
    "    G = g.subgraph(hva)\n",
    "    ## drop isolated vertices (i.e. without in-state connections)\n",
    "    G = G.subgraph([v for v in G.vs() if v.degree()>0])\n",
    "    ## remove loops\n",
    "    G = G.simplify(multiple=False)\n",
    "    ## only consider graphs with > 5 vertices\n",
    "    if G.vcount() >= 6:\n",
    "        mu = corr_exp(G)        \n",
    "        L.append([s,G.vcount(),G.ecount(),G.assortativity_degree(),mu])\n",
    "P = pd.DataFrame(L,columns=['state','nodes','edges','assortativity','mu'])\n",
    "P = P.sort_values(by='assortativity')"
   ]
  },
  {
   "cell_type": "code",
   "execution_count": null,
   "metadata": {},
   "outputs": [],
   "source": [
    "## top r (starting from -1)\n",
    "df = P.head(5)\n",
    "df"
   ]
  },
  {
   "cell_type": "code",
   "execution_count": null,
   "metadata": {},
   "outputs": [],
   "source": [
    "## bottom r (positive r)\n",
    "df = P.tail(3)\n",
    "df"
   ]
  },
  {
   "cell_type": "code",
   "execution_count": null,
   "metadata": {},
   "outputs": [],
   "source": [
    "## some states are quite small, \n",
    "## but we still see good correlation between r and mu\n",
    "plt.plot(P['assortativity'],P['mu'],'o',color='black')\n",
    "plt.xlabel('degree correlation coefficient ($r$)',fontsize=12)\n",
    "plt.ylabel(r'correlation exponent ($\\mu$)',fontsize=12)\n",
    "print('Person correlation:',np.corrcoef(P['assortativity'],P['mu'])[1,0])\n",
    "ident = [-1.0, 1.0]\n",
    "plt.plot(ident,ident,':',c='gray');\n",
    "#plt.savefig('mu.eps')"
   ]
  },
  {
   "cell_type": "markdown",
   "metadata": {},
   "source": [
    "## Looking at a few states with high/low assortativity"
   ]
  },
  {
   "cell_type": "code",
   "execution_count": null,
   "metadata": {},
   "outputs": [],
   "source": [
    "## positive case: the Dakotas (ND+SD)\n",
    "hva = [v for v in g.vs() if v['state'] == 'SD' or v['state'] == 'ND']\n",
    "G_D = g.subgraph(hva)\n",
    "G_D = G_D.subgraph([v for v in G_D.vs() if v.degree()>0])\n",
    "G_D = G_D.simplify(multiple=False)\n",
    "print('r =',G_D.assortativity_degree(directed=True))\n",
    "#ig.plot(G_D, \"ND_SD.eps\", bbox=(0,0,300,200))\n",
    "ig.plot(G_D, bbox=(0,0,300,200))"
   ]
  },
  {
   "cell_type": "code",
   "execution_count": null,
   "metadata": {
    "scrolled": true
   },
   "outputs": [],
   "source": [
    "## compare r and mu vs random models for the Dakotas: G = SD+ND\n",
    "## here we use the configuration model from Viger and Latapy\n",
    "## we alse report the proportion of nodes above the structural cutoff\n",
    "## given the degree distribution.\n",
    "r = []\n",
    "mu = []\n",
    "for i in range(1000):    \n",
    "    cm = ig.Graph.Degree_Sequence(G_D.degree(),method=\"vl\")\n",
    "    r.append(cm.assortativity_degree())\n",
    "    mu.append(corr_exp(cm))\n",
    "## structural cutoff\n",
    "sc = np.sqrt(2*G_D.ecount())\n",
    "p = len([x for x in G_D.degree() if x > sc])/G_D.vcount()\n",
    "print('r =',G_D.assortativity_degree(),'mu =',corr_exp(G_D),'P(edges above structural cutoff) =', p)\n",
    "plt.boxplot([r,mu],labels=[r'assortativity ($r$)',r'correlation exponent ($\\mu$)'],widths=.7,sym='');\n",
    "#plt.savefig('config_D.eps');"
   ]
  },
  {
   "cell_type": "code",
   "execution_count": null,
   "metadata": {},
   "outputs": [],
   "source": [
    "## degree correlation function for the Dakotas graph\n",
    "knn = deg_corr(G_D)\n",
    "x = list(knn.keys())\n",
    "y = list(knn.values())\n",
    "r = deg_corr_random(G_D)\n",
    "plt.scatter(x,y,c='black')\n",
    "plt.hlines(y=r,xmin=min(x),xmax=max(x),linestyles=':')\n",
    "plt.xlabel('degree (k)',fontsize=12)\n",
    "plt.ylabel(r'$k_{nn}(k)$',fontsize=12);\n",
    "#plt.savefig('degree_corr_D.eps')"
   ]
  },
  {
   "cell_type": "code",
   "execution_count": null,
   "metadata": {},
   "outputs": [],
   "source": [
    "## degree correlation function for a configuration model random graph used above\n",
    "## quite different!\n",
    "knn = deg_corr(cm)\n",
    "x = list(knn.keys())\n",
    "y = list(knn.values())\n",
    "r = deg_corr_random(cm)\n",
    "plt.scatter(x,y,c='black')\n",
    "plt.hlines(y=r,xmin=min(x),xmax=max(x),linestyles=':')\n",
    "plt.xlabel('degree (k)',fontsize=12)\n",
    "plt.ylabel(r'$k_{nn}(k)$',fontsize=12);\n",
    "#plt.savefig('degree_corr_MO_cm.eps')"
   ]
  },
  {
   "cell_type": "code",
   "execution_count": null,
   "metadata": {},
   "outputs": [],
   "source": [
    "## negative case: the MO graph (Missouri) \n",
    "hva = [v for v in g.vs() if v['state'] == 'MO' ]\n",
    "G_MO = g.subgraph(hva)\n",
    "G_MO = G_MO.subgraph([v for v in G_MO.vs() if v.degree()>0])\n",
    "G_MO = G_MO.simplify(multiple=False)\n",
    "print('r =',G_MO.assortativity_degree())\n",
    "#ig.plot(G_MO, \"MO.eps\", bbox=(0,0,300,200))\n",
    "ig.plot(G_MO, bbox=(0,0,300,200))"
   ]
  },
  {
   "cell_type": "code",
   "execution_count": null,
   "metadata": {
    "scrolled": true
   },
   "outputs": [],
   "source": [
    "## r and mu vs random configuration model for MO graph\n",
    "r = []\n",
    "mu = []\n",
    "for i in range(1000):    \n",
    "    cm = ig.Graph.Degree_Sequence(G_MO.degree(),method=\"vl\")\n",
    "    r.append(cm.assortativity_degree())\n",
    "    mu.append(corr_exp(cm))\n",
    "## structural cutoff\n",
    "sc = np.sqrt(2*G_MO.ecount())\n",
    "p = len([x for x in G_MO.degree() if x > sc])/G_MO.vcount()\n",
    "print('r =',G_MO.assortativity_degree(),'mu =',corr_exp(G_MO),'P(edges above structural cutoff) =', p)\n",
    "plt.boxplot([r,mu],labels=[r'assortativity ($r$)',r'correlation exponent ($\\mu$)'],widths=.7,sym='');\n",
    "#plt.savefig('config_MO.eps');"
   ]
  },
  {
   "cell_type": "code",
   "execution_count": null,
   "metadata": {},
   "outputs": [],
   "source": [
    "## we can also use rejection sampling (BEWARE: this can be very slow)\n",
    "G_MO.vs['degree'] = G_MO.degree()\n",
    "V = []\n",
    "for v in G_MO.vs():\n",
    "    V.extend(np.repeat(v.index,v['degree']))\n",
    "r = []\n",
    "mu = []\n",
    "for rep in range(100): ## we used 1000 to generate the plot\n",
    "    notdone = True\n",
    "    while notdone:\n",
    "        np.random.shuffle(V)\n",
    "        notdone = False\n",
    "        rg = ig.Graph()\n",
    "        rg.add_vertices(np.max(V)+1)\n",
    "        for i in np.arange(0,len(V),2):\n",
    "            a, b = V[i], V[i+1]\n",
    "            if a == b or rg.get_eid(a,b,error=False) != -1:\n",
    "                notdone = True\n",
    "                break\n",
    "            else:\n",
    "                rg.add_edge(a,b)\n",
    "    r.append(rg.assortativity_degree())\n",
    "    mu.append(corr_exp(rg))\n",
    "\n",
    "plt.boxplot([r,mu],labels=[r'assortativity ($r$)',r'correlation exponent ($\\mu$)'],widths=.7,sym='');\n",
    "# plt.savefig('reject_MO.png');"
   ]
  },
  {
   "cell_type": "code",
   "execution_count": null,
   "metadata": {},
   "outputs": [],
   "source": [
    "## degree correlation function for MO graph\n",
    "knn = deg_corr(G_MO)\n",
    "x = list(knn.keys())\n",
    "y = list(knn.values())\n",
    "r = deg_corr_random(G_MO)\n",
    "plt.scatter(x,y,c='black')\n",
    "plt.hlines(y=r,xmin=min(x),xmax=max(x),linestyles=':')\n",
    "plt.xlabel('degree (k)',fontsize=12)\n",
    "plt.ylabel(r'$k_{nn}(k)$',fontsize=12);\n",
    "#plt.savefig('degree_corr_MO.eps')"
   ]
  },
  {
   "cell_type": "code",
   "execution_count": null,
   "metadata": {},
   "outputs": [],
   "source": [
    "## degree correlation function for a configuration random graph\n",
    "## quite similar!\n",
    "knn = deg_corr(cm)\n",
    "x = list(knn.keys())\n",
    "y = list(knn.values())\n",
    "r = deg_corr_random(cm)\n",
    "plt.scatter(x,y,c='black')\n",
    "plt.hlines(y=r,xmin=min(x),xmax=max(x),linestyles=':')\n",
    "plt.xlabel('degree (k)',fontsize=12)\n",
    "plt.ylabel(r'$k_{nn}(k)$',fontsize=12);\n",
    "#plt.savefig('degree_corr_MO_cm.eps')"
   ]
  },
  {
   "cell_type": "code",
   "execution_count": null,
   "metadata": {},
   "outputs": [],
   "source": [
    "## state with r = -1 (NE)\n",
    "hva = [v for v in g.vs() if v['state'] == 'NE' ]\n",
    "G = g.subgraph(hva)\n",
    "G = G.subgraph([v for v in G.vs() if v.degree()>0])\n",
    "G = G.simplify(multiple=False)\n",
    "print(G.assortativity_degree())\n",
    "#ig.plot(G, \"NE.eps\", bbox=(0,0,300,200))\n",
    "ig.plot(G,bbox=(0,0,300,200))"
   ]
  },
  {
   "cell_type": "code",
   "execution_count": null,
   "metadata": {},
   "outputs": [],
   "source": [
    "## state with r = +1 (AR) \n",
    "hva = [v for v in g.vs() if v['state'] == 'AR' ]\n",
    "G = g.subgraph(hva)\n",
    "G = G.subgraph([v for v in G.vs() if v.degree()>0])\n",
    "G = G.simplify(multiple=False)\n",
    "print(G.assortativity_degree())\n",
    "#ig.plot(G, \"AR.eps\", bbox=(0,0,300,200))\n",
    "ig.plot(G, bbox=(0,0,300,200))"
   ]
  },
  {
   "cell_type": "markdown",
   "metadata": {},
   "source": [
    "## Back to Overall US Airport graph \n",
    "\n",
    "- friendship paradox illustration\n",
    "- looking for rich club phenomenon\n"
   ]
  },
  {
   "cell_type": "code",
   "execution_count": null,
   "metadata": {},
   "outputs": [],
   "source": [
    "## plot degree vs avg neighbour degree\n",
    "## friendship 'paradox' US Airport graph (overall)\n",
    "deg = [v.degree() for v in g.vs()]\n",
    "nad = []\n",
    "for v in g.vs():\n",
    "    nv = g.neighbors(v)\n",
    "    nad.append(np.mean([deg[i] for i in nv]))\n",
    "\n",
    "plt.scatter(deg,nad,c='black',marker='.')\n",
    "plt.xlim((0,200))\n",
    "plt.ylim((0,200))\n",
    "plt.xlabel('node degree', fontsize=14)\n",
    "plt.ylabel('average neighbour degree', fontsize=14);\n",
    "plt.plot([0,200],[0,200],'--', c='gray')\n",
    "print('r =',g.assortativity_degree());\n",
    "#plt.savefig('friendship.eps')"
   ]
  },
  {
   "cell_type": "code",
   "execution_count": null,
   "metadata": {},
   "outputs": [],
   "source": [
    "## looking for rich club -- not here!\n",
    "d = list(set(g.degree()))\n",
    "rc = []\n",
    "for i in d:\n",
    "    rc.append(richClub(g, l=i))\n",
    "plt.semilogx(d,rc,'.',c='black')\n",
    "plt.xlabel(r'degree $\\ell$',fontsize=12)\n",
    "plt.ylabel(r'rich club coefficient $\\rho(\\ell)$');\n",
    "#plt.savefig('rich_club.eps');"
   ]
  },
  {
   "cell_type": "markdown",
   "metadata": {},
   "source": [
    "## A quick look: Europe electric grid network\n",
    "\n",
    "We notice:\n",
    "\n",
    "- degree distribution quite uniform\n",
    "- positive assortativity, also seen with degree correlation function\n",
    "- friendship paradox not obvious"
   ]
  },
  {
   "cell_type": "code",
   "execution_count": null,
   "metadata": {},
   "outputs": [],
   "source": [
    "## Europe Electric Grid\n",
    "grid = ig.Graph.Read_Ncol(datadir+'GridEurope/gridkit_europe-highvoltage.edges', directed=False)\n",
    "grid = grid.simplify()"
   ]
  },
  {
   "cell_type": "code",
   "execution_count": null,
   "metadata": {},
   "outputs": [],
   "source": [
    "## plot degree vs avg neighbour degree\n",
    "deg = [v.degree() for v in grid.vs()]\n",
    "nad = []\n",
    "for v in grid.vs():\n",
    "    nv = grid.neighbors(v)\n",
    "    nad.append(np.mean([deg[i] for i in nv]))\n",
    "\n",
    "plt.scatter(deg,nad,c='black',marker='.')\n",
    "plt.xlim((0,18))\n",
    "plt.ylim((0,18))\n",
    "plt.xlabel('node degree', fontsize=14)\n",
    "plt.ylabel('average neighbour degree', fontsize=14);\n",
    "plt.plot([0,18],[0,18],'--', c='gray')\n",
    "print('r =',grid.assortativity_degree());\n",
    "#plt.savefig('friendship_grid.eps')"
   ]
  },
  {
   "cell_type": "code",
   "execution_count": null,
   "metadata": {},
   "outputs": [],
   "source": [
    "## Degree correlation function\n",
    "knn = deg_corr(grid)\n",
    "x = list(knn.keys())\n",
    "y = list(knn.values())\n",
    "r = deg_corr_random(grid)\n",
    "plt.scatter(x,y,c='black')\n",
    "plt.hlines(y=r,xmin=min(x),xmax=max(x),linestyles=':')\n",
    "plt.xlabel(r'degree ($\\ell$)',fontsize=12)\n",
    "plt.ylabel(r'$k_{nn}(\\ell)$',fontsize=12);\n",
    "#plt.savefig('degree_corr_grid.eps')"
   ]
  },
  {
   "cell_type": "markdown",
   "metadata": {},
   "source": [
    "## Quick look: GitHub Developers Graph\n",
    "\n",
    "- negative assortativity\n",
    "- strong friendship paradox phenomenon"
   ]
  },
  {
   "cell_type": "code",
   "execution_count": null,
   "metadata": {},
   "outputs": [],
   "source": [
    "## GitHub Developers (undirected)\n",
    "D = pd.read_csv(datadir+'GitHubDevelopers/musae_git_edges.csv')\n",
    "tuples = [tuple(x) for x in D.values]\n",
    "git = ig.Graph.TupleList(tuples, directed = False)"
   ]
  },
  {
   "cell_type": "code",
   "execution_count": null,
   "metadata": {},
   "outputs": [],
   "source": [
    "## plot degree vs avg neighbour degree\n",
    "## zoom in on nodes with degree < LIM\n",
    "LIM = 1000\n",
    "deg = [v.degree() for v in git.vs()]\n",
    "nad = []\n",
    "for v in git.vs():\n",
    "    nv = git.neighbors(v)\n",
    "    nad.append(np.mean([deg[i] for i in nv]))\n",
    "\n",
    "plt.scatter(deg,nad,c='black',marker='.')\n",
    "plt.xlim((0,LIM))\n",
    "plt.ylim((0,LIM))\n",
    "plt.xlabel('node degree', fontsize=14)\n",
    "plt.ylabel('average neighbour degree', fontsize=14);\n",
    "plt.plot([0,LIM],[0,LIM],'--', c='gray')\n",
    "print('r =',git.assortativity_degree());\n",
    "#plt.savefig('friendship_github.eps')"
   ]
  },
  {
   "cell_type": "code",
   "execution_count": null,
   "metadata": {},
   "outputs": [],
   "source": [
    "## degree correlation function\n",
    "knn = deg_corr(git)\n",
    "x = list(knn.keys())\n",
    "y = list(knn.values())\n",
    "idx = np.random.choice(len(x),100,replace=False)\n",
    "r = deg_corr_random(git)\n",
    "plt.xlim((0,LIM))\n",
    "plt.scatter(x,y,marker='.',c='black')\n",
    "plt.hlines(y=r,xmin=min(x),xmax=max(x),linestyles=':')\n",
    "plt.xlabel(r'degree ($\\ell$)',fontsize=12)\n",
    "plt.ylabel(r'$k_{nn}(\\ell)$',fontsize=12);\n",
    "#plt.savefig('degree_corr_github.eps')"
   ]
  },
  {
   "cell_type": "code",
   "execution_count": null,
   "metadata": {},
   "outputs": [],
   "source": [
    "## still no rich club group here\n",
    "d = list(set(git.degree()))\n",
    "rc = []\n",
    "for i in d:\n",
    "    rc.append(richClub(git, l=i))\n",
    "plt.semilogx(d,rc,'.',c='black')\n",
    "plt.xlabel(r'degree $\\ell$',fontsize=12)\n",
    "plt.ylabel(r'rich club coefficient $\\rho(\\ell)$');\n",
    "#plt.savefig('rich_club_github.eps');"
   ]
  },
  {
   "cell_type": "markdown",
   "metadata": {},
   "source": [
    "## Showing a rich club: the actors graph\n",
    "\n",
    "This data set is part of the accompanying material of the book \"Complex Networks: Principles, Methods and Applications\", V. Latora, V. Nicosia, G. Russo, Cambridge University Press (2017)\n",
    "\n",
    "248,243 nodes (actors) and 8,302,734 edges (co-appearing in at least 1 movie)\n"
   ]
  },
  {
   "cell_type": "code",
   "execution_count": null,
   "metadata": {},
   "outputs": [],
   "source": [
    "## Actors\n",
    "D = pd.read_csv(datadir+'Actors/movie_actors.net', sep=' ')\n",
    "tuples = [tuple(x) for x in D.values]\n",
    "g = ig.Graph.TupleList(tuples, directed = False)\n",
    "\n",
    "## This can be slow -- you may want to take a sample first\n",
    "d = np.random.choice(list(set(g.degree())),size=200,replace=False) ## sample\n",
    "#d = list(set(g.degree())) ## full\n",
    "\n",
    "rc = []\n",
    "for i in d:\n",
    "    rc.append(richClub(g, l=i))"
   ]
  },
  {
   "cell_type": "code",
   "execution_count": null,
   "metadata": {},
   "outputs": [],
   "source": [
    "## rich club coefficients\n",
    "plt.semilogx(d,rc,'.',c='black')\n",
    "plt.xlabel(r'degree $\\ell$',fontsize=12)\n",
    "plt.ylabel(r'rich club coefficient $\\rho(\\ell)$');\n",
    "#plt.savefig('rich_club_actors.eps')"
   ]
  },
  {
   "cell_type": "markdown",
   "metadata": {},
   "source": [
    "## Figures 4.1 and 4.2: Xulvi-Brunet and Sokolov algorithm"
   ]
  },
  {
   "cell_type": "code",
   "execution_count": null,
   "metadata": {},
   "outputs": [],
   "source": [
    "## Xulvi-Brunet and Sokolov algorithm\n",
    "def XBS(n, d, q, assortative):\n",
    "    p = d/n\n",
    "    g = ig.Graph.Erdos_Renyi(n,p)\n",
    "    g.es['touched'] = False\n",
    "    ec = g.ecount()\n",
    "    while True:\n",
    "        re = np.random.choice(ec, 2, replace=False)\n",
    "        nodes = list(g.es[re[0]].tuple+g.es[re[1]].tuple)\n",
    "        if len(set(nodes))==4:\n",
    "            ## with proba q, wire w.r.t. assortativity, else randomly\n",
    "            if np.random.random()<q:\n",
    "                idx = np.argsort(g.degree(nodes))\n",
    "                if assortative:\n",
    "                    e1 = (nodes[idx[0]],nodes[idx[1]])\n",
    "                    e2 = (nodes[idx[2]],nodes[idx[3]])\n",
    "                else:\n",
    "                    e1 = (nodes[idx[0]],nodes[idx[3]])\n",
    "                    e2 = (nodes[idx[1]],nodes[idx[2]])\n",
    "            else:\n",
    "                np.random.shuffle(nodes)\n",
    "                e1 = (nodes[0],nodes[1])\n",
    "                e2 = (nodes[2],nodes[3])\n",
    "            if g.get_eid(e1[0], e1[1], directed=False, error=False)+\\\n",
    "               g.get_eid(e2[0], e2[1], directed=False, error=False) == -2:\n",
    "                    g.delete_edges(re)\n",
    "                    g.add_edge(e1[0],e1[1],touched=True)\n",
    "                    g.add_edge(e2[0],e2[1],touched=True)\n",
    "            else:\n",
    "                g.es[re[0]]['touched']=True\n",
    "                g.es[re[1]]['touched']=True\n",
    "        if sum(g.es['touched']) == g.ecount():\n",
    "            break\n",
    "    return g"
   ]
  },
  {
   "cell_type": "code",
   "execution_count": null,
   "metadata": {},
   "outputs": [],
   "source": [
    "## Fig 4.2 with N nodes and averaging Rep results\n",
    "N = 2**8 ## 2**16 and 64 in book (can be slow)\n",
    "Rep = 10\n",
    "Q = [2/3,1/3,0,1/3,2/3]\n",
    "A = [True,True,True,False,False]\n",
    "x = np.arange(0.25,3.01,.25)\n",
    "Y = []\n",
    "\n",
    "for i in range(len(Q)):\n",
    "    y = []\n",
    "    for d in x:\n",
    "        sz = 0\n",
    "        for rep in range(Rep):\n",
    "            g = XBS(n = N, d = d, q = Q[i] , assortative = A[i])\n",
    "            sz += g.clusters().giant().vcount()/g.vcount()\n",
    "        y.append(sz / Rep)\n",
    "    Y.append(y)\n",
    "    \n",
    "clr = ['black','gray','black','gray','black']\n",
    "typ = ['-','-',':','--','--']\n",
    "lbl = ['assortative q=2/3','assortative q=1/3','q=0','disassortative q=1/3','disassortative q=2/3']\n",
    "for i in range(len(Y)):\n",
    "    plt.plot(x,Y[i],color=clr[i],linestyle=typ[i],label=lbl[i])\n",
    "plt.xlabel('average degree')\n",
    "plt.ylabel('fraction of nodes')\n",
    "plt.legend();\n"
   ]
  },
  {
   "cell_type": "code",
   "execution_count": null,
   "metadata": {},
   "outputs": [],
   "source": [
    "## Fig 4.1 \n",
    "Y = []\n",
    "for i in range(len(Q)):\n",
    "    D = pd.DataFrame()\n",
    "    for rep in range(Rep):\n",
    "        g = XBS(n = N, d = 4, q = Q[i] , assortative = A[i])\n",
    "        deg = g.degree()\n",
    "        g.delete_vertices([i for i in range(len(deg)) if deg[i]==0])\n",
    "        knn = deg_corr(g)\n",
    "        D = pd.concat([D,pd.DataFrame(np.transpose(np.array([list(knn.keys()),list(knn.values())])))])\n",
    "    X = D.groupby(by=0).mean()\n",
    "    plt.plot(list(X.index)[:10],list(X[1])[:10],color=clr[i],linestyle=typ[i],label=lbl[i])\n",
    "plt.xlabel(r'degree ($\\ell$)')\n",
    "plt.ylabel(r'$knn(\\ell)$')\n",
    "plt.legend();"
   ]
  }
 ],
 "metadata": {
  "kernelspec": {
   "display_name": "Python 3",
   "language": "python",
   "name": "python3"
  },
  "language_info": {
   "codemirror_mode": {
    "name": "ipython",
    "version": 3
   },
   "file_extension": ".py",
   "mimetype": "text/x-python",
   "name": "python",
   "nbconvert_exporter": "python",
   "pygments_lexer": "ipython3",
   "version": "3.7.9"
  }
 },
 "nbformat": 4,
 "nbformat_minor": 2
}

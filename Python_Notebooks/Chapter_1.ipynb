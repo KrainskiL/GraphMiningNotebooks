{
 "cells": [
  {
   "cell_type": "markdown",
   "metadata": {},
   "source": [
    "# Requirements\n",
    "\n",
    "- make sure you have python-igraph installed\n",
    "- set the directory in next cell"
   ]
  },
  {
   "cell_type": "code",
   "execution_count": null,
   "metadata": {},
   "outputs": [],
   "source": [
    "## path to datasets\n",
    "datadir='../Datasets/'\n"
   ]
  },
  {
   "cell_type": "code",
   "execution_count": null,
   "metadata": {},
   "outputs": [],
   "source": [
    "import igraph as ig\n",
    "import numpy as np\n",
    "import pandas as pd\n",
    "import matplotlib.pyplot as plt\n",
    "from sklearn.linear_model import LinearRegression\n",
    "from collections import Counter\n",
    "from statsmodels.distributions.empirical_distribution import ECDF as ecdf\n"
   ]
  },
  {
   "cell_type": "markdown",
   "metadata": {},
   "source": [
    "Just looking at basic statistics on degree distribution, clustering coefficient and shortest paths, we can identify huge difference between different types of graphs. Here we look at a social-type graph, and a transportation-type (power grid) network."
   ]
  },
  {
   "cell_type": "markdown",
   "metadata": {},
   "source": [
    "## GitHub Developers (undirected)\n",
    "\n",
    "Description\n",
    "\n",
    "A large social network of GitHub developers which was collected from the public API in June 2019. Nodes are developers who have starred at least 10 repositories and edges are mutual follower relationships between them. The vertex features are extracted based on the location, repositories starred, employer and e-mail address. The task related to the graph is binary node classification - one has to predict whether the GitHub user is a web or a machine learning developer. This target feature was derived from the job title of each user.\n"
   ]
  },
  {
   "cell_type": "code",
   "execution_count": null,
   "metadata": {},
   "outputs": [],
   "source": [
    "## read the GitHub edge list into a graph\n",
    "D = pd.read_csv(datadir+'GitHubDevelopers/musae_git_edges.csv')\n",
    "tuples = [tuple(x) for x in D.values]\n",
    "gh = ig.Graph.TupleList(tuples, directed = False)\n",
    "\n",
    "## add some node features, here there are\n",
    "## 2 class of nodes, 0: web developer (red), 1: ml developer (blue)\n",
    "X = pd.read_csv(datadir+'GitHubDevelopers/musae_git_target.csv')\n",
    "idx = [int(i) for i in gh.vs['name']]\n",
    "sorterIndex = dict(zip(idx,range(len(idx))))\n",
    "X['Rank'] = X['id'].map(sorterIndex)\n",
    "X.sort_values(['Rank'], ascending=[True],inplace=True)\n",
    "X.dropna(inplace=True)\n",
    "gh.vs['target'] = list(X['ml_target'])\n",
    "cls = ['grey','black']\n",
    "lbl = ['web','ml']\n",
    "gh.vs['color'] = [cls[i] for i in list(X['ml_target'])]\n",
    "gh.vs['lbl'] = [lbl[i] for i in list(X['ml_target'])]\n",
    "gh.es['color'] = 'grey'"
   ]
  },
  {
   "cell_type": "markdown",
   "metadata": {},
   "source": [
    "## Europe Electric Grid\n",
    "\n",
    "Network of high voltage grid in Europe. Details at:\n",
    "https://zenodo.org/record/47317#.Xt6nzy3MxTY\n",
    "\n"
   ]
  },
  {
   "cell_type": "code",
   "execution_count": null,
   "metadata": {},
   "outputs": [],
   "source": [
    "## read edge list for the grid network\n",
    "gr = ig.Graph.Read_Ncol(datadir+'GridEurope/gridkit_europe-highvoltage.edges', directed=False)\n",
    "gr = gr.simplify()\n",
    "\n",
    "## read the vertices along with some attributes\n",
    "X = pd.read_csv(datadir+'GridEurope/gridkit_europe-highvoltage.vertices')\n",
    "idx = [int(i) for i in gr.vs['name']]\n",
    "sorterIndex = dict(zip(idx,range(len(idx))))\n",
    "X['Rank'] = X['v_id'].map(sorterIndex)\n",
    "X.sort_values(['Rank'], ascending=[True],inplace=True)\n",
    "X.dropna(inplace=True)\n",
    "gr.vs['longitude'] = list(X['lon'])\n",
    "gr.vs['latitude'] = list(X['lat'])\n",
    "gr.vs['type'] = list(X['typ'])\n",
    "gr.vs['layout'] = [(v['longitude'],v['latitude']) for v in gr.vs()]\n",
    "gr.vs['size'] = 3\n",
    "gr.es['color'] = 'grey'\n",
    "gr.vs['color'] = 'black'"
   ]
  },
  {
   "cell_type": "markdown",
   "metadata": {},
   "source": [
    "## Features for 4 graphs\n",
    "\n",
    "- GitHub\n",
    "- GitHub ml developers\n",
    "- GitHub web developers\n",
    "- Grid"
   ]
  },
  {
   "cell_type": "code",
   "execution_count": null,
   "metadata": {},
   "outputs": [],
   "source": [
    "## for github, 9739 are ml developers\n",
    "## build the subgraphs\n",
    "gh_ml = gh.subgraph([v for v in gh.vs() if v['lbl']=='ml'])\n",
    "gh_web = gh.subgraph([v for v in gh.vs() if v['lbl']=='web'])"
   ]
  },
  {
   "cell_type": "code",
   "execution_count": null,
   "metadata": {},
   "outputs": [],
   "source": [
    "## github graph: count ml with connection to web only and vice-versa\n",
    "c_ml = c_web = 0\n",
    "for v in gh.vs():\n",
    "    if v['lbl']=='ml':\n",
    "        if set([gh.vs[i]['lbl'] for i in gh.neighbors(v)])=={'web'}:\n",
    "            c_ml+=1\n",
    "    else:\n",
    "        if set([gh.vs[i]['lbl'] for i in gh.neighbors(v)])=={'ml'}:\n",
    "            c_web+=1\n",
    "print(c_ml,'ml connected only to web and',c_web,'web connected only to ml')        "
   ]
  },
  {
   "cell_type": "code",
   "execution_count": null,
   "metadata": {},
   "outputs": [],
   "source": [
    "## compute and store basic stats in a table\n",
    "## this can take a few minutes\n",
    "def baseStats(G):\n",
    "    deg = G.degree()\n",
    "    return [G.vcount(),G.ecount(),np.min(deg),np.mean(deg),np.median(deg),np.quantile(deg,.99),\n",
    "            np.max(deg),G.diameter(),np.max(G.clusters().membership)+1,G.clusters().giant().vcount(),\n",
    "            sum([x==0 for x in G.degree()]),G.transitivity_undirected(mode='nan'),\n",
    "            G.transitivity_avglocal_undirected(mode='nan')]\n",
    "S = []\n",
    "S.append(['GitHub'] + baseStats(gh))\n",
    "S.append(['GitHub (ml)'] + baseStats(gh_ml))\n",
    "S.append(['GitHub (web)'] + baseStats(gh_web))\n",
    "S.append(['Grid'] + baseStats(gr))\n",
    "D = pd.DataFrame(S,columns=['graph','nodes','edges',r'$d_{min}$',r'$d_{mean}$',r'$d_{median}$',\n",
    "                            r'$d_{quant_{99}}$',r'$d_{max}$','diameter','components','largest',\n",
    "                            'isolates',r'$C_{glob}$',r'$C_{loc}$']).transpose()\n",
    "D"
   ]
  },
  {
   "cell_type": "code",
   "execution_count": null,
   "metadata": {},
   "outputs": [],
   "source": [
    "## To produce LaTeX from a DataFrame\n",
    "#df = D.round(decimals=3)\n",
    "#print(df.to_latex(index=True))"
   ]
  },
  {
   "cell_type": "markdown",
   "metadata": {},
   "source": [
    "## Visualize part of the Grid network"
   ]
  },
  {
   "cell_type": "code",
   "execution_count": null,
   "metadata": {},
   "outputs": [],
   "source": [
    "## subgraph of Grid -- Iberic peninsula\n",
    "V = [v for v in gr.vs() if v['latitude']>36 and v['latitude']<44 and v['longitude']>-10 and v['longitude']<4]\n",
    "gr_spain = gr.subgraph(V)\n",
    "ly = ig.Layout(gr_spain.vs['layout'])\n",
    "ly.mirror(1)\n",
    "print(gr_spain.vcount(),'nodes')\n",
    "#ig.plot(gr_spain, 'grid_sg.eps', layout=ly, bbox=(0,0,300,300))\n",
    "ig.plot(gr_spain, layout=ly, bbox=(0,0,300,300))\n"
   ]
  },
  {
   "cell_type": "markdown",
   "metadata": {},
   "source": [
    "## Visualize part of the GitHub (ml) graph\n",
    "\n",
    "Quite different from the Grid graph, with clumps (dense areas) and less regular edge distribution"
   ]
  },
  {
   "cell_type": "code",
   "execution_count": null,
   "metadata": {},
   "outputs": [],
   "source": [
    "## plot subgraph for github(ml)\n",
    "sg = gh_ml.clusters().giant()\n",
    "ly = sg.layout_auto()\n",
    "sg.vs['x'] = [x[0] for x in ly]\n",
    "sg.vs['y'] = [x[1] for x in ly]\n"
   ]
  },
  {
   "cell_type": "code",
   "execution_count": null,
   "metadata": {},
   "outputs": [],
   "source": [
    "z = 52 ## adjust to zoom in or out\n",
    "V = [v for v in sg.vs() if v['x']<z and v['x']>-z and v['y']<z and v['y']>-z]\n",
    "ssg = sg.subgraph(V).clusters().giant()\n",
    "ssg.vs['size'] = 3\n",
    "print(ssg.vcount())\n",
    "#ig.plot(ssg, 'github_ml_sg.eps',bbox=(0,0,300,300))\n",
    "ig.plot(ssg,bbox=(0,0,300,300))"
   ]
  },
  {
   "cell_type": "markdown",
   "metadata": {},
   "source": [
    "## Visualize part of the GitHub (web) graph\n",
    "\n",
    "Uncomment the cell below to run.\n",
    "Note that this can be slow!\n",
    "\n"
   ]
  },
  {
   "cell_type": "raw",
   "metadata": {},
   "source": [
    "## plot subgraph for github (web)\n",
    "sg = gh_web.clusters().giant()\n",
    "ly = sg.layout_auto()\n",
    "sg.vs['x'] = [x[0] for x in ly]\n",
    "sg.vs['y'] = [x[1] for x in ly]\n",
    "\n",
    "## you can try various zoom as this will vary\n",
    "z = 60\n",
    "V = [v for v in sg.vs() if v['x']<z and v['x']>-z and v['y']<z and v['y']>-z]\n",
    "ssg = sg.subgraph(V).clusters().giant()\n",
    "ssg.vs['size'] = 3\n",
    "ssg.vs['color'] = 'black'\n",
    "print(ssg.vcount(),'nodes')\n",
    "#ig.plot(ssg, 'github_web_sg.eps',bbox=(0,0,300,300))\n",
    "ig.plot(ssg,bbox=(0,0,300,300))"
   ]
  },
  {
   "cell_type": "markdown",
   "metadata": {},
   "source": [
    "## Compare degree distributions\n",
    "\n",
    "We plot the (empirical) cumulative distribution functions (cdf)"
   ]
  },
  {
   "cell_type": "code",
   "execution_count": null,
   "metadata": {},
   "outputs": [],
   "source": [
    "## degree distribution - GitHub graph\n",
    "deg = gh.degree()\n",
    "e = ecdf(deg)\n",
    "x = np.arange(1,max(deg),1)\n",
    "y = [e(i) for i in x]\n",
    "plt.semilogx(x,y,'-',color='black',label='GitHub')\n",
    "plt.xlabel('degree',fontsize=14)\n",
    "plt.ylabel('empirical cdf',fontsize=14);\n",
    "#plt.savefig('ecdf_gh.eps');\n"
   ]
  },
  {
   "cell_type": "code",
   "execution_count": null,
   "metadata": {},
   "outputs": [],
   "source": [
    "## degree distribution - Grid graph\n",
    "## we see much lower degree here\n",
    "deg = gr.degree()\n",
    "e = ecdf(deg)\n",
    "x = np.arange(1,30,1)\n",
    "y = [e(i) for i in x]\n",
    "plt.semilogx(x,y,'-',color='black',label='Grid')\n",
    "plt.xlabel('degree',fontsize=14)\n",
    "plt.ylabel('empirical cdf',fontsize=14);\n",
    "#plt.savefig('ecdf_gr.eps');\n"
   ]
  },
  {
   "cell_type": "markdown",
   "metadata": {},
   "source": [
    "## Shortest paths distribution\n",
    "\n",
    "Histograms of shortest path lengths from 100 random nodes;\n",
    "\n",
    "again we see much different distributions\n",
    "\n"
   ]
  },
  {
   "cell_type": "code",
   "execution_count": null,
   "metadata": {
    "scrolled": true
   },
   "outputs": [],
   "source": [
    "## shortest paths length from a given node, GitHub graph\n",
    "from collections import Counter\n",
    "sg = gh.clusters().giant()\n",
    "V = np.random.choice(sg.vcount(),size=100,replace=False) ## sample\n",
    "sp = []\n",
    "for v in V:\n",
    "    sp.extend(sg.shortest_paths(source=v)[0])\n",
    "c = Counter(sp)\n",
    "s = sorted(c.items())\n",
    "\n",
    "fig, ax = plt.subplots()\n",
    "## exclude 0-length paths\n",
    "x = [x[0] for x in s[1:]]\n",
    "y = [x[1] for x in s[1:]]\n",
    "b = ax.bar(x, y, color='darkgrey') \n",
    "\n",
    "ax.set_yscale('log')\n",
    "\n",
    "ax.set_xlabel('path length',fontsize=14)\n",
    "ax.set_ylabel('number of paths (log scale)',fontsize=14);\n",
    "#plt.savefig('pathlen_github.eps');\n"
   ]
  },
  {
   "cell_type": "code",
   "execution_count": null,
   "metadata": {},
   "outputs": [],
   "source": [
    "## min path length from that node to other nodes, Grid network\n",
    "sg = gr.clusters().giant()\n",
    "V = np.random.choice(sg.vcount(),size=100,replace=False) ## sample\n",
    "sp = []\n",
    "for v in V:\n",
    "    sp.extend(sg.shortest_paths(source=v)[0])\n",
    "c = Counter(sp)\n",
    "s = sorted(c.items())\n",
    "\n",
    "fig, ax = plt.subplots()\n",
    "## exclude 0-length paths\n",
    "x = [x[0] for x in s[1:]]\n",
    "y = [x[1] for x in s[1:]]\n",
    "b = ax.bar(x, y, color='darkgrey') \n",
    "ax.set_xlabel('path length',fontsize=14)\n",
    "ax.set_ylabel('number of paths',fontsize=14);\n",
    "#plt.savefig('pathlen_grid.eps');\n"
   ]
  },
  {
   "cell_type": "markdown",
   "metadata": {},
   "source": [
    "## Local clustering coefficient\n",
    "\n",
    "We compare the average local clustering coefficients as a function\n",
    "of the degree. We consider degrees from 10 to 1000.\n"
   ]
  },
  {
   "cell_type": "code",
   "execution_count": null,
   "metadata": {},
   "outputs": [],
   "source": [
    "## build dataframe with degrees and local clustering coefficients\n",
    "## and compute mean values w.r.t. degree.\n",
    "## GitHub graph\n",
    "mindeg = 10\n",
    "maxdeg = 1000\n",
    "D = pd.DataFrame(np.array([gh.transitivity_local_undirected(),gh.degree()]).transpose(),\n",
    "            columns=['CC','d'])\n",
    "C = D[D['d']>=mindeg].groupby(by='d').mean()\n",
    "deg = list(C.index)\n",
    "l = sum([i<=maxdeg for i in deg])\n",
    "deg = deg[:l]\n",
    "clust = list(C['CC'])[:l]\n"
   ]
  },
  {
   "cell_type": "code",
   "execution_count": null,
   "metadata": {},
   "outputs": [],
   "source": [
    "# Fit a regression (log-log scale) and plot\n",
    "regressor = LinearRegression()  \n",
    "x = [np.log(i) for i in deg]\n",
    "y = [np.log(i) for i in clust]\n",
    "regressor.fit(np.array(x).reshape(-1,1), y)\n",
    "print('power law exponent:',regressor.coef_[0])\n",
    "## plot on log-log scale\n",
    "b = regressor.intercept_\n",
    "a = regressor.coef_[0]\n",
    "plt.loglog(deg,clust,'.-',color='grey')\n",
    "plt.plot([mindeg,maxdeg],[np.exp(b)*mindeg**a,np.exp(b)*maxdeg**a],color='black')\n",
    "plt.xlabel('log(degree)',fontsize=14)\n",
    "plt.ylabel('log(mean local clust. coef.)',fontsize=14);\n",
    "#plt.savefig('localCC.eps');"
   ]
  }
 ],
 "metadata": {
  "kernelspec": {
   "display_name": "graphs",
   "language": "python",
   "name": "graphs"
  },
  "language_info": {
   "codemirror_mode": {
    "name": "ipython",
    "version": 3
   },
   "file_extension": ".py",
   "mimetype": "text/x-python",
   "name": "python",
   "nbconvert_exporter": "python",
   "pygments_lexer": "ipython3",
   "version": "3.7.9"
  }
 },
 "nbformat": 4,
 "nbformat_minor": 4
}

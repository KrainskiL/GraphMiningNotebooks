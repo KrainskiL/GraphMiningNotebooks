{
 "cells": [
  {
   "cell_type": "markdown",
   "metadata": {},
   "source": [
    "# Chapter 4 - Degree Correlations"
   ]
  },
  {
   "cell_type": "markdown",
   "metadata": {},
   "source": [
    "## Requirements\n",
    "\n",
    "* set directory in the next cell"
   ]
  },
  {
   "cell_type": "code",
   "execution_count": null,
   "metadata": {},
   "outputs": [],
   "source": [
    "datadir = \"../Datasets/\""
   ]
  },
  {
   "cell_type": "code",
   "execution_count": null,
   "metadata": {},
   "outputs": [],
   "source": [
    "using Graphs\n",
    "using DataFrames\n",
    "using CSV\n",
    "using Statistics\n",
    "using PyCall\n",
    "using PyPlot\n",
    "using Chain\n",
    "using StatsBase\n",
    "using GraphPlot\n",
    "using Random"
   ]
  },
  {
   "cell_type": "markdown",
   "metadata": {},
   "source": [
    "## Useful functions\n"
   ]
  },
  {
   "cell_type": "code",
   "execution_count": null,
   "metadata": {},
   "outputs": [],
   "source": [
    "## k_nn^{mode1,mode2}(l) : average mode2-degree of mode1-neighbours of nodes with mode1-degree = l\n",
    "# normally mode1 and mode2 should be: degree, indegree or outdegree\n",
    "deg_corr_directed(G::SimpleDiGraph, mode1::Function, mode2::Function) =\n",
    "    @chain edges(G) begin\n",
    "        DataFrame\n",
    "        transform(:src => ByRow(x -> mode1(G, x)) => :src_deg,\n",
    "            :dst => ByRow(x -> mode2(G, x)) => :dst_deg)\n",
    "        groupby(:src_deg, sort=true)\n",
    "        combine(:dst_deg => mean)\n",
    "    end"
   ]
  },
  {
   "cell_type": "code",
   "execution_count": null,
   "metadata": {},
   "outputs": [],
   "source": [
    "## degree correlation for neutral graphs: <k^2>/<k>\n",
    "function deg_corr_neutral(G, mode::Function)\n",
    "    x = mode(G)\n",
    "    return mean(x .^ 2) / mean(x)\n",
    "end"
   ]
  },
  {
   "cell_type": "code",
   "execution_count": null,
   "metadata": {},
   "outputs": [],
   "source": [
    "# undirected, or default mode=='all' if G is directed\n",
    "deg_corr(G::SimpleGraph) =\n",
    "    @chain edges(G) begin\n",
    "        DataFrame\n",
    "        append!(_, select(_, :dst => :src, :src => :dst)) # add edge in reverse\n",
    "        transform(:src => ByRow(x -> degree(G, x)) => :src_deg,\n",
    "            :dst => ByRow(x -> degree(G, x)) => :dst_deg)\n",
    "        groupby(:src_deg, sort=true)\n",
    "        combine(:dst_deg => mean)\n",
    "    end"
   ]
  },
  {
   "cell_type": "code",
   "execution_count": null,
   "metadata": {},
   "outputs": [],
   "source": [
    "assortativity(G) =\n",
    "    @chain edges(G) begin\n",
    "        DataFrame\n",
    "        append!(_, select(_, :dst => :src, :src => :dst)) # add edge in reverse\n",
    "        transform(:src => ByRow(x -> degree(G, x)) => :src_deg,\n",
    "            :dst => ByRow(x -> degree(G, x)) => :dst_deg)\n",
    "        cov(_.src_deg, _.dst_deg, corrected=false) /\n",
    "        (std(_.src_deg, corrected=false) * std(_.dst_deg, corrected=false))\n",
    "    end"
   ]
  },
  {
   "cell_type": "code",
   "execution_count": null,
   "metadata": {},
   "outputs": [],
   "source": [
    "## Correlation exponent via linear regression (taking logs)\n",
    "function corr_exp(G)\n",
    "    ## compute knn's\n",
    "    knn = deg_corr(G)\n",
    "    # Fit the regression\n",
    "    x = log.(knn.src_deg)\n",
    "    y = log.(knn.dst_deg_mean)\n",
    "    return ([ones(length(x)) x]\\y)[2]\n",
    "end"
   ]
  },
  {
   "cell_type": "code",
   "execution_count": null,
   "metadata": {},
   "outputs": [],
   "source": [
    "function richClub(g, l=1)\n",
    "    l_max = maximum(degree(g))\n",
    "    c = countmap(degree(g))\n",
    "    n = nv(g)\n",
    "    moment = sum(k * ck / n for (k, ck) in pairs(c))^2\n",
    "    S = [k * ck / n for (k, ck) in pairs(c) if k >= l]\n",
    "    phi_hat = sum(x * y for x in S, y in S) * ne(g) / moment\n",
    "    G = induced_subgraph(g, findall(>=(l), degree(g)))[1]\n",
    "    phi = ne(G)\n",
    "    return phi / phi_hat\n",
    "end"
   ]
  },
  {
   "cell_type": "code",
   "execution_count": null,
   "metadata": {},
   "outputs": [],
   "source": [
    "function cm_simple(ds)\n",
    "    @assert iseven(sum(ds))\n",
    "    stubs = reduce(vcat, fill(i, ds[i]) for i in 1:length(ds))\n",
    "    shuffle!(stubs)\n",
    "    local_edges = Set{Tuple{Int,Int}}()\n",
    "    recycle = Tuple{Int,Int}[]\n",
    "    for i in 1:2:length(stubs)\n",
    "        e = minmax(stubs[i], stubs[i+1])\n",
    "        if (e[1] == e[2]) || (e in local_edges)\n",
    "            push!(recycle, e)\n",
    "        else\n",
    "            push!(local_edges, e)\n",
    "        end\n",
    "    end\n",
    "\n",
    "    # resolve self-loops and duplicates\n",
    "    last_recycle = length(recycle)\n",
    "    recycle_counter = last_recycle\n",
    "    while !isempty(recycle)\n",
    "        recycle_counter -= 1\n",
    "        if recycle_counter < 0\n",
    "            if length(recycle) < last_recycle\n",
    "                last_recycle = length(recycle)\n",
    "                recycle_counter = last_recycle\n",
    "            else\n",
    "                break\n",
    "            end\n",
    "        end\n",
    "        p1 = popfirst!(recycle)\n",
    "        from_recycle = 2 * length(recycle) / length(stubs)\n",
    "        success = false\n",
    "        for _ in 1:2:length(stubs)\n",
    "            p2 = if rand() < from_recycle\n",
    "                used_recycle = true\n",
    "                recycle_idx = rand(axes(recycle, 1))\n",
    "                recycle[recycle_idx]\n",
    "            else\n",
    "                used_recycle = false\n",
    "                rand(local_edges)\n",
    "            end\n",
    "            if rand() < 0.5\n",
    "                newp1 = minmax(p1[1], p2[1])\n",
    "                newp2 = minmax(p1[2], p2[2])\n",
    "            else\n",
    "                newp1 = minmax(p1[1], p2[2])\n",
    "                newp2 = minmax(p1[2], p2[1])\n",
    "            end\n",
    "            if newp1 == newp2\n",
    "                good_choice = false\n",
    "            elseif (newp1[1] == newp1[2]) || (newp1 in local_edges)\n",
    "                good_choice = false\n",
    "            elseif (newp2[1] == newp2[2]) || (newp2 in local_edges)\n",
    "                good_choice = false\n",
    "            else\n",
    "                good_choice = true\n",
    "            end\n",
    "            if good_choice\n",
    "                if used_recycle\n",
    "                    recycle[recycle_idx], recycle[end] = recycle[end], recycle[recycle_idx]\n",
    "                    pop!(recycle)\n",
    "                else\n",
    "                    pop!(local_edges, p2)\n",
    "                end\n",
    "                success = true\n",
    "                push!(local_edges, newp1)\n",
    "                push!(local_edges, newp2)\n",
    "                break\n",
    "            end\n",
    "        end\n",
    "        success || push!(recycle, p1)\n",
    "    end\n",
    "    g = SimpleGraph(length(ds))\n",
    "    for e in local_edges\n",
    "        add_edge!(g, e...)\n",
    "    end\n",
    "    return g\n",
    "end"
   ]
  },
  {
   "cell_type": "markdown",
   "metadata": {},
   "source": [
    "## US Airport Volume of Passengers\n",
    "\n",
    "same data as in previous chapter, directed weighted graph (passenger volumes)"
   ]
  },
  {
   "cell_type": "code",
   "execution_count": null,
   "metadata": {},
   "outputs": [],
   "source": [
    "## read edges and build weighted directed graph\n",
    "D = CSV.read(datadir * \"Airports/connections.csv\", DataFrame)\n",
    "\n",
    "id2name = sort!(unique(union(D.orig_airport, D.dest_airport)))\n",
    "name2id = Dict(id2name .=> axes(id2name, 1))\n",
    "g = SimpleDiGraph(length(id2name))\n",
    "for row in eachrow(D)\n",
    "    from = name2id[row.orig_airport]\n",
    "    to = name2id[row.dest_airport]\n",
    "    from == to || add_edge!(g, from, to)\n",
    "end\n",
    "g"
   ]
  },
  {
   "cell_type": "markdown",
   "metadata": {},
   "source": [
    "## Directed Degree Correlation Functions (4 cases)\n",
    "\n",
    "We consider the 4 combinations in/out vs in/out degrees\n",
    "\n",
    "Dashed lines are for neutral graphs"
   ]
  },
  {
   "cell_type": "code",
   "execution_count": null,
   "metadata": {},
   "outputs": [],
   "source": [
    "knn = deg_corr_directed(g, indegree, indegree)\n",
    "r = deg_corr_neutral(g, indegree)\n",
    "scatter(eachcol(knn)..., c=\"black\")\n",
    "hlines(y=r, xmin=minimum(knn.src_deg), xmax=maximum(knn.src_deg), linestyles=\":\")\n",
    "ylabel(\"k_nn(l)\", fontsize=12);"
   ]
  },
  {
   "cell_type": "code",
   "execution_count": null,
   "metadata": {},
   "outputs": [],
   "source": [
    "knn = deg_corr_directed(g, indegree, outdegree)\n",
    "r = deg_corr_neutral(g, outdegree)\n",
    "scatter(eachcol(knn)..., c=\"black\")\n",
    "hlines(y=r, xmin=minimum(knn.src_deg), xmax=maximum(knn.src_deg), linestyles=\":\")\n",
    "ylabel(\"k_nn(l)\", fontsize=12);"
   ]
  },
  {
   "cell_type": "code",
   "execution_count": null,
   "metadata": {},
   "outputs": [],
   "source": [
    "knn = deg_corr_directed(g, outdegree, indegree)\n",
    "r = deg_corr_neutral(g, indegree)\n",
    "scatter(eachcol(knn)..., c=\"black\")\n",
    "hlines(y=r, xmin=minimum(knn.src_deg), xmax=maximum(knn.src_deg), linestyles=\":\")\n",
    "ylabel(\"k_nn(l)\", fontsize=12);"
   ]
  },
  {
   "cell_type": "code",
   "execution_count": null,
   "metadata": {},
   "outputs": [],
   "source": [
    "knn = deg_corr_directed(g, outdegree, outdegree)\n",
    "r = deg_corr_neutral(g, outdegree)\n",
    "scatter(eachcol(knn)..., c=\"black\")\n",
    "hlines(y=r, xmin=minimum(knn.src_deg), xmax=maximum(knn.src_deg), linestyles=\":\")\n",
    "ylabel(\"k_nn(l)\", fontsize=12);"
   ]
  },
  {
   "cell_type": "markdown",
   "metadata": {},
   "source": [
    "# We consider the undirected airport graph from now on\n"
   ]
  },
  {
   "cell_type": "code",
   "execution_count": null,
   "metadata": {},
   "outputs": [],
   "source": [
    "## Undirected graph\n",
    "g = SimpleGraph(g)"
   ]
  },
  {
   "cell_type": "markdown",
   "metadata": {},
   "source": [
    "## Degree correlation: also look via log scale"
   ]
  },
  {
   "cell_type": "code",
   "execution_count": null,
   "metadata": {},
   "outputs": [],
   "source": [
    "knn = deg_corr(g)\n",
    "r = deg_corr_neutral(g, degree)\n",
    "scatter(eachcol(knn)..., c=\"black\")\n",
    "hlines(y=r, xmin=minimum(knn.src_deg), xmax=maximum(knn.src_deg), linestyles=\":\")\n",
    "xlabel(\"degree l\", fontsize=12)\n",
    "ylabel(\"k_nn(l)\", fontsize=12);"
   ]
  },
  {
   "cell_type": "code",
   "execution_count": null,
   "metadata": {},
   "outputs": [],
   "source": [
    "loglog(eachcol(knn)..., \"o\", c=\"black\")\n",
    "hlines(y=r, xmin=minimum(knn.src_deg), xmax=maximum(knn.src_deg), linestyles=\":\")\n",
    "xlabel(\"degree l\", fontsize=12);"
   ]
  },
  {
   "cell_type": "markdown",
   "metadata": {},
   "source": [
    "## State by state assortativity and correlation exponent"
   ]
  },
  {
   "cell_type": "code",
   "execution_count": null,
   "metadata": {},
   "outputs": [],
   "source": [
    "A = CSV.read(datadir * \"Airports/airports_loc.csv\", DataFrame)\n",
    "A.id = [name2id[a] for a in A.airport]\n",
    "@assert A.id == axes(A, 1)\n",
    "@assert A.airport == id2name\n",
    "first(A, 5)"
   ]
  },
  {
   "cell_type": "code",
   "execution_count": null,
   "metadata": {},
   "outputs": [],
   "source": [
    "## for each state compute degree assortativity (r)\n",
    "## note that we drop airports w/o in-state edge\n",
    "## also estimate correlation exponent (mu) via regression (taking the logs)\n",
    "## Show assortativity and mu for states with 5+ vertices\n",
    "P = DataFrame(state=String[], nodes=Int[], edges=Int[], assortativity=Float64[], mu=Float64[])\n",
    "for s in unique(A.state)\n",
    "    hva = findall(==(s), A.state)\n",
    "    G = induced_subgraph(g, hva)[1]\n",
    "    G = induced_subgraph(G, findall(>(0), degree(G)))[1]\n",
    "    if nv(G) > 5\n",
    "        mu = corr_exp(G)\n",
    "        push!(P, [s, nv(G), ne(G), assortativity(G), mu])\n",
    "    end\n",
    "end\n",
    "sort!(P, :assortativity)\n",
    "first(P, 5)"
   ]
  },
  {
   "cell_type": "code",
   "execution_count": null,
   "metadata": {},
   "outputs": [],
   "source": [
    "last(P, 5)"
   ]
  },
  {
   "cell_type": "code",
   "execution_count": null,
   "metadata": {},
   "outputs": [],
   "source": [
    "## some states are quite small,\n",
    "## but we still see good correlation between r and mu\n",
    "plot(P.assortativity, P.mu, \"o\", color=\"black\")\n",
    "xlabel(\"degree correlation coefficient (r)\", fontsize=12)\n",
    "ylabel(\"correlation exponent (mu)\", fontsize=12)\n",
    "println(\"Person correlation: \", cor(P.assortativity, P.mu))\n",
    "ident = [-1.0, 1.0]\n",
    "plot(ident, ident, \":\", c=\"gray\");"
   ]
  },
  {
   "cell_type": "markdown",
   "metadata": {},
   "source": [
    "## Looking at a few states with high/low assortativity"
   ]
  },
  {
   "cell_type": "code",
   "execution_count": null,
   "metadata": {},
   "outputs": [],
   "source": [
    "## positive case: the Dakotas (ND+SD)\n",
    "hva = findall(in([\"SD\", \"ND\"]), A.state)\n",
    "G_D = induced_subgraph(g, hva)[1]\n",
    "G_D = induced_subgraph(G_D, findall(>(0), degree(G_D)))[1]\n",
    "println(\"r = \", assortativity(G_D))\n",
    "Random.seed!(4)\n",
    "gplot(G_D,\n",
    "      NODESIZE=0.03, nodefillc=\"black\",\n",
    "      EDGELINEWIDTH=0.2, edgestrokec=\"gray\")"
   ]
  },
  {
   "cell_type": "code",
   "execution_count": null,
   "metadata": {},
   "outputs": [],
   "source": [
    "## compare r and mu vs random models for the Dakotas: G = SD+ND\n",
    "## here we use the configuration model\n",
    "## we also report the proportion of nodes above the structural cutoff\n",
    "## given the degree distribution.\n",
    "r = Float64[]\n",
    "mu = Float64[]\n",
    "for i in 1:1000\n",
    "    cm = cm_simple(degree(G_D))\n",
    "    push!(r, assortativity(cm))\n",
    "    push!(mu, corr_exp(cm))\n",
    "end\n",
    "## structural cutoff\n",
    "sc = sqrt(2 * ne(G_D))\n",
    "p = count(>(sc), degree(G_D)) / nv(G_D)\n",
    "println(\"r = \", assortativity(G_D), \" mu = \", corr_exp(G_D), \" P(edges above structural cutoff) = \", p)\n",
    "boxplot([r, mu], labels=[\"assortativity (r)\", \"correlation exponent (mu)\"], widths=0.7, sym=\"\");"
   ]
  },
  {
   "cell_type": "code",
   "execution_count": null,
   "metadata": {},
   "outputs": [],
   "source": [
    "## degree correlation function for the Dakotas graph\n",
    "knn = deg_corr(G_D)\n",
    "r = deg_corr_neutral(G_D, degree)\n",
    "scatter(eachcol(knn)..., c=\"black\")\n",
    "hlines(y=r, xmin=minimum(knn.src_deg), xmax=maximum(knn.src_deg), linestyles=\":\")\n",
    "xlabel(\"degree (k)\", fontsize=12)\n",
    "ylabel(\"k_nn(k)\", fontsize=12);"
   ]
  },
  {
   "cell_type": "code",
   "execution_count": null,
   "metadata": {},
   "outputs": [],
   "source": [
    "## degree correlation function for a configuration model random graph used above\n",
    "## quite different!\n",
    "cm = cm_simple(degree(G_D))\n",
    "knn = deg_corr(cm)\n",
    "r = deg_corr_neutral(cm, degree)\n",
    "scatter(eachcol(knn)..., c=\"black\")\n",
    "hlines(y=r, xmin=minimum(knn.src_deg), xmax=maximum(knn.src_deg), linestyles=\":\")\n",
    "xlabel(\"degree (k)\", fontsize=12)\n",
    "ylabel(\"k_nn(k)\", fontsize=12);"
   ]
  },
  {
   "cell_type": "code",
   "execution_count": null,
   "metadata": {},
   "outputs": [],
   "source": [
    "## negative case: the MO graph\n",
    "hva = findall(==(\"MO\"), A.state)\n",
    "G_D = induced_subgraph(g, hva)[1]\n",
    "G_D = induced_subgraph(G_D, findall(>(0), degree(G_D)))[1]\n",
    "println(\"r = \", assortativity(G_D))\n",
    "Random.seed!(4)\n",
    "gplot(G_D,\n",
    "      NODESIZE=0.03, nodefillc=\"black\",\n",
    "      EDGELINEWIDTH=0.2, edgestrokec=\"gray\")"
   ]
  },
  {
   "cell_type": "code",
   "execution_count": null,
   "metadata": {
    "scrolled": false
   },
   "outputs": [],
   "source": [
    "## r and mu vs random configuration model for MO graph\n",
    "## compare r and mu vs random models for the Dakotas: G = SD+ND\n",
    "## here we use the configuration model\n",
    "## we also report the proportion of nodes above the structural cutoff\n",
    "## given the degree distribution.\n",
    "r = Float64[]\n",
    "mu = Float64[]\n",
    "for i in 1:1000\n",
    "    cm = cm_simple(degree(G_D))\n",
    "    push!(r, assortativity(cm))\n",
    "    push!(mu, corr_exp(cm))\n",
    "end\n",
    "## structural cutoff\n",
    "sc = sqrt(2 * ne(G_D))\n",
    "p = count(>(sc), degree(G_D)) / nv(G_D)\n",
    "println(\"r = \", assortativity(G_D), \" mu = \", corr_exp(G_D), \" P(edges above structural cutoff) = \", p)\n",
    "boxplot([r, mu], labels=[\"assortativity (r)\", \"correlation exponent (mu)\"], widths=0.7, sym=\"\");"
   ]
  },
  {
   "cell_type": "code",
   "execution_count": null,
   "metadata": {},
   "outputs": [],
   "source": [
    "## degree correlation function for MO graph\n",
    "knn = deg_corr(G_D)\n",
    "r = deg_corr_neutral(G_D, degree)\n",
    "scatter(eachcol(knn)..., c=\"black\")\n",
    "hlines(y=r, xmin=minimum(knn.src_deg), xmax=maximum(knn.src_deg), linestyles=\":\")\n",
    "xlabel(\"degree (k)\", fontsize=12)\n",
    "ylabel(\"k_nn(k)\", fontsize=12);"
   ]
  },
  {
   "cell_type": "code",
   "execution_count": null,
   "metadata": {},
   "outputs": [],
   "source": [
    "## degree correlation function for a configuration random graph\n",
    "## quite similar!\n",
    "cm = cm_simple(degree(G_D))\n",
    "knn = deg_corr(cm)\n",
    "r = deg_corr_neutral(cm, degree)\n",
    "scatter(eachcol(knn)..., c=\"black\")\n",
    "hlines(y=r, xmin=minimum(knn.src_deg), xmax=maximum(knn.src_deg), linestyles=\":\")\n",
    "xlabel(\"degree (k)\", fontsize=12)\n",
    "ylabel(\"k_nn(k)\", fontsize=12);"
   ]
  },
  {
   "cell_type": "code",
   "execution_count": null,
   "metadata": {},
   "outputs": [],
   "source": [
    "## state with r = -1 (NE)\n",
    "hva = findall(==(\"NE\"), A.state)\n",
    "G_D = induced_subgraph(g, hva)[1]\n",
    "G_D = induced_subgraph(G_D, findall(>(0), degree(G_D)))[1]\n",
    "println(\"r = \", assortativity(G_D))\n",
    "Random.seed!(4)\n",
    "gplot(G_D,\n",
    "      NODESIZE=0.03, nodefillc=\"black\",\n",
    "      EDGELINEWIDTH=0.2, edgestrokec=\"gray\")"
   ]
  },
  {
   "cell_type": "code",
   "execution_count": null,
   "metadata": {},
   "outputs": [],
   "source": [
    "## state with r = +1 (AR)\n",
    "hva = findall(==(\"AR\"), A.state)\n",
    "G_D = induced_subgraph(g, hva)[1]\n",
    "G_D = induced_subgraph(G_D, findall(>(0), degree(G_D)))[1]\n",
    "println(\"r = \", assortativity(G_D))\n",
    "Random.seed!(4)\n",
    "gplot(G_D,\n",
    "      NODESIZE=0.03, nodefillc=\"black\",\n",
    "      EDGELINEWIDTH=0.2, edgestrokec=\"gray\")"
   ]
  },
  {
   "cell_type": "markdown",
   "metadata": {},
   "source": [
    "## Back to Overall US Airport graph \n",
    "\n",
    "- friendship paradox illustration\n",
    "- looking for rich club phenomenon\n"
   ]
  },
  {
   "cell_type": "code",
   "execution_count": null,
   "metadata": {},
   "outputs": [],
   "source": [
    "## plot degree vs avg neighbour degree\n",
    "## friendship 'paradox' US Airport graph (overall)\n",
    "deg = degree(g)\n",
    "nad = [mean(degree(g, neighbors(g, v))) for v in 1:nv(g)]\n",
    "scatter(deg, nad, c=\"black\", marker=\".\")\n",
    "xlim((0, 200))\n",
    "ylim((0, 200))\n",
    "xlabel(\"node degree\", fontsize=14)\n",
    "ylabel(\"average neighbour degree\", fontsize=14);\n",
    "plot([0, 200], [0, 200], \"--\", c=\"gray\")\n",
    "print(\"r = \", assortativity(g));"
   ]
  },
  {
   "cell_type": "code",
   "execution_count": null,
   "metadata": {},
   "outputs": [],
   "source": [
    "## looking for rich club -- not here!\n",
    "d = unique(degree(g))\n",
    "rc = richClub.(Ref(g), d)\n",
    "semilogx(d, rc, \".\", c=\"black\")\n",
    "xlabel(\"degree l\", fontsize=12)\n",
    "ylabel(\"rich club coefficient rho(l)\");"
   ]
  },
  {
   "cell_type": "markdown",
   "metadata": {},
   "source": [
    "## Spatial Preferential Attachment (SPA) Graphs\n",
    "\n",
    "We consider the SPA model generating directed graphs. In the experiment below, we generate all graphs on a 2-dim unit square but we use torus distance. However for plotting, we drop the edges that wrap around the unit square, to get a nicer display.\n",
    "\n",
    "More details are provided in the book."
   ]
  },
  {
   "cell_type": "code",
   "execution_count": null,
   "metadata": {},
   "outputs": [],
   "source": [
    "function torusDist(U, V)\n",
    "    dx = abs(V[1] - U[1])\n",
    "    dy = abs(V[2] - U[2])\n",
    "    dx = (dx > 0.5) ? 1 - dx : dx\n",
    "    dy = (dy > 0.5) ? 1 - dy : dy\n",
    "    return sqrt(dx * dx + dy * dy)\n",
    "end\n",
    "\n",
    "function squareDist(U, V)\n",
    "    dx = abs(V[1] - U[1])\n",
    "    dy = abs(V[2] - U[2])\n",
    "    return sqrt(dx * dx + dy * dy)\n",
    "end\n",
    "\n",
    "# build a SPA graph given the parameters described above\n",
    "function buildSPA(n::Int, p::Float64, A1::Int, A2::Int, seed::Int=12345)\n",
    "    ## random points\n",
    "    rng = MersenneTwister(seed)\n",
    "    X = rand(rng, n, 2)\n",
    "\n",
    "    ## initialize new graph\n",
    "    t = 0\n",
    "    r = zeros(n)\n",
    "    G = DiGraph(n)\n",
    "\n",
    "    ## add vertices\n",
    "    for v in 1:n\n",
    "        for i in 1:v\n",
    "            if torusDist(X[v, :], X[i, :]) < r[i]\n",
    "                if rand() < p\n",
    "                    add_edge!(G, v, i)\n",
    "                end\n",
    "            end\n",
    "        end\n",
    "        t += 1\n",
    "        r = [sqrt(min(1, (A1 * d + A2) / t) / pi) for d in indegree(G)]\n",
    "    end\n",
    "    return G, X\n",
    "end"
   ]
  },
  {
   "cell_type": "code",
   "execution_count": null,
   "metadata": {},
   "outputs": [],
   "source": [
    "#Generate a SPA graph - build with the torus distance\n",
    "n = 200\n",
    "p = 0.667\n",
    "A1 = 1\n",
    "A2 = 3\n",
    "seed = 1234\n",
    "\n",
    "G_spa, X = buildSPA(n, p, A1, A2, seed)\n",
    "print(\"number of edges: \", ne(G_spa))"
   ]
  },
  {
   "cell_type": "code",
   "execution_count": null,
   "metadata": {},
   "outputs": [],
   "source": [
    "## Plot the above graph - ignore edges that \"wrap around\"\n",
    "E = Edge[]\n",
    "for e in edges(G_spa)\n",
    "    a = X[e.src, :]\n",
    "    b = X[e.dst, :]\n",
    "    if torusDist(a, b) == squareDist(a, b)\n",
    "        push!(E, e)\n",
    "    end\n",
    "end\n",
    "\n",
    "## plot with those edges only\n",
    "G_sq, _ = induced_subgraph(G_spa, E)\n",
    "gplot(G_sq, X[:, 1], X[:, 2], nodefillc=\"black\")"
   ]
  },
  {
   "cell_type": "code",
   "execution_count": null,
   "metadata": {},
   "outputs": [],
   "source": [
    "## statistics for the SPA graph\n",
    "\n",
    "println(\"Assortativity: \", assortativity(G_spa))\n",
    "println(\"Average out degree: \", mean(outdegree(G_spa)))\n",
    "println(\"expected average out degree:\", p * A2 / (1 - p * A1))"
   ]
  },
  {
   "cell_type": "code",
   "execution_count": null,
   "metadata": {},
   "outputs": [],
   "source": [
    "#Fitted vs expected power law exponent (in degrees)\n",
    "d = indegree(G_spa)\n",
    "powerlaw = pyimport(\"powerlaw\");\n",
    "X = powerlaw.Fit(d, verbose=false)\n",
    "println(\"Value of gamma: \", X.power_law.alpha)\n",
    "println(\"Expected power law exponent:\", 1 + 1 / (p * A1))"
   ]
  },
  {
   "cell_type": "code",
   "execution_count": null,
   "metadata": {},
   "outputs": [],
   "source": [
    "## degree correlation\n",
    "knn = deg_corr_directed(G_spa, indegree, indegree)\n",
    "scatter(knn.src_deg, knn.dst_deg_mean);\n",
    "xlabel(L\"degree ($\\ell$)\", fontsize=12)\n",
    "ylabel(L\"$k_{nn}(\\ell)$\", fontsize=12);"
   ]
  },
  {
   "cell_type": "markdown",
   "metadata": {},
   "source": [
    "## Assortativity in geometric and uniform random graphs\n",
    "\n",
    "We consider two families of (undirected) random graphs we saw in Chapter 2: random geometric graphs and Erdos-Renyi graphs."
   ]
  },
  {
   "cell_type": "code",
   "execution_count": null,
   "metadata": {},
   "outputs": [],
   "source": [
    "n = 1000\n",
    "boundary = :periodic ## Set to :open to see a torus-based RGG, else we use the constrained unit square\n",
    "rng_seed = 1234\n",
    "\n",
    "df_rg = DataFrame([\"RGG\", \"Uniform\", \"avg_degree\"] .=> Ref(Float64[]))\n",
    "for radius in 0.025:0.025:0.501\n",
    "    g_RGG, _, pos = euclidean_graph(n, 2, seed=rng_seed, cutoff=radius, bc=boundary)\n",
    "    m = ne(g_RGG)\n",
    "    g_ER = erdos_renyi(n, m, seed=rng_seed)\n",
    "    push!(df_rg, [assortativity(g_RGG), assortativity(g_ER), mean(degree(g_RGG))])\n",
    "end\n",
    "df_rg"
   ]
  },
  {
   "cell_type": "code",
   "execution_count": null,
   "metadata": {},
   "outputs": [],
   "source": [
    "## degree assortativity vs average degree\n",
    "plot(df_rg.avg_degree, df_rg.RGG, \".-\", label=\"RGG\", color=\"black\")\n",
    "plot(df_rg.avg_degree, df_rg.Uniform, \".-\", label=\"Uniform\", color=\"dimgray\")\n",
    "legend()\n",
    "xlabel(\"average degree\", fontsize=14)\n",
    "ylabel(\"assortativity\", fontsize=14);"
   ]
  },
  {
   "cell_type": "code",
   "execution_count": null,
   "metadata": {},
   "outputs": [],
   "source": [
    "## radius = 0.1\n",
    "n = 1000\n",
    "rng_seed = 1234\n",
    "\n",
    "g_RGG, _ = euclidean_graph(n, 2, seed=rng_seed, cutoff=0.1, bc=:periodic)\n",
    "g_ER = erdos_renyi(n, ne(g_RGG), seed=rng_seed)\n",
    "println(\"average degree: \", mean(degree(g_RGG)))\n",
    "\n",
    "## plot for RGG\n",
    "knn = deg_corr(g_RGG)\n",
    "r = deg_corr_neutral(g_RGG, degree)\n",
    "figure(figsize=(10, 4))\n",
    "subplot(121)\n",
    "scatter(knn.src_deg, knn.dst_deg_mean, c=\"black\")\n",
    "hlines(y=r, xmin=minimum(knn.src_deg), xmax=maximum(knn.src_deg), linestyles=\":\", color=\"black\")\n",
    "xlabel(L\"degree ($\\ell$)\", fontsize=12)\n",
    "ylabel(L\"$k_{nn}(\\ell)$\", fontsize=12)\n",
    "title(\"RGG with radius 0.1\");\n",
    "\n",
    "## plot for ER\n",
    "knn = deg_corr(g_ER)\n",
    "r = deg_corr_neutral(g_ER, degree)\n",
    "subplot(122)\n",
    "scatter(knn.src_deg, knn.dst_deg_mean, c=\"black\")\n",
    "hlines(y=r, xmin=minimum(knn.src_deg), xmax=maximum(knn.src_deg), linestyles=\":\", color=\"black\")\n",
    "xlabel(L\"degree ($\\ell$)\", fontsize=12)\n",
    "title(\"Uniform RG with same average degree\");"
   ]
  },
  {
   "cell_type": "code",
   "execution_count": null,
   "metadata": {},
   "outputs": [],
   "source": [
    "## radius = 0.5\n",
    "n = 1000\n",
    "rng_seed = 1234\n",
    "\n",
    "g_RGG, _ = euclidean_graph(n, 2, seed=rng_seed, cutoff=0.5, bc=:periodic)\n",
    "g_ER = erdos_renyi(n, ne(g_RGG), seed=rng_seed)\n",
    "println(\"average degree: \", mean(degree(g_RGG)))\n",
    "\n",
    "## plot for RGG\n",
    "knn = deg_corr(g_RGG)\n",
    "r = deg_corr_neutral(g_RGG, degree)\n",
    "figure(figsize=(10, 4))\n",
    "subplot(121)\n",
    "scatter(knn.src_deg, knn.dst_deg_mean, c=\"black\")\n",
    "hlines(y=r, xmin=minimum(knn.src_deg), xmax=maximum(knn.src_deg), linestyles=\":\", color=\"black\")\n",
    "xlabel(L\"degree ($\\ell$)\", fontsize=12)\n",
    "ylabel(L\"$k_{nn}(\\ell)$\", fontsize=12)\n",
    "title(\"RGG with radius 0.5\");\n",
    "\n",
    "## plot for ER\n",
    "knn = deg_corr(g_ER)\n",
    "r = deg_corr_neutral(g_ER, degree)\n",
    "subplot(122)\n",
    "scatter(knn.src_deg, knn.dst_deg_mean, c=\"black\")\n",
    "hlines(y=r, xmin=minimum(knn.src_deg), xmax=maximum(knn.src_deg), linestyles=\":\", color=\"black\")\n",
    "xlabel(L\"degree ($\\ell$)\", fontsize=12)\n",
    "title(\"Uniform RG with same average degree\");"
   ]
  },
  {
   "cell_type": "markdown",
   "metadata": {},
   "source": [
    "## A quick look: Europe electric grid network\n",
    "\n",
    "We notice:\n",
    "\n",
    "- degree distribution quite uniform\n",
    "- positive assortativity, also seen with degree correlation function\n",
    "- friendship paradox not obvious"
   ]
  },
  {
   "cell_type": "code",
   "execution_count": null,
   "metadata": {},
   "outputs": [],
   "source": [
    "## Europe Electric Grid\n",
    "edge_list = split.(readlines(datadir * \"GridEurope/gridkit_europe-highvoltage.edges\"))\n",
    "vertex_ids = unique(reduce(vcat, edge_list))\n",
    "vertex_map = Dict(vertex_ids .=> 1:length(vertex_ids))\n",
    "grid = SimpleGraph(length(vertex_ids))\n",
    "foreach(((from, to),) -> add_edge!(grid, vertex_map[from], vertex_map[to]), edge_list)"
   ]
  },
  {
   "cell_type": "code",
   "execution_count": null,
   "metadata": {},
   "outputs": [],
   "source": [
    "## plot degree vs avg neighbour degree\n",
    "\n",
    "deg = degree(grid)\n",
    "nad = [mean(degree(grid, neighbors(grid, v))) for v in 1:nv(grid)]\n",
    "scatter(deg, nad, c=\"black\", marker=\".\")\n",
    "xlim((0, 18))\n",
    "ylim((0, 18))\n",
    "xlabel(\"node degree\", fontsize=14)\n",
    "ylabel(\"average neighbour degree\", fontsize=14);\n",
    "plot([0, 18], [0, 18], \"--\", c=\"gray\")\n",
    "print(\"r = \", assortativity(grid));"
   ]
  },
  {
   "cell_type": "code",
   "execution_count": null,
   "metadata": {},
   "outputs": [],
   "source": [
    "## Degree correlation function\n",
    "\n",
    "knn = deg_corr(grid)\n",
    "r = deg_corr_neutral(grid, degree)\n",
    "scatter(eachcol(knn)..., c=\"black\")\n",
    "hlines(y=r, xmin=minimum(knn.src_deg), xmax=maximum(knn.src_deg), linestyles=\":\")\n",
    "xlabel(\"degree (k)\", fontsize=12)\n",
    "ylabel(\"k_nn(k)\", fontsize=12);"
   ]
  },
  {
   "cell_type": "markdown",
   "metadata": {},
   "source": [
    "## Quick look: GitHub Developers Graph\n",
    "\n",
    "- negative assortativity\n",
    "- strong friendship paradox phenomenon"
   ]
  },
  {
   "cell_type": "code",
   "execution_count": null,
   "metadata": {},
   "outputs": [],
   "source": [
    "## GitHub Developers (undirected)\n",
    "D = CSV.read(datadir * \"GitHubDevelopers/musae_git_edges.csv\", DataFrame) .+ 1\n",
    "max_node_id = max(maximum(D.id_1), maximum(D.id_2))\n",
    "git = SimpleGraph(max_node_id)\n",
    "foreach(row -> add_edge!(git, row...), eachrow(D))"
   ]
  },
  {
   "cell_type": "code",
   "execution_count": null,
   "metadata": {},
   "outputs": [],
   "source": [
    "## plot degree vs avg neighbour degree\n",
    "## zoom in on nodes with degree < LIM\n",
    "LIM = 1000\n",
    "deg = degree(git)\n",
    "nad = [mean(degree(git, neighbors(git, v))) for v in 1:nv(git)]\n",
    "scatter(deg, nad, c=\"black\", marker=\".\")\n",
    "xlim((0, LIM))\n",
    "ylim((0, LIM))\n",
    "xlabel(\"node degree\", fontsize=14)\n",
    "ylabel(\"average neighbour degree\", fontsize=14);\n",
    "plot([0, LIM], [0, LIM], \"--\", c=\"gray\")\n",
    "print(\"r = \", assortativity(git));"
   ]
  },
  {
   "cell_type": "code",
   "execution_count": null,
   "metadata": {},
   "outputs": [],
   "source": [
    "## degree correlation function\n",
    "knn = deg_corr(git)\n",
    "r = deg_corr_neutral(git, degree)\n",
    "xlim((0, LIM))\n",
    "scatter(eachcol(knn)..., c=\"black\")\n",
    "hlines(y=r, xmin=minimum(knn.src_deg), xmax=maximum(knn.src_deg), linestyles=\":\")\n",
    "xlabel(\"degree (k)\", fontsize=12)\n",
    "ylabel(\"k_nn(k)\", fontsize=12);"
   ]
  },
  {
   "cell_type": "code",
   "execution_count": null,
   "metadata": {},
   "outputs": [],
   "source": [
    "## still no rich club group here\n",
    "d = unique(degree(git))\n",
    "rc = richClub.(Ref(git), d)\n",
    "semilogx(d, rc, \".\", c=\"black\")\n",
    "xlabel(\"degree l\", fontsize=12)\n",
    "ylabel(\"rich club coefficient rho(l)\");"
   ]
  },
  {
   "cell_type": "markdown",
   "metadata": {},
   "source": [
    "## Showing a rich club: the actors graph\n",
    "\n",
    "This data set is part of the accompanying material of the book \"Complex Networks: Principles, Methods and Applications\", V. Latora, V. Nicosia, G. Russo, Cambridge University Press (2017)\n",
    "\n",
    "248,243 nodes (actors) and 8,302,734 edges (co-appearing in at least 1 movie)\n"
   ]
  },
  {
   "cell_type": "code",
   "execution_count": null,
   "metadata": {},
   "outputs": [],
   "source": [
    "D = CSV.read(datadir * \"Actors/movie_actors.net\", header=[:id_1, :id_2], DataFrame) .+ 1\n",
    "max_node_id = max(maximum(D.id_1), maximum(D.id_2))\n",
    "g = SimpleGraph(max_node_id)\n",
    "foreach(row -> add_edge!(g, row...), eachrow(D))\n",
    "g = induced_subgraph(g, findall(>(0), degree(g)))[1]\n",
    "\n",
    "d = sample(unique(degree(g)), 200, replace=false)\n",
    "\n",
    "rc = richClub.(Ref(g), d)\n",
    "semilogx(d, rc, \".\", c=\"black\")\n",
    "xlabel(\"degree l\", fontsize=12)\n",
    "ylabel(\"rich club coefficient rho(l)\");"
   ]
  },
  {
   "cell_type": "markdown",
   "metadata": {},
   "source": [
    "## Figures 4.1 and 4.2: Xulvi-Brunet and Sokolov algorithm\n",
    "\n",
    "Version in book obtained with faster Julia code. We show a smaller scale example here.\n"
   ]
  },
  {
   "cell_type": "code",
   "execution_count": null,
   "metadata": {},
   "outputs": [],
   "source": [
    "## Naive Xulvi-Brunet and Sokolov algorithm\n",
    "\n",
    "function XBS(n, λ, q, assortative, seed)\n",
    "    p = λ / n\n",
    "    Random.seed!(seed)\n",
    "    g = erdos_renyi(n, p)\n",
    "    q == 0 && return g\n",
    "    e = [(x.src, x.dst) for x in edges(g)]\n",
    "    touched = falses(length(e))\n",
    "    count_touched = 0\n",
    "    while count_touched < length(e)\n",
    "        i, j = rand(axes(e, 1)), rand(axes(e, 1))\n",
    "        if i != j\n",
    "            vs = [e[i]..., e[j]...]\n",
    "            if allunique(vs)\n",
    "                if rand() < q\n",
    "                    sort!(vs, by=x -> degree(g, x))\n",
    "                    if !assortative\n",
    "                        vs[2], vs[4] = vs[4], vs[2]\n",
    "                    end\n",
    "                else\n",
    "                    shuffle!(vs)\n",
    "                end\n",
    "                a1, a2, b1, b2 = vs\n",
    "                if ((a1, a2) == e[i] || (a1, a2) == e[j])\n",
    "                    count_touched += !touched[i] + !touched[j]\n",
    "                    touched[i] = true\n",
    "                    touched[j] = true\n",
    "                else\n",
    "                    if !has_edge(g, a1, a2) && !has_edge(g, b1, b2)\n",
    "                        @assert rem_edge!(g, e[i]...)\n",
    "                        @assert rem_edge!(g, e[j]...)\n",
    "                        e[i] = (a1, a2)\n",
    "                        e[j] = (b1, b2)\n",
    "                        add_edge!(g, a1, a2)\n",
    "                        add_edge!(g, b1, b2)\n",
    "                        count_touched += !touched[i] + !touched[j]\n",
    "                        touched[i] = true\n",
    "                        touched[j] = true\n",
    "                    end\n",
    "                end\n",
    "            end\n",
    "        end\n",
    "    end\n",
    "    @assert all(touched)\n",
    "    return g\n",
    "end"
   ]
  },
  {
   "cell_type": "code",
   "execution_count": null,
   "metadata": {},
   "outputs": [],
   "source": [
    "## Fig 4.2 with N nodes and averaging Rep results\n",
    "N = 2^9 ## we use 2^16 and Rep=64 in book\n",
    "Rep = 8\n",
    "seeds = rand(UInt64, Rep)\n",
    "\n",
    "df = DataFrame()\n",
    "for seed in seeds\n",
    "    for (q, a) in ((0.0, true), (1 / 3, true), (2 / 3, true), (1 / 3, false), (2 / 3, false))\n",
    "        for d in 0.25:0.25:3\n",
    "            g = XBS(2^9, d, q, a, seed)\n",
    "            c = maximum(length, connected_components(g)) / nv(g)\n",
    "            push!(df, (seed=seed, q=q, a=a, d=d, component=c))\n",
    "        end\n",
    "    end\n",
    "end\n",
    "\n",
    "@chain df begin\n",
    "    groupby([:q, :a, :d])\n",
    "    combine(:component => mean => :component)\n",
    "    groupby([:q, :a])\n",
    "    foreach((c, s, sdf) -> plot(sdf.d, sdf.component, color=c, linestyle=s),\n",
    "        [\"black\", \"gray\", \"black\", \"gray\", \"black\"],\n",
    "        [\"-\", \"-\", \":\", \"--\", \"--\"], _[[3, 2, 1, 4, 5]])\n",
    "end\n",
    "ylim([0.0, 1.0])\n",
    "xlim([0.0, 3.0])\n",
    "xlabel(\"average degree\")\n",
    "ylabel(\"fraction of nodes\")\n",
    "legend([\"assortative, q=2/3\", \"assortative, q=1/3\", \"q=0\",\n",
    "    \"dissortative, q=1/3\", \"dissortative, q=2/3\"])"
   ]
  },
  {
   "cell_type": "code",
   "execution_count": null,
   "metadata": {},
   "outputs": [],
   "source": [
    "## Fig 4.1\n",
    "\n",
    "Random.seed!(1234)\n",
    "seeds = rand(UInt64, Rep)\n",
    "df = DataFrame()\n",
    "for seed in seeds\n",
    "    for (q, a) in ((0.0, true), (1 / 3, true), (2 / 3, true), (1 / 3, false), (2 / 3, false))\n",
    "        g = XBS(2^9, 4, q, a, seed)\n",
    "        g = induced_subgraph(g, findall(>(0), degree(g)))[1]\n",
    "        ds, knns = eachcol(deg_corr(g))\n",
    "        append!(df, DataFrame(seed=seed, q=q, a=a, ds=ds, knns=knns))\n",
    "    end\n",
    "end\n",
    "\n",
    "@chain df begin\n",
    "    groupby([:q, :a, :ds])\n",
    "    combine(:knns => mean => :knns)\n",
    "    sort(:ds)\n",
    "    groupby([:q, :a])\n",
    "    foreach((c, s, sdf) -> plot(sdf.ds, sdf.knns, color=c, linestyle=s),\n",
    "        [\"black\", \"gray\", \"black\", \"gray\", \"black\"],\n",
    "        [\"-\", \"-\", \":\", \"--\", \"--\"], _[[3, 2, 1, 4, 5]])\n",
    "end\n",
    "xlabel(\"degree (\\$\\\\ell\\$)\")\n",
    "ylabel(\"\\$k_{nn} (\\\\ell)\\$\")\n",
    "xticks(1:2:17)\n",
    "xlim([0.0, 10.0])\n",
    "ylim([3, 8.0])\n",
    "legend([\"assortative, q=2/3\", \"assortative, q=1/3\", \"q=0\",\n",
    "        \"dissortative, q=1/3\", \"dissortative, q=2/3\"],\n",
    "    loc=\"upper center\", ncol=2)\n"
   ]
  }
 ],
 "metadata": {
  "kernelspec": {
   "display_name": "Julia 1.10.0",
   "language": "julia",
   "name": "julia-1.10"
  },
  "language_info": {
   "file_extension": ".jl",
   "mimetype": "application/julia",
   "name": "julia",
   "version": "1.10.0"
  }
 },
 "nbformat": 4,
 "nbformat_minor": 2
}

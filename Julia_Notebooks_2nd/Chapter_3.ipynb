{
 "cells": [
  {
   "cell_type": "markdown",
   "metadata": {},
   "source": [
    "# Chapter 3 - Centrality Measures"
   ]
  },
  {
   "cell_type": "markdown",
   "metadata": {},
   "source": [
    "## Requirements\n",
    "\n",
    "* python-igraph\n",
    "* set directory in the next cell"
   ]
  },
  {
   "cell_type": "code",
   "execution_count": null,
   "metadata": {},
   "outputs": [],
   "source": [
    "datadir = \"../Datasets/\""
   ]
  },
  {
   "cell_type": "code",
   "execution_count": null,
   "metadata": {
    "slideshow": {
     "slide_type": "slide"
    }
   },
   "outputs": [],
   "source": [
    "using Graphs\n",
    "using SimpleWeightedGraphs\n",
    "using DataFrames\n",
    "using CSV\n",
    "using PyPlot\n",
    "using GraphPlot\n",
    "using LinearAlgebra\n",
    "using StatsBase\n",
    "using Random\n",
    "using CategoricalArrays"
   ]
  },
  {
   "cell_type": "code",
   "execution_count": null,
   "metadata": {},
   "outputs": [],
   "source": [
    "ENV[\"COLUMNS\"] = 1000"
   ]
  },
  {
   "cell_type": "markdown",
   "metadata": {},
   "source": [
    "## US Airport Volume of Passengers\n",
    "\n",
    "The nodes are represented by the 3-letter airport codes; we also read in the volume of passengers that we use as edge weights. The edges are directed.\n",
    "\n",
    "We also read node attributes: lat/lon, state, city."
   ]
  },
  {
   "cell_type": "code",
   "execution_count": null,
   "metadata": {},
   "outputs": [],
   "source": [
    "## read edges and build weighted directed graph\n",
    "D = CSV.read(datadir * \"Airports/connections.csv\", DataFrame)"
   ]
  },
  {
   "cell_type": "code",
   "execution_count": null,
   "metadata": {},
   "outputs": [],
   "source": [
    "# normalize weights\n",
    "max_passengers = maximum(D.total_passengers)\n",
    "D.total_passengers /= max_passengers\n",
    "extrema(D.total_passengers)"
   ]
  },
  {
   "cell_type": "code",
   "execution_count": null,
   "metadata": {},
   "outputs": [],
   "source": [
    "id2name = sort!(unique(union(D.orig_airport, D.dest_airport)))\n",
    "name2id = Dict(id2name .=> axes(id2name, 1))\n",
    "g = SimpleWeightedDiGraph(length(id2name))\n",
    "for row in eachrow(D)\n",
    "    from = name2id[row.orig_airport]\n",
    "    to = name2id[row.dest_airport]\n",
    "    from == to || add_edge!(g, from, to, row.total_passengers)\n",
    "end\n",
    "g"
   ]
  },
  {
   "cell_type": "code",
   "execution_count": null,
   "metadata": {},
   "outputs": [],
   "source": [
    "A = CSV.read(datadir * \"Airports/airports_loc.csv\", DataFrame)\n",
    "A.id = [name2id[a] for a in A.airport]\n",
    "@assert A.id == axes(A, 1)\n",
    "@assert A.airport == id2name\n",
    "A"
   ]
  },
  {
   "cell_type": "code",
   "execution_count": null,
   "metadata": {},
   "outputs": [],
   "source": [
    "connected_components(g)"
   ]
  },
  {
   "cell_type": "code",
   "execution_count": null,
   "metadata": {},
   "outputs": [],
   "source": [
    "A[connected_components(g)[end], :]"
   ]
  },
  {
   "cell_type": "code",
   "execution_count": null,
   "metadata": {},
   "outputs": [],
   "source": [
    "maximum(core_number(g))"
   ]
  },
  {
   "cell_type": "markdown",
   "metadata": {},
   "source": [
    "## California subgraph - we look at several centrality measures "
   ]
  },
  {
   "cell_type": "code",
   "execution_count": null,
   "metadata": {},
   "outputs": [],
   "source": [
    "## Build smaller subgraph for California (you can try other states)\n",
    "## drop isolated vertices (i.e. without in-state connections)\n",
    "\n",
    "CA = findall(==(\"CA\"), A.state)\n",
    "G = induced_subgraph(g, CA)[1]\n",
    "A_CA = A[CA, :]\n",
    "NZ = findall(>(0), degree(G))\n",
    "G = induced_subgraph(G, NZ)[1]\n",
    "A_CANZ = A_CA[NZ, :]"
   ]
  },
  {
   "cell_type": "code",
   "execution_count": null,
   "metadata": {},
   "outputs": [],
   "source": [
    "## again the graph is weakly connected except for 2 airports\n",
    "connected_components(G)"
   ]
  },
  {
   "cell_type": "code",
   "execution_count": null,
   "metadata": {},
   "outputs": [],
   "source": [
    "A_CANZ[connected_components(G)[2], :]"
   ]
  },
  {
   "cell_type": "code",
   "execution_count": null,
   "metadata": {},
   "outputs": [],
   "source": [
    "## plot using lat/lon as layout\n",
    "gplot(G, A_CANZ.lon, -A_CANZ.lat,\n",
    "      NODESIZE=0.03, nodefillc=\"black\",\n",
    "      EDGELINEWIDTH=0.2, edgestrokec=\"gray\", arrowlengthfrac=0.05,\n",
    "      linetype=\"curve\")"
   ]
  },
  {
   "cell_type": "code",
   "execution_count": null,
   "metadata": {},
   "outputs": [],
   "source": [
    "dir_degree_centrality(G::SimpleWeightedDiGraph) =\n",
    "    (vec(sum(G.weights, dims=1)) + vec(sum(G.weights, dims=2))) / (2 * (nv(G) - 1))"
   ]
  },
  {
   "cell_type": "code",
   "execution_count": null,
   "metadata": {},
   "outputs": [],
   "source": [
    "function pagerank_simple(G::SimpleWeightedDiGraph; α=0.85)\n",
    "    A = G.weights\n",
    "    B = A ./ sum(A, dims=1)\n",
    "    B[findall(isnan, B)] .= 1 / nv(G) # handle 0 out-degree nodes\n",
    "    return (1 - α) / nv(G) * ((I - α * B) \\ ones(nv(G)))\n",
    "end"
   ]
  },
  {
   "cell_type": "code",
   "execution_count": null,
   "metadata": {},
   "outputs": [],
   "source": [
    "function hub_authority_simple(G::SimpleWeightedDiGraph)\n",
    "    A = Matrix(G.weights)\n",
    "    e = eigen(transpose(A) * A)\n",
    "    λ = e.values[end]\n",
    "    y = e.vectors[:, end]\n",
    "    if all(<=(eps()), y)\n",
    "        y .= -y\n",
    "    end\n",
    "    @assert all(>=(-eps()), y)\n",
    "    x = A * y\n",
    "    y ./= maximum(y)\n",
    "    x ./= maximum(x)\n",
    "    return x, y\n",
    "end"
   ]
  },
  {
   "cell_type": "code",
   "execution_count": null,
   "metadata": {},
   "outputs": [],
   "source": [
    "function simple_closeness(G::SimpleGraph)\n",
    "    c = zeros(nv(G))\n",
    "    for i in 1:nv(G)\n",
    "        x = gdistances(G, i)\n",
    "        x .= min.(x, nv(G))\n",
    "        c .+= x\n",
    "    end\n",
    "    return (nv(G) - 1) ./ c\n",
    "end"
   ]
  },
  {
   "cell_type": "code",
   "execution_count": null,
   "metadata": {},
   "outputs": [],
   "source": [
    "function simple_eccentricity(G::SimpleDiGraph)\n",
    "    return [replace(gdistances(G, v), typemax(Int) => 0) |> maximum for v in 1:nv(G)]\n",
    "end"
   ]
  },
  {
   "cell_type": "code",
   "execution_count": null,
   "metadata": {},
   "outputs": [],
   "source": [
    "function harmonic_centrality(G::SimpleWeightedDiGraph)\n",
    "    return [mean(replace(filter(x -> !isinf(x), 1 ./ gdistances(G, v)), 1 / typemax(Int) => 0)) for v in 1:nv(G)]\n",
    "end"
   ]
  },
  {
   "cell_type": "code",
   "execution_count": null,
   "metadata": {},
   "outputs": [],
   "source": [
    "df = DataFrame(\"airport\" => A_CANZ.airport,\n",
    "    \"degree\" => dir_degree_centrality(G),\n",
    "    \"pagerank\" => pagerank_simple(G),\n",
    "    ([\"authority\", \"hub\"] .=> hub_authority_simple(G))...,\n",
    "    \"between\" => 2 * betweenness_centrality(SimpleDiGraph(G)),\n",
    "    \"harmonic\" => harmonic_centrality(G),\n",
    "    \"closeness\" => simple_closeness(SimpleGraph(SimpleDiGraph(G))),\n",
    "    \"eccentricity\" => simple_eccentricity(SimpleDiGraph(G))\n",
    ")\n",
    "sort(df, :degree, rev=true)"
   ]
  },
  {
   "cell_type": "code",
   "execution_count": null,
   "metadata": {},
   "outputs": [],
   "source": [
    "## highlight top-3 airports w.r.t. pagerank\n",
    "## plot using lat/lon as layout\n",
    "gplot(G, A_CANZ.lon, -A_CANZ.lat,\n",
    "      NODESIZE=0.03, nodefillc=ifelse.(ordinalrank(df.pagerank, rev=true) .<= 3, \"red\", \"black\"),\n",
    "      EDGELINEWIDTH=0.2, edgestrokec=\"gray\", arrowlengthfrac=0.05,\n",
    "      linetype=\"curve\")"
   ]
  },
  {
   "cell_type": "code",
   "execution_count": null,
   "metadata": {},
   "outputs": [],
   "source": [
    "## rank-based correlation between measures\n",
    "DataFrame(corkendall(Matrix(df[:, 2:end])), names(df)[2:end])"
   ]
  },
  {
   "cell_type": "code",
   "execution_count": null,
   "metadata": {},
   "outputs": [],
   "source": [
    "coreness = core_number(G)\n",
    "\n",
    "Mc = maximum(coreness)\n",
    "\n",
    "color = [x == Mc ? \"red\" : x <= mc + 1 ? \"blue\" : \"black\" for x in coreness];"
   ]
  },
  {
   "cell_type": "code",
   "execution_count": null,
   "metadata": {},
   "outputs": [],
   "source": [
    "## plot nodes w.r.t. coreness\n",
    "gplot(G, A_CANZ.lon, -A_CANZ.lat,\n",
    "      NODESIZE=0.03, nodefillc=color,\n",
    "      EDGELINEWIDTH=0.2, edgestrokec=\"gray\", arrowlengthfrac=0.05,\n",
    "      linetype=\"curve\")"
   ]
  },
  {
   "cell_type": "code",
   "execution_count": null,
   "metadata": {},
   "outputs": [],
   "source": [
    "## the above uses the geographical layout, so it is not clear what is going on\n",
    "## let's use a spring layout\n",
    "## Different coreness is more clear\n",
    "Random.seed!(12)\n",
    "gplot(G,\n",
    "      NODESIZE=0.03, nodefillc=color,\n",
    "      EDGELINEWIDTH=0.2, edgestrokec=\"gray\", arrowlengthfrac=0.05,\n",
    "      linetype=\"curve\")"
   ]
  },
  {
   "cell_type": "code",
   "execution_count": null,
   "metadata": {},
   "outputs": [],
   "source": [
    "## show closeness centralities, same layout\n",
    "Random.seed!(12)\n",
    "gplot(G, nodelabel=round.(df.closeness, digits=2),\n",
    "      nodelabeldist=8, nodelabelangleoffset=π / 4,\n",
    "      NODESIZE=0.01, nodefillc=color,\n",
    "      EDGELINEWIDTH=0.2, edgestrokec=\"gray\", arrowlengthfrac=0.05,\n",
    "      linetype=\"curve\")"
   ]
  },
  {
   "cell_type": "code",
   "execution_count": null,
   "metadata": {},
   "outputs": [],
   "source": [
    "## now the 13-core is clearly appearing, and we aso observe a small connected component\n",
    "## that was buried in the previous viz.\n",
    "\n",
    "## vertices in 13-core\n",
    "## note that there are less than 14 nodes, this is an interesting remark and\n",
    "## it is because we consider both in and out-going edges by default for directed graph.\n",
    "df.airport[coreness.==Mc]"
   ]
  },
  {
   "cell_type": "code",
   "execution_count": null,
   "metadata": {},
   "outputs": [],
   "source": [
    "## comparing coreness with other centrality measures\n",
    "df.coreness = coreness\n",
    "combine(groupby(df, :coreness, sort=true),\n",
    "        names(df, Between(:degree, :closeness)) .=> median,\n",
    "        renamecols=false)"
   ]
  },
  {
   "cell_type": "code",
   "execution_count": null,
   "metadata": {},
   "outputs": [],
   "source": [
    "## group in 3 categories\n",
    "df.core_grp = categorical([x <= 2 ? \"low\" : x == 13 ? \"high\" : \"mid\" for x in df.coreness])\n",
    "levels!(df.core_grp, [\"low\", \"mid\", \"high\"])\n",
    "df_grp = combine(groupby(df, :core_grp, sort=true),\n",
    "    names(df, Between(:degree, :closeness)) .=> mean,\n",
    "    renamecols=false)"
   ]
  },
  {
   "cell_type": "code",
   "execution_count": null,
   "metadata": {},
   "outputs": [],
   "source": [
    "## grouped barplot\n",
    "bl, bm, bh = Vector.(eachrow(df_grp[:, 2:end]))\n",
    "barWidth = 0.25\n",
    "# Set position of bar on X axis\n",
    "r1 = 1:length(bh)\n",
    "r2 = r1 .+ barWidth\n",
    "r3 = r2 .+ barWidth\n",
    "# Make the plot\n",
    "bar(r1, bh, color=\"red\", width=barWidth, edgecolor=\"white\", label=\"high coreness\")\n",
    "bar(r2, bm, color=\"blue\", width=barWidth, edgecolor=\"white\", label=\"mid coreness\")\n",
    "bar(r3, bl, color=\"black\", width=barWidth, edgecolor=\"white\", label=\"low coreness\")\n",
    "\n",
    "# Add xticks on the middle of the group bars\n",
    "xlabel(\"measure\", fontsize=14)\n",
    "xticks(r2, names(df_grp, Not(1)), fontsize=10)\n",
    "ylabel(\"score\", fontsize=14)\n",
    "# Create legend & Show graphic\n",
    "legend(fontsize=12);"
   ]
  },
  {
   "cell_type": "markdown",
   "metadata": {},
   "source": [
    "### delta-centrality example"
   ]
  },
  {
   "cell_type": "code",
   "execution_count": null,
   "metadata": {},
   "outputs": [],
   "source": [
    "## Delta-centrality with a simple pandemic spread model\n",
    "function spread(A::AbstractMatrix, α=0.1)\n",
    "    One = ones(size(A, 1))\n",
    "    X = I - α * transpose(A)\n",
    "    return transpose(One) * (X \\ One) / size(A, 1)\n",
    "end\n",
    "\n",
    "function spread_delta_centrality(g::SimpleDiGraph, α=0.1)\n",
    "    A = Matrix(adjacency_matrix(g))\n",
    "    dc = Float64[]\n",
    "    spr = spread(A, α)\n",
    "    for i in 1:nv(g)\n",
    "        A′ = copy(A)\n",
    "        A′[i, :] .= 0\n",
    "        A′[:, i] .= 0\n",
    "        push!(dc, (spr - spread(A′, α)) / spr)\n",
    "    end\n",
    "    return dc\n",
    "end"
   ]
  },
  {
   "cell_type": "code",
   "execution_count": null,
   "metadata": {},
   "outputs": [],
   "source": [
    "df.delta = spread_delta_centrality(SimpleDiGraph(G))\n",
    "df2 = sort(df, :delta, rev=true)"
   ]
  },
  {
   "cell_type": "code",
   "execution_count": null,
   "metadata": {},
   "outputs": [],
   "source": [
    "heights = df2.delta\n",
    "bars = df2.airport\n",
    "y_pos = axes(bars, 1)\n",
    "bar(y_pos, heights, color=recode(get.(df2.core_grp), \"high\" => \"red\", \"mid\" => \"blue\", \"low\" => \"black\"))\n",
    "# Rotation of the bars names\n",
    "ylabel(\"Delta Centrality\", fontsize=12)\n",
    "xticks(y_pos, bars, rotation=90)\n",
    "yticks();"
   ]
  },
  {
   "cell_type": "markdown",
   "metadata": {},
   "source": [
    "## Group centrality, centralization\n",
    "\n",
    "Back to US graph, \n",
    "- which states have highest delta centralities w.r.t. efficiency?\n",
    "- what about centralization for each state subgraph?"
   ]
  },
  {
   "cell_type": "code",
   "execution_count": null,
   "metadata": {},
   "outputs": [],
   "source": [
    "## group delta centrality\n",
    "function efficiency(g::SimpleDiGraph)\n",
    "    n = nv(g)\n",
    "    s = 0\n",
    "    for i in 1:n\n",
    "        v = gdistances(g, i)\n",
    "        s += sum([1 / x for x in v if 0 < x < n])\n",
    "    end\n",
    "    return s / (n * (n - 1))\n",
    "end"
   ]
  },
  {
   "cell_type": "code",
   "execution_count": null,
   "metadata": {},
   "outputs": [],
   "source": [
    "sg = SimpleDiGraph(g)\n",
    "states = unique(A.state)\n",
    "eff_us = efficiency(sg)\n",
    "dc = Float64[]\n",
    "for s in states\n",
    "    v = findall(==(s), A.state)\n",
    "    csg = copy(sg)\n",
    "    for i in 1:nv(csg), j in v\n",
    "        rem_edge!(csg, i, j)\n",
    "        rem_edge!(csg, j, i)\n",
    "    end\n",
    "    push!(dc, (eff_us - efficiency(csg)) / eff_us)\n",
    "end\n",
    "DC = DataFrame(state=states, delta_centrality=dc)\n",
    "sort!(DC, :delta_centrality, rev=true)\n",
    "first(DC, 3)"
   ]
  },
  {
   "cell_type": "code",
   "execution_count": null,
   "metadata": {},
   "outputs": [],
   "source": [
    "last(DC, 3)"
   ]
  },
  {
   "cell_type": "code",
   "execution_count": null,
   "metadata": {},
   "outputs": [],
   "source": [
    "## group centralization (using PageRank) -- by state\n",
    "states = unique(A.state)\n",
    "pr = Float64[]\n",
    "st = String[]\n",
    "for s in states\n",
    "    v = findall(==(s), A.state)\n",
    "    if length(v) > 5 ## look at states with more than 5 airports only\n",
    "        G = induced_subgraph(g, v)[1]\n",
    "        p = pagerank_simple(G)\n",
    "        push!(pr, maximum(p) - mean(p))\n",
    "        push!(st, s)\n",
    "    end\n",
    "end\n",
    "\n",
    "DC = DataFrame(\"State\" => st, \"Pagerank Centralization\" => pr)\n",
    "sort!(DC, 2, rev=true)"
   ]
  },
  {
   "cell_type": "code",
   "execution_count": null,
   "metadata": {},
   "outputs": [],
   "source": [
    "Random.seed!(12)\n",
    "v = findall(==(\"MI\"), A.state)\n",
    "G = induced_subgraph(g, v)[1]\n",
    "NZ = findall(>(0), degree(G))\n",
    "G = induced_subgraph(G, NZ)[1]\n",
    "gplot(G,\n",
    "      NODESIZE=0.03, nodefillc=[x == \"DET\" ? \"red\" : \"black\" for x in A.airport[v]],\n",
    "      EDGELINEWIDTH=0.2, edgestrokec=\"gray\", arrowlengthfrac=0.05,\n",
    "      linetype=\"curve\")"
   ]
  },
  {
   "cell_type": "code",
   "execution_count": null,
   "metadata": {},
   "outputs": [],
   "source": [
    "## state with one big hub city: Detroit\n",
    "A.city[v[NZ]]"
   ]
  },
  {
   "cell_type": "code",
   "execution_count": null,
   "metadata": {},
   "outputs": [],
   "source": [
    "## lowest ones\n",
    "\n",
    "last(DC, 3)"
   ]
  },
  {
   "cell_type": "code",
   "execution_count": null,
   "metadata": {},
   "outputs": [],
   "source": [
    "Random.seed!(3)\n",
    "v = findall(==(\"ND\"), A.state)\n",
    "G = induced_subgraph(g, v)[1]\n",
    "NZ = findall(>(0), degree(G))\n",
    "G = induced_subgraph(G, NZ)[1]\n",
    "gplot(G,\n",
    "      NODESIZE=0.03, nodefillc=\"black\",\n",
    "      EDGELINEWIDTH=0.2, edgestrokec=\"gray\", arrowlengthfrac=0.05,\n",
    "      linetype=\"curve\")"
   ]
  },
  {
   "cell_type": "code",
   "execution_count": null,
   "metadata": {},
   "outputs": [],
   "source": [
    "# no big city, two components\n",
    "A.city[v]"
   ]
  },
  {
   "cell_type": "code",
   "execution_count": null,
   "metadata": {},
   "outputs": [],
   "source": [
    "# what about California\n",
    "last(DC, 15)"
   ]
  }
 ],
 "metadata": {
  "kernelspec": {
   "display_name": "Julia 1.10.0",
   "language": "julia",
   "name": "julia-1.10"
  },
  "language_info": {
   "file_extension": ".jl",
   "mimetype": "application/julia",
   "name": "julia",
   "version": "1.10.0"
  }
 },
 "nbformat": 4,
 "nbformat_minor": 2
}

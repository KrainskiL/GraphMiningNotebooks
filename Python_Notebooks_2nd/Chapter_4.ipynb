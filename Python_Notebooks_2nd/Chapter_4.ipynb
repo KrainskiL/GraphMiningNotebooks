{
 "cells": [
  {
   "cell_type": "markdown",
   "metadata": {},
   "source": [
    "# Chapter 4 - Degree Correlations\n",
    "\n",
    "We explore various notions of degree correlation (**assortativity, disassortativity**) and related measures.\n",
    "\n",
    "As with the previous notebooks, make sure to set the data directory properly in the next cell"
   ]
  },
  {
   "cell_type": "code",
   "execution_count": null,
   "metadata": {},
   "outputs": [],
   "source": [
    "datadir = '../Datasets/'\n"
   ]
  },
  {
   "cell_type": "code",
   "execution_count": null,
   "metadata": {
    "slideshow": {
     "slide_type": "slide"
    }
   },
   "outputs": [],
   "source": [
    "import igraph as ig\n",
    "import numpy as np\n",
    "import pandas as pd\n",
    "import matplotlib.pyplot as plt\n",
    "from sklearn.linear_model import LinearRegression\n",
    "from collections import Counter\n",
    "import seaborn as sns\n"
   ]
  },
  {
   "cell_type": "code",
   "execution_count": null,
   "metadata": {},
   "outputs": [],
   "source": [
    "## define colors from pale to dark\n",
    "colors = ['gainsboro', 'silver', 'darkgray', 'dimgray', 'black']\n",
    "\n",
    "## we will use 3 node sizes:\n",
    "node_sizes  = [6, 9, 12]\n"
   ]
  },
  {
   "cell_type": "markdown",
   "metadata": {},
   "source": [
    "## Some useful functions\n",
    "\n",
    "* **deg_corr**: compute $k_{nn}(l)$ for all degrees $l$, as defined in section 4.3 of the book (undirected)\n",
    "* **deg_corr_directed**: compute $k_{nn}^{mode1,mode2}(l)$ for all degrees $l$, as defined in section 4.5 of the book; mode1 and mode2 can be 'in', 'out' or 'all'\n",
    "* **deg_corr_neutral**: computes degree correlations for a neutral graph with the same degree distribution as the input graph\n",
    "* **corr_exp**: compute the correlation exponent via linear regression (taking logs) as in section 4.3 of the book\n",
    "* **rich_club**: compute the rich club coefficient (see section 4.3 of the book) for a given degree $l$"
   ]
  },
  {
   "cell_type": "code",
   "execution_count": null,
   "metadata": {},
   "outputs": [],
   "source": [
    "## Degree correlation functions\n",
    "\n",
    "# undirected\n",
    "def deg_corr(G):\n",
    "    idx = {v:k for k,v in enumerate([i for i in set(G.degree())])}\n",
    "    idx_inv = {k:v for k,v in enumerate(idx)}\n",
    "    deg = G.degree()\n",
    "    L = [[] for i in range(len(idx))]\n",
    "    for v in G.vs():\n",
    "        w = [deg[i] for i in G.neighbors(v)] \n",
    "        L[idx[v.degree()]].extend(w)\n",
    "    return {idx_inv[i]:np.mean(L[i]) for i in range(len(L))}\n",
    "\n",
    "## k_nn^{mode1,mode2}(l) : average mode2-degree of mode1-neighbours of nodes with mode1-degree = l\n",
    "def deg_corr_directed(G, mode1='all', mode2='all'):\n",
    "    idx = {v:k for k,v in enumerate([i for i in set(G.degree(mode=mode1))])}\n",
    "    idx_inv = {k:v for k,v in enumerate(idx)}\n",
    "    deg = G.degree(mode=mode2)\n",
    "    L = [[] for i in range(len(idx))]\n",
    "    for v in G.vs():\n",
    "        w = [deg[i] for i in G.neighbors(v, mode='out')] ## do each link only once\n",
    "        L[idx[v.degree(mode=mode1)]].extend(w)\n",
    "    return {idx_inv[i]:np.mean(L[i]) for i in range(len(L)) if len(L[i])>0}\n",
    "\n",
    "## degree correlation for neutral graph with degree distribution in G\n",
    "def deg_corr_neutral(G, mode='all'):\n",
    "    x = G.degree(mode=mode)\n",
    "    return np.mean([i**2 for i in x])/np.mean(x)    \n",
    "\n",
    "## Correlation exponent via linear regression (taking logs)\n",
    "def corr_exp(G):\n",
    "    ## compute knn's\n",
    "    knn = deg_corr(G)\n",
    "    # Fit the regression\n",
    "    regressor = LinearRegression()  \n",
    "    x = [np.log(i) for i in knn.keys()]\n",
    "    y = [np.log(i) for i in knn.values()]\n",
    "    regressor.fit(np.array(x).reshape(-1,1), y)\n",
    "    return regressor.coef_[0]\n",
    "\n",
    "## for a fixed value for l\n",
    "def rich_club(g, l=1):\n",
    "    g.vs()['degree'] = g.degree()\n",
    "    l_max = np.max(g.degree())\n",
    "    c = Counter(g.degree())\n",
    "    n = g.vcount()\n",
    "    moment = np.sum([k*c[k]/n for k in c])**2\n",
    "    S = [k*c[k]/n for k in c if k>=l]\n",
    "    phi_hat = np.sum([x*y for x in S for y in S])*g.ecount()/moment\n",
    "    G = g.subgraph([v for v in g.vs() if v['degree']>=l])\n",
    "    phi = G.ecount()\n",
    "    return phi/phi_hat     \n"
   ]
  },
  {
   "cell_type": "markdown",
   "metadata": {},
   "source": [
    "# US Airports Graph\n",
    "\n",
    "We use the same dataset as in previous chapter: a directed, weighted graph where edge weights are passenger volumes between airports. The weights are not used in this notebook, as we only consider node degrees (in, out and total degrees).\n"
   ]
  },
  {
   "cell_type": "code",
   "execution_count": null,
   "metadata": {},
   "outputs": [],
   "source": [
    "## read edges and build weighted directed graph\n",
    "df = pd.read_csv(datadir+'Airports/connections.csv')\n",
    "g_airport = ig.Graph.TupleList([tuple(x) for x in df.values], directed=True, edge_attrs=['weight'])\n",
    "\n",
    "## read vertex attributes and add to graph\n",
    "Attr = pd.read_csv(datadir+'Airports/airports_loc.csv')\n",
    "## map airports in Attr to the node order in graph g\n",
    "lookup = {k:v for v,k in enumerate(Attr['airport'])}\n",
    "l = [lookup[x] for x in g_airport.vs()['name']]\n",
    "## save lat/lon as tuples for each node:\n",
    "g_airport.vs()['layout'] = [(Attr['lon'][i],Attr['lat'][i]) for i in l]\n",
    "g_airport.vs()['state'] = [Attr['state'][i] for i in l]\n",
    "g_airport.vs()['city'] = [Attr['city'][i] for i in l]\n",
    "\n",
    "## drop loops; this will also remove edge weights, but we won't need those\n",
    "g_airport = g_airport.simplify()\n",
    "\n",
    "## add a few more attributes for visualization\n",
    "g_airport.vs()['size'] = node_sizes[1]\n",
    "g_airport.vs()['color'] = colors[3]\n",
    "g_airport.es()['color'] = colors[0]\n",
    "g_airport.es()['arrow_size'] = 0.33\n",
    "print('Airport graph:',g_airport.vcount(), 'nodes and', g_airport.ecount(), 'directed edges')\n"
   ]
  },
  {
   "cell_type": "markdown",
   "metadata": {},
   "source": [
    "## Directed Degree Correlation Functions (4 cases)\n",
    "\n",
    "Plot $k_{nn}^{mode1,mode2}(l)$ for all degrees $l$, where mode1 and mode2 are either 'in' or 'out'.\n",
    "As detailed in section 4.5, this is the average mode2-degree of mode1-neighbours of nodes with mode1-degree = $l$.\n",
    "Dashed lines are for neutral graphs.\n",
    "\n",
    "While not identical, we see that the four plots are very similar, showing a slightly negative correlation except for the nodes of small degree. This similarity is not surprising as in this directed graph the edges very often come in pairs: when there are flights from A to B, there are very often flights from B to A.\n"
   ]
  },
  {
   "cell_type": "code",
   "execution_count": null,
   "metadata": {},
   "outputs": [],
   "source": [
    "## IN -- IN\n",
    "knn = deg_corr_directed(g_airport, 'in', 'in')\n",
    "x = list(knn.keys())\n",
    "y = list(knn.values())\n",
    "r = deg_corr_neutral(g_airport, 'in')\n",
    "plt.scatter(x, y, c=colors[4])\n",
    "plt.hlines(y=r, xmin=min(x), xmax=max(x), linestyles=':', color=colors[3])\n",
    "plt.ylabel(r'$k_{nn}(\\ell)$', fontsize=12);\n"
   ]
  },
  {
   "cell_type": "code",
   "execution_count": null,
   "metadata": {},
   "outputs": [],
   "source": [
    "## IN -- OUT\n",
    "knn = deg_corr_directed(g_airport, 'in', 'out')\n",
    "x = list(knn.keys())\n",
    "y = list(knn.values())\n",
    "r = deg_corr_neutral(g_airport,'out')\n",
    "plt.scatter(x, y, c=colors[4])\n",
    "plt.hlines(y=r, xmin=min(x), xmax=max(x), linestyles=':', color=colors[3]);\n"
   ]
  },
  {
   "cell_type": "code",
   "execution_count": null,
   "metadata": {},
   "outputs": [],
   "source": [
    "## OUT -- IN\n",
    "knn = deg_corr_directed(g_airport, 'out', 'in')\n",
    "x = list(knn.keys())\n",
    "y = list(knn.values())\n",
    "r = deg_corr_neutral(g_airport, 'in')\n",
    "plt.scatter(x, y, c=colors[4])\n",
    "plt.hlines(y=r, xmin=min(x), xmax=max(x), linestyles=':', color=colors[3])\n",
    "plt.xlabel(r'degree ($\\ell$)',fontsize=12)\n",
    "plt.ylabel(r'$k_{nn}(\\ell)$',fontsize=12);\n"
   ]
  },
  {
   "cell_type": "code",
   "execution_count": null,
   "metadata": {},
   "outputs": [],
   "source": [
    "## OUT -- OUT\n",
    "knn = deg_corr_directed(g_airport, 'out', 'out')\n",
    "x = list(knn.keys())\n",
    "y = list(knn.values())\n",
    "r = deg_corr_neutral(g_airport, 'out')\n",
    "plt.scatter(x, y, c=colors[4])\n",
    "plt.hlines(y=r, xmin=min(x), xmax=max(x), linestyles=':', color=colors[3])\n",
    "plt.xlabel(r'degree ($\\ell$)',fontsize=12);\n"
   ]
  },
  {
   "cell_type": "markdown",
   "metadata": {},
   "source": [
    "##  Airport graph -- undirected\n",
    "\n",
    "We now consider an **undirected** version of the airport graph.  Degree correlation is quite similar to the previous plots. We plot both using linear and log scale.\n"
   ]
  },
  {
   "cell_type": "code",
   "execution_count": null,
   "metadata": {},
   "outputs": [],
   "source": [
    "## consider undirected graph\n",
    "g_und = g_airport.as_undirected()\n",
    "g_und.es()['color'] = colors[0]\n",
    "\n",
    "## linear scale plot\n",
    "knn = deg_corr(g_und)\n",
    "x = list(knn.keys())\n",
    "y = list(knn.values())\n",
    "r = deg_corr_neutral(g_und)\n",
    "plt.scatter(x, y, c=colors[4])\n",
    "plt.hlines(y=r, xmin=min(x), xmax=max(x), linestyles=':', color=colors[3])\n",
    "plt.xlabel(r'degree ($\\ell$)', fontsize=12)\n",
    "plt.ylabel(r'$k_{nn}(\\ell)$', fontsize=12);\n"
   ]
  },
  {
   "cell_type": "code",
   "execution_count": null,
   "metadata": {},
   "outputs": [],
   "source": [
    "## log scale plot\n",
    "plt.loglog(x, y, 'o', c=colors[4])\n",
    "plt.hlines(y=r, xmin=min(x), xmax=max(x), linestyles=':', color=colors[3])\n",
    "plt.ylim((52,120))\n",
    "plt.xlabel(r'degree ($\\ell$)', fontsize=12);\n"
   ]
  },
  {
   "cell_type": "markdown",
   "metadata": {},
   "source": [
    "# State by state assortativity and correlation exponent\n",
    "\n",
    "We consider each state in the airport graph for which there are more than 5 vertices that have within-state edges.\n",
    "We compute the following quantities defined in section 4.3 of the book:\n",
    "\n",
    "* the degree correlation coefficient, or degree assortativity ($r$)\n",
    "* the correlation exponent ($\\mu$) estimated via regression\n"
   ]
  },
  {
   "cell_type": "code",
   "execution_count": null,
   "metadata": {},
   "outputs": [],
   "source": [
    "## compute r and mu for each state, store in data frame and sort w.r.t. r (assortativity)\n",
    "L = []\n",
    "for s in set(list(Attr['state'])):\n",
    "    ## Build state subgraph\n",
    "    vertices = [v for v in g_und.vs() if v['state'] == s]\n",
    "    g_state = g_und.subgraph(vertices)\n",
    "    ## drop isolated vertices (i.e. without in-state connections)\n",
    "    g_state = g_state.subgraph([v for v in g_state.vs() if v.degree()>0])\n",
    "    ## remove loops\n",
    "    g_state = g_state.simplify(multiple=False)\n",
    "    ## only consider graphs with > 5 vertices\n",
    "    if g_state.vcount() >= 6:\n",
    "        mu = corr_exp(g_state)        \n",
    "        L.append([s, g_state.vcount(), g_state.ecount(), g_state.assortativity_degree(),mu])\n",
    "df = pd.DataFrame(L,columns=['state','nodes','edges','assortativity','mu'])\n",
    "df = df.sort_values(by='assortativity')\n",
    "\n",
    "## show top states w.r.t. 'r' (lowest assortativity; min possible value is -1)\n",
    "df.head(5)\n"
   ]
  },
  {
   "cell_type": "code",
   "execution_count": null,
   "metadata": {},
   "outputs": [],
   "source": [
    "## show bottom states w.r.t. 'r' (highest assortativity)\n",
    "df.tail(5)\n"
   ]
  },
  {
   "cell_type": "markdown",
   "metadata": {},
   "source": [
    "### Correlation between $r$ and $\\mu$\n",
    "\n",
    "Some states are quite small (very few nodes and edges), but we still see good correlation between those quantities."
   ]
  },
  {
   "cell_type": "code",
   "execution_count": null,
   "metadata": {},
   "outputs": [],
   "source": [
    "## correlation between r and mu\n",
    "plt.plot(df['assortativity'],df['mu'],'o',color=colors[4])\n",
    "plt.xlabel('degree correlation coefficient ($r$)',fontsize=12)\n",
    "plt.ylabel(r'correlation exponent ($\\mu$)',fontsize=12)\n",
    "print('Person correlation:',np.corrcoef(df['assortativity'],df['mu'])[1,0])\n",
    "ident = [-1.0, 1.0]\n",
    "plt.plot(ident, ident, ':', c=colors[3]);\n"
   ]
  },
  {
   "cell_type": "markdown",
   "metadata": {},
   "source": [
    "# Looking at a few states with high/low assortativity"
   ]
  },
  {
   "cell_type": "markdown",
   "metadata": {},
   "source": [
    "## Positive assortativity: ND+SD\n",
    "\n",
    "We merge the graphs from North and South Dakota; the resulting graph has positive assortativity value $r$ = 0.243. \n",
    "We notice the presence of a dense region (interconnected high degree nodes) and some tendrils with low degree nodes. \n"
   ]
  },
  {
   "cell_type": "code",
   "execution_count": null,
   "metadata": {},
   "outputs": [],
   "source": [
    "## positive assortativity: the Dakotas (ND+SD)\n",
    "nodes = [v for v in g_und.vs() if v['state'] == 'SD' or v['state'] == 'ND']\n",
    "g_D = g_und.subgraph(nodes)\n",
    "g_D = g_D.subgraph([v for v in g_D.vs() if v.degree()>0])\n",
    "g_D = g_D.simplify(multiple=False)\n",
    "print('r =', g_D.assortativity_degree())\n",
    "ig.plot(g_D, bbox=(0,0,300,200))\n"
   ]
  },
  {
   "cell_type": "markdown",
   "metadata": {},
   "source": [
    "Below we compare $r$ and $\\mu$ for a random models with the same degree distribution as in the North+South Dakota graph ```g_D```. We use the configuration model from Viger and Latapy; we also report the proportion of nodes above the structural cutoff given the degree distribution.\n",
    "\n",
    "Below we introduce a **violinplot** from the **seaborn** library, which is a nioce mix of a boxplot and kernel density estimation.\n",
    "\n",
    "The resulting values are quite different than for the real graph."
   ]
  },
  {
   "cell_type": "code",
   "execution_count": null,
   "metadata": {
    "scrolled": false
   },
   "outputs": [],
   "source": [
    "## r and mu for 1000 random graphs via Viger-Latapy random graph model\n",
    "r = []\n",
    "mu = []\n",
    "for i in range(1000):    \n",
    "    cm = ig.Graph.Degree_Sequence(g_D.degree(),method=\"vl\")\n",
    "    r.append(cm.assortativity_degree())\n",
    "    mu.append(corr_exp(cm))\n",
    "## structural cutoff\n",
    "sc = np.sqrt(2*g_D.ecount())\n",
    "p = len([x for x in g_D.degree() if x > sc])/g_D.vcount()\n",
    "print('Values for the real graph:','r =',g_D.assortativity_degree(), 'mu =',corr_exp(g_D),\n",
    "      '\\nP(edges above structural cutoff) =', p)\n",
    "ax = sns.violinplot([r,mu], widths=.8, color=colors[2])\n",
    "ax.set_title('Comparing values on a random graph')\n",
    "ax.set_xticklabels([r'assortativity ($r$)',r'correlation exponent ($\\mu$)']);\n",
    "\n"
   ]
  },
  {
   "cell_type": "markdown",
   "metadata": {},
   "source": [
    "Another way to see this is to plot the degree correlation functions for the real graphs and for one of the generated configuration model graphs, which we show below."
   ]
  },
  {
   "cell_type": "code",
   "execution_count": null,
   "metadata": {},
   "outputs": [],
   "source": [
    "## degree correlation function for the Dakotas graph\n",
    "## dotted line: neutral graph value\n",
    "knn = deg_corr(g_D)\n",
    "x = list(knn.keys())\n",
    "y = list(knn.values())\n",
    "r = deg_corr_neutral(g_D)\n",
    "plt.scatter(x,y,c='black')\n",
    "plt.hlines(y=r,xmin=min(x),xmax=max(x),linestyles=':')\n",
    "plt.xlabel('degree (k)',fontsize=12)\n",
    "plt.ylabel(r'$k_{nn}(k)$',fontsize=12);\n",
    "# plt.savefig('degree_corr_D.eps')\n"
   ]
  },
  {
   "cell_type": "code",
   "execution_count": null,
   "metadata": {},
   "outputs": [],
   "source": [
    "## degree correlation function for a configuration model random graph\n",
    "## quite different!\n",
    "knn = deg_corr(cm)\n",
    "x = list(knn.keys())\n",
    "y = list(knn.values())\n",
    "r = deg_corr_neutral(cm)\n",
    "plt.scatter(x,y,c='black')\n",
    "plt.hlines(y=r,xmin=min(x),xmax=max(x),linestyles=':')\n",
    "plt.xlabel('degree (k)',fontsize=12)\n",
    "plt.ylabel(r'$k_{nn}(k)$',fontsize=12);\n",
    "# plt.savefig('degree_corr_MO_cm.eps')\n",
    "\n"
   ]
  },
  {
   "cell_type": "markdown",
   "metadata": {},
   "source": [
    "## Negative assortativity: MO\n",
    "\n",
    "We plot the graph for MO (Missouri) which has negative assortativity value r = -0.547. We see that in this graph the low degree nodes mostly connect to the large degree hub nodes.\n"
   ]
  },
  {
   "cell_type": "code",
   "execution_count": null,
   "metadata": {},
   "outputs": [],
   "source": [
    "## negative case: the MO graph (Missouri) \n",
    "nodes = [v for v in g_und.vs() if v['state'] == 'MO' ]\n",
    "g_MO = g_und.subgraph(nodes)\n",
    "g_MO = g_MO.subgraph([v for v in g_MO.vs() if v.degree()>0])\n",
    "g_MO = g_MO.simplify(multiple=False)\n",
    "print('r =',g_MO.assortativity_degree())\n",
    "ig.plot(g_MO, bbox=(0,0,300,200))\n",
    "\n",
    "# ig.plot(g_MO, \"MO.eps\", bbox=(0,0,300,200))\n"
   ]
  },
  {
   "cell_type": "markdown",
   "metadata": {},
   "source": [
    "Below we compare $r$ and $\\mu$ vs random models for the MO graph ```g_MO```.\n",
    "We use the configuration model from Viger and Latapy; we also report the proportion of nodes above the structural cutoff given the degree distribution.\n",
    "\n",
    "The values are similar to the ones for the real graph. Therefore, in that case, the resulting values for $r$ and $\\mu$ can mostly be explained by the degree distribution: hubs are forced to be adjacent to small degree nodes. \n"
   ]
  },
  {
   "cell_type": "code",
   "execution_count": null,
   "metadata": {
    "scrolled": false
   },
   "outputs": [],
   "source": [
    "## r and mu vs random configuration model for MO graph\n",
    "r = []\n",
    "mu = []\n",
    "for i in range(1000):    \n",
    "    cm = ig.Graph.Degree_Sequence(g_MO.degree(),method=\"vl\")\n",
    "    r.append(cm.assortativity_degree())\n",
    "    mu.append(corr_exp(cm))\n",
    "## structural cutoff\n",
    "sc = np.sqrt(2*g_MO.ecount())\n",
    "p = len([x for x in g_MO.degree() if x > sc])/g_MO.vcount()\n",
    "print('Values for the real graph:','r =',g_MO.assortativity_degree(),'mu =',corr_exp(g_MO),\n",
    "      '\\nP(edges above structural cutoff) =', p)\n",
    "\n",
    "ax = sns.violinplot([r,mu], widths=.8, color=colors[2])\n",
    "ax.set_title('Comparing values on a random graph')\n",
    "ax.set_xticklabels([r'assortativity ($r$)',r'correlation exponent ($\\mu$)']);\n",
    "\n",
    "# plt.boxplot([r,mu],labels=[r'assortativity ($r$)',r'correlation exponent ($\\mu$)'],widths=.7,sym='');\n",
    "# plt.savefig('config_MO.eps');\n"
   ]
  },
  {
   "cell_type": "markdown",
   "metadata": {},
   "source": [
    "Results are very similar if we use simple \"rejection sampling\" for the configuration model.\n",
    "This is however much slower. Un-comment the cell below to run."
   ]
  },
  {
   "cell_type": "code",
   "execution_count": null,
   "metadata": {},
   "outputs": [],
   "source": [
    "## we can also use rejection sampling (this can be slow)\n",
    "g_MO.vs['degree'] = g_MO.degree()\n",
    "V = []\n",
    "for v in g_MO.vs():\n",
    "    V.extend(np.repeat(v.index,v['degree']))\n",
    "r = []\n",
    "mu = []\n",
    "for rep in range(1000): \n",
    "    notdone = True\n",
    "    while notdone:\n",
    "        np.random.shuffle(V)\n",
    "        notdone = False\n",
    "        rg = ig.Graph()\n",
    "        rg.add_vertices(np.max(V)+1)\n",
    "        for i in np.arange(0,len(V),2):\n",
    "            a, b = V[i], V[i+1]\n",
    "            if a == b or rg.get_eid(a,b,error=False) != -1:\n",
    "                notdone = True\n",
    "                break\n",
    "            else:\n",
    "                rg.add_edge(a,b)\n",
    "    r.append(rg.assortativity_degree())\n",
    "    mu.append(corr_exp(rg))\n",
    "\n",
    "ax = sns.violinplot([r,mu], widths=.8, color=colors[2])\n",
    "ax.set_title('Comparing values on a random graph')\n",
    "ax.set_xticklabels([r'assortativity ($r$)',r'correlation exponent ($\\mu$)']);\n",
    "\n",
    "# plt.boxplot([r,mu],labels=[r'assortativity ($r$)',r'correlation exponent ($\\mu$)'],widths=.7,sym='');\n",
    "\n",
    "# plt.savefig('reject_MO.png');\n"
   ]
  },
  {
   "cell_type": "markdown",
   "metadata": {},
   "source": [
    "Another way to see this is to plot the degree correlation functions for the real graphs and for one of the generated configuration model graphs, which we show below."
   ]
  },
  {
   "cell_type": "code",
   "execution_count": null,
   "metadata": {},
   "outputs": [],
   "source": [
    "## degree correlation function for MO graph\n",
    "knn = deg_corr(g_MO)\n",
    "x = list(knn.keys())\n",
    "y = list(knn.values())\n",
    "r = deg_corr_neutral(g_MO)\n",
    "plt.scatter(x,y,c='black')\n",
    "plt.hlines(y=r,xmin=min(x),xmax=max(x),linestyles=':')\n",
    "plt.xlabel('degree (k)',fontsize=12)\n",
    "plt.ylabel(r'$k_{nn}(k)$',fontsize=12);\n",
    "#plt.savefig('degree_corr_MO.eps')\n"
   ]
  },
  {
   "cell_type": "code",
   "execution_count": null,
   "metadata": {},
   "outputs": [],
   "source": [
    "## degree correlation function for a configuration random graph\n",
    "## quite similar!\n",
    "cm = ig.Graph.Degree_Sequence(g_MO.degree(),method=\"vl\")\n",
    "knn = deg_corr(cm)\n",
    "x = list(knn.keys())\n",
    "y = list(knn.values())\n",
    "r = deg_corr_neutral(cm)\n",
    "plt.scatter(x,y,c='black')\n",
    "plt.hlines(y=r,xmin=min(x),xmax=max(x),linestyles=':')\n",
    "plt.xlabel('degree (k)',fontsize=12)\n",
    "plt.ylabel(r'$k_{nn}(k)$',fontsize=12);\n",
    "#plt.savefig('degree_corr_MO_cm.eps')\n"
   ]
  },
  {
   "cell_type": "markdown",
   "metadata": {},
   "source": [
    "## Assortativity: two extreme cases\n",
    "\n",
    "Below we show two small state subgraphs with $r=-1$ (NE) and $r=1$ (AR).\n",
    "The AR graph consists of two cliques, so each node has the same degree as its neighbour. On the other hand, in the NE graph every node of degree 1 has a neighbour of degree 2, and nodes of degree 2 have 2 neighbours of degree 1. \n"
   ]
  },
  {
   "cell_type": "code",
   "execution_count": null,
   "metadata": {},
   "outputs": [],
   "source": [
    "## state with r = -1 (NE)\n",
    "nodes = [v for v in g_und.vs() if v['state'] == 'NE' ]\n",
    "g_NE = g_und.subgraph(nodes)\n",
    "g_NE = g_NE.subgraph([v for v in g_NE.vs() if v.degree()>0])\n",
    "g_NE = g_NE.simplify(multiple=False)\n",
    "print('r =',g_NE.assortativity_degree())\n",
    "ig.plot(g_NE,bbox=(0,0,300,200))\n",
    "\n",
    "#ig.plot(g_NE, \"NE.eps\", bbox=(0,0,300,200))\n"
   ]
  },
  {
   "cell_type": "code",
   "execution_count": null,
   "metadata": {},
   "outputs": [],
   "source": [
    "## state with r = +1 (AR) \n",
    "nodes = [v for v in g_und.vs() if v['state'] == 'AR' ]\n",
    "g_AR = g_und.subgraph(nodes)\n",
    "g_AR = g_AR.subgraph([v for v in g_AR.vs() if v.degree()>0])\n",
    "g_AR = g_AR.simplify(multiple=False)\n",
    "print('r =',g_AR.assortativity_degree())\n",
    "ig.plot(g_AR, bbox=(0,0,300,200))\n",
    "#ig.plot(g_AR, \"AR.eps\", bbox=(0,0,300,200))\n"
   ]
  },
  {
   "cell_type": "markdown",
   "metadata": {},
   "source": [
    "## Back to Overall US Airport graph \n",
    "\n",
    "We go back to the full (undirected) US airport graph in order to illustrate two concepts:\n",
    "\n",
    "* the friendship \"paradox\" \n",
    "* the rich club phenomenon, if any\n",
    "\n",
    "For each node, we compare its degree with the average degree of its neighbours. We draw a line with unit slope to highlight the fact that the region above that line is much denser. This is due to the fact that there are many low degree nodes (smaller airports) which mostly tend to connect to hub airports, which explains the presence of this “paradox.”\n",
    "\n",
    "Next we compute the rich-club ratio $\\rho(l)$ for all values of $l$. We see that the curve starts at 1, increases slightly before decreasing gradually. We conclude that there is no indication of a rich-club phenomenon here.\n"
   ]
  },
  {
   "cell_type": "code",
   "execution_count": null,
   "metadata": {},
   "outputs": [],
   "source": [
    "## plot degree vs avg neighbour degree\n",
    "## friendship 'paradox' US Airport graph (overall)\n",
    "deg = [v.degree() for v in g_und.vs()]\n",
    "nad = []\n",
    "for v in g_und.vs():\n",
    "    nv = g_und.neighbors(v)\n",
    "    nad.append(np.mean([deg[i] for i in nv]))\n",
    "\n",
    "plt.scatter(deg,nad,c='black',marker='.')\n",
    "plt.xlim((0,200))\n",
    "plt.ylim((0,200))\n",
    "plt.xlabel('node degree', fontsize=14)\n",
    "plt.ylabel('average neighbour degree', fontsize=14);\n",
    "plt.plot([0,200],[0,200],'--', c='gray')\n",
    "print('r =',g_und.assortativity_degree());\n",
    "#plt.savefig('friendship.eps')\n"
   ]
  },
  {
   "cell_type": "code",
   "execution_count": null,
   "metadata": {},
   "outputs": [],
   "source": [
    "## looking for rich club -- not here!\n",
    "d = list(set(g_und.degree()))\n",
    "rc = []\n",
    "for i in d:\n",
    "    rc.append(rich_club(g_und, l=i))\n",
    "plt.semilogx(d,rc,'.',c='black')\n",
    "plt.xlabel(r'degree $\\ell$',fontsize=12)\n",
    "plt.ylabel(r'rich club coefficient $\\rho(\\ell)$');\n",
    "#plt.savefig('rich_club.eps');\n"
   ]
  },
  {
   "cell_type": "markdown",
   "metadata": {},
   "source": [
    "## Quick look: Europe Electric Grid Network\n",
    "\n",
    "This is a graph we saw before. \n",
    "Recall that the degree distribution is quite uniform (no high degree node, for example).\n",
    "\n",
    "We notice a small, but positive assortativity $r$, which we also see on the degree correlation function plot.\n",
    "From the average neighbour degree plot, the friendship paradox is not obvious here, mainly due to the absence of high degree \"hub\" nodes.\n"
   ]
  },
  {
   "cell_type": "code",
   "execution_count": null,
   "metadata": {},
   "outputs": [],
   "source": [
    "## Europe Electric Grid\n",
    "grid = ig.Graph.Read_Ncol(datadir+'GridEurope/gridkit_europe-highvoltage.edges', directed=False)\n",
    "grid = grid.simplify()\n"
   ]
  },
  {
   "cell_type": "code",
   "execution_count": null,
   "metadata": {},
   "outputs": [],
   "source": [
    "## plot degree vs avg neighbour degree\n",
    "deg = [v.degree() for v in grid.vs()]\n",
    "nad = []\n",
    "for v in grid.vs():\n",
    "    nv = grid.neighbors(v)\n",
    "    nad.append(np.mean([deg[i] for i in nv]))\n",
    "\n",
    "plt.scatter(deg,nad,c='black',marker='.')\n",
    "plt.xlim((0,18))\n",
    "plt.ylim((0,18))\n",
    "plt.xlabel('node degree', fontsize=14)\n",
    "plt.ylabel('average neighbour degree', fontsize=14);\n",
    "plt.plot([0,18],[0,18],'--', c='gray')\n",
    "print('r =',grid.assortativity_degree());\n",
    "#plt.savefig('friendship_grid.eps')\n"
   ]
  },
  {
   "cell_type": "code",
   "execution_count": null,
   "metadata": {},
   "outputs": [],
   "source": [
    "## Degree correlation function\n",
    "knn = deg_corr(grid)\n",
    "x = list(knn.keys())\n",
    "y = list(knn.values())\n",
    "r = deg_corr_neutral(grid)\n",
    "plt.scatter(x,y,c='black')\n",
    "plt.hlines(y=r,xmin=min(x),xmax=max(x),linestyles=':')\n",
    "plt.xlabel(r'degree ($\\ell$)',fontsize=12)\n",
    "plt.ylabel(r'$k_{nn}(\\ell)$',fontsize=12);\n",
    "#plt.savefig('degree_corr_grid.eps')\n"
   ]
  },
  {
   "cell_type": "markdown",
   "metadata": {},
   "source": [
    "## Quick look: GitHub Developers Graph\n",
    "\n",
    "This is another graph we saw before. \n",
    "\n",
    "Here, we observe negative assortativity, which is common for social networks, and we also strongly observe the friendship paradox phenomenon.\n",
    "\n",
    "Despite the presence of high degree nodes, there is no evidence of the rich club phenomenon in this graph."
   ]
  },
  {
   "cell_type": "code",
   "execution_count": null,
   "metadata": {},
   "outputs": [],
   "source": [
    "## GitHub Developers (undirected)\n",
    "D = pd.read_csv(datadir+'GitHubDevelopers/musae_git_edges.csv')\n",
    "tuples = [tuple(x) for x in D.values]\n",
    "git = ig.Graph.TupleList(tuples, directed = False)\n"
   ]
  },
  {
   "cell_type": "code",
   "execution_count": null,
   "metadata": {},
   "outputs": [],
   "source": [
    "## plot degree vs avg neighbour degree\n",
    "## zoom in on nodes with degree < LIM\n",
    "LIM = 1000\n",
    "deg = [v.degree() for v in git.vs()]\n",
    "nad = []\n",
    "for v in git.vs():\n",
    "    nv = git.neighbors(v)\n",
    "    nad.append(np.mean([deg[i] for i in nv]))\n",
    "\n",
    "plt.scatter(deg,nad,c='black',marker='.')\n",
    "plt.xlim((0,LIM))\n",
    "plt.ylim((0,LIM))\n",
    "plt.xlabel('node degree', fontsize=14)\n",
    "plt.ylabel('average neighbour degree', fontsize=14);\n",
    "plt.plot([0,LIM],[0,LIM],'--', c='gray')\n",
    "print('r =',git.assortativity_degree());\n",
    "#plt.savefig('friendship_github.eps')\n"
   ]
  },
  {
   "cell_type": "code",
   "execution_count": null,
   "metadata": {},
   "outputs": [],
   "source": [
    "## degree correlation function\n",
    "knn = deg_corr(git)\n",
    "x = list(knn.keys())\n",
    "y = list(knn.values())\n",
    "idx = np.random.choice(len(x),100,replace=False)\n",
    "r = deg_corr_neutral(git)\n",
    "plt.xlim((0,LIM))\n",
    "plt.scatter(x,y,marker='.',c='black')\n",
    "plt.hlines(y=r,xmin=min(x),xmax=max(x),linestyles=':')\n",
    "plt.xlabel(r'degree ($\\ell$)',fontsize=12)\n",
    "plt.ylabel(r'$k_{nn}(\\ell)$',fontsize=12);\n",
    "#plt.savefig('degree_corr_github.eps')\n"
   ]
  },
  {
   "cell_type": "code",
   "execution_count": null,
   "metadata": {},
   "outputs": [],
   "source": [
    "## still no rich club group here\n",
    "d = list(set(git.degree()))\n",
    "rc = []\n",
    "for i in d:\n",
    "    rc.append(rich_club(git, l=i))\n",
    "plt.semilogx(d,rc,'.',c='black')\n",
    "plt.xlabel(r'degree $\\ell$',fontsize=12)\n",
    "plt.ylabel(r'rich club coefficient $\\rho(\\ell)$');\n",
    "#plt.savefig('rich_club_github.eps');\n"
   ]
  },
  {
   "cell_type": "markdown",
   "metadata": {},
   "source": [
    "## Showing a Rich Club phenomenon: the Actors graph\n",
    "\n",
    "This data set is part of the accompanying material of the book \"Complex Networks: Principles, Methods and Applications\", V. Latora, V. Nicosia, G. Russo, Cambridge University Press (2017).\n",
    "\n",
    "It has 248,243 nodes (actors) and 8,302,734 edges (actors co-appearing in at least 1 movie).\n",
    "\n",
    "We use this data to illustrate the presence of a \"rich club\", which may be explained by the fact that famous actors tend to play in many movies (high degree) and with other famous actors (rich-club phenomenon).\n",
    "\n",
    "To speed up the computation, we sample 200 distinct node degrees appearing in the graph for which we compute and plot the rich club coefficient. This can still take a few minutes to complete.\n"
   ]
  },
  {
   "cell_type": "code",
   "execution_count": null,
   "metadata": {},
   "outputs": [],
   "source": [
    "## Actors graph\n",
    "D = pd.read_csv(datadir+'Actors/movie_actors.net', sep=' ', header=None)\n",
    "tuples = [tuple(x) for x in D.values]\n",
    "g_act = ig.Graph.TupleList(tuples, directed = False)\n",
    "\n",
    "## This can be slow -- you may want to take a sample first\n",
    "d = np.random.choice(list(set(g_act.degree())),size=200,replace=False) ## sample\n",
    "#d = list(set(g.degree())) ## full; plot in book obtained with full set of values\n",
    "\n",
    "rc = []\n",
    "for i in d:\n",
    "    rc.append(rich_club(g_act, l=i))\n",
    "    "
   ]
  },
  {
   "cell_type": "code",
   "execution_count": null,
   "metadata": {},
   "outputs": [],
   "source": [
    "## rich club coefficients\n",
    "plt.semilogx(d, rc, '.',c='black')\n",
    "plt.xlabel(r'degree $\\ell$', fontsize=12)\n",
    "plt.ylabel(r'rich club coefficient $\\rho(\\ell)$');\n",
    "#plt.savefig('rich_club_actors.eps')\n"
   ]
  },
  {
   "cell_type": "markdown",
   "metadata": {},
   "source": [
    "## Figures 4.1 and 4.2: Xulvi-Brunet and Sokolov (XBS) algorithm\n",
    "\n",
    "The figures in the book were obtained with the faster Julia code. \n",
    "We show a smaller scale example here. (smaller value for $N$ and less repeats).\n",
    "\n",
    "* Fig. 4.1: degree correlation function for various assortativity values, using XBS algorithm\n",
    "* Fig. 4.2: order of the giant component vs expected average degree\n"
   ]
  },
  {
   "cell_type": "code",
   "execution_count": null,
   "metadata": {},
   "outputs": [],
   "source": [
    "## Naive Xulvi-Brunet and Sokolov algorithm\n",
    "def XBS(n, d, q, assortative):\n",
    "    p = d/n\n",
    "    g = ig.Graph.Erdos_Renyi(n,p)\n",
    "    g.es['touched'] = False\n",
    "    ec = g.ecount()\n",
    "    while True:\n",
    "        re = np.random.choice(ec, 2, replace=False)\n",
    "        nodes = list(g.es[re[0]].tuple+g.es[re[1]].tuple)\n",
    "        if len(set(nodes))==4:\n",
    "            ## with proba q, wire w.r.t. assortativity, else randomly\n",
    "            if np.random.random()<q:\n",
    "                idx = np.argsort(g.degree(nodes))\n",
    "                if assortative:\n",
    "                    e1 = (nodes[idx[0]],nodes[idx[1]])\n",
    "                    e2 = (nodes[idx[2]],nodes[idx[3]])\n",
    "                else:\n",
    "                    e1 = (nodes[idx[0]],nodes[idx[3]])\n",
    "                    e2 = (nodes[idx[1]],nodes[idx[2]])\n",
    "            else:\n",
    "                np.random.shuffle(nodes)\n",
    "                e1 = (nodes[0],nodes[1])\n",
    "                e2 = (nodes[2],nodes[3])\n",
    "            if g.get_eid(e1[0], e1[1], directed=False, error=False)+\\\n",
    "               g.get_eid(e2[0], e2[1], directed=False, error=False) == -2:\n",
    "                    g.delete_edges(re)\n",
    "                    g.add_edge(e1[0],e1[1],touched=True)\n",
    "                    g.add_edge(e2[0],e2[1],touched=True)\n",
    "            else:\n",
    "                g.es[re[0]]['touched']=True\n",
    "                g.es[re[1]]['touched']=True\n",
    "        if sum(g.es['touched']) == g.ecount():\n",
    "            break\n",
    "    return g"
   ]
  },
  {
   "cell_type": "code",
   "execution_count": null,
   "metadata": {},
   "outputs": [],
   "source": [
    "## Generating Figure 4.2 with N nodes and averaging over Rep results\n",
    "N = 2**9 ## we use 2**16 and Rep=64 in the book using Julia \n",
    "Rep = 8\n",
    "\n",
    "Q = [2/3,1/3,0,1/3,2/3]\n",
    "A = [True,True,True,False,False]\n",
    "x = np.arange(0.25,3.01,.25)\n",
    "Y = []\n",
    "\n",
    "for i in range(len(Q)):\n",
    "    y = []\n",
    "    for d in x:\n",
    "        sz = 0\n",
    "        for rep in range(Rep):\n",
    "            g = XBS(n = N, d = d, q = Q[i] , assortative = A[i])\n",
    "            sz += g.connected_components().giant().vcount()/g.vcount()\n",
    "        y.append(sz / Rep)\n",
    "    Y.append(y)\n",
    "    \n",
    "clr = ['black','gray','black','gray','black']\n",
    "typ = ['-','-',':','--','--']\n",
    "lbl = ['assortative q=2/3','assortative q=1/3','q=0','disassortative q=1/3','disassortative q=2/3']\n",
    "for i in range(len(Y)):\n",
    "    plt.plot(x,Y[i],color=clr[i],linestyle=typ[i],label=lbl[i])\n",
    "plt.xlabel('average degree')\n",
    "plt.ylabel('fraction of nodes')\n",
    "plt.legend();\n"
   ]
  },
  {
   "cell_type": "code",
   "execution_count": null,
   "metadata": {},
   "outputs": [],
   "source": [
    "## Generating Figure 4.1 with N nodes and averaging over Rep results\n",
    "Y = []\n",
    "for i in range(len(Q)):\n",
    "    D = pd.DataFrame()\n",
    "    for rep in range(Rep):\n",
    "        g = XBS(n = N, d = 4, q = Q[i] , assortative = A[i])\n",
    "        deg = g.degree()\n",
    "        g.delete_vertices([i for i in range(len(deg)) if deg[i]==0])\n",
    "        knn = deg_corr(g)\n",
    "        D = pd.concat([D,pd.DataFrame(np.transpose(np.array([list(knn.keys()),list(knn.values())])))])\n",
    "    X = D.groupby(by=0).mean()\n",
    "    plt.plot(list(X.index)[:10],list(X[1])[:10],color=clr[i],linestyle=typ[i],label=lbl[i])\n",
    "plt.xlabel(r'degree ($\\ell$)')\n",
    "plt.ylabel(r'$knn(\\ell)$')\n",
    "plt.legend();\n"
   ]
  }
 ],
 "metadata": {
  "kernelspec": {
   "display_name": "complexnetworks",
   "language": "python",
   "name": "complexnetworks"
  },
  "language_info": {
   "codemirror_mode": {
    "name": "ipython",
    "version": 3
   },
   "file_extension": ".py",
   "mimetype": "text/x-python",
   "name": "python",
   "nbconvert_exporter": "python",
   "pygments_lexer": "ipython3",
   "version": "3.11.5"
  }
 },
 "nbformat": 4,
 "nbformat_minor": 2
}

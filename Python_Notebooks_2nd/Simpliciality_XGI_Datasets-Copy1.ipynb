{
 "cells": [
  {
   "cell_type": "code",
   "execution_count": 1,
   "metadata": {},
   "outputs": [],
   "source": [
    "import pandas as pd\n",
    "import numpy as np\n",
    "import igraph as ig\n",
    "import hypernetx as hnx\n",
    "import hypernetx.algorithms.hypergraph_modularity as hmod \n",
    "import xgi ## pip install xgi is required\n",
    "import pickle\n",
    "from collections import Counter\n",
    "from functools import reduce\n",
    "import itertools\n",
    "from scipy.special import comb\n",
    "import warnings\n",
    "import random\n",
    "from itertools import combinations\n",
    "from itertools import combinations as combs\n",
    "\n",
    "## Functions to compute various simpliciality measures are found in the included ```simpliciality.py``` file:\n",
    "import simpliciality as spl \n",
    "import sr ## functions taken from Jordan's notebook\n",
    "\n",
    "## Set this to the data directory\n",
    "datadir='../Datasets/'\n"
   ]
  },
  {
   "cell_type": "markdown",
   "metadata": {},
   "source": [
    "# XGI's hypergraphs\n",
    "\n"
   ]
  },
  {
   "cell_type": "code",
   "execution_count": 2,
   "metadata": {},
   "outputs": [],
   "source": [
    "def compute_all(fn=\"\"):\n",
    "    H = xgi.load_xgi_data(fn)\n",
    "    E = list(set([tuple(sorted(e)) for e in H.edges.members() if len(e)<=11 and len(e)>=2]))\n",
    "    E = [set(e) for e in E]\n",
    "    H = hnx.Hypergraph(dict(enumerate(E)))\n",
    "    V = [x for x in H.nodes]\n",
    "    print('\\nResults for',fn,':')\n",
    "    print('n =',len(V),'\\nm =',len(E),'\\n<s> =',np.mean([len(e) for e in E]))\n",
    "    print('SF:',spl.get_simplicial_fraction(V,E),\n",
    "          '\\nES:',spl.get_edit_simpliciality(V,E),\n",
    "          '\\nFES with max face:',spl.get_face_edit_simpliciality(V,E,exclude_self=False),\n",
    "          '\\nFES excluding max face:',spl.get_face_edit_simpliciality(V,E,exclude_self=True))\n",
    "    print('simplicial ratio with CL model:',spl.get_simplicial_ratio(V, E, samples=1000, multisets=False))\n",
    "    r, _a, _b, _c, _d = sr.simplicial_ratio(V,E)\n",
    "    print('simplicial ratio with estimation:',r)\n",
    "    "
   ]
  },
  {
   "cell_type": "code",
   "execution_count": 3,
   "metadata": {
    "scrolled": true
   },
   "outputs": [],
   "source": [
    "def compute_all_time(fn):\n",
    "\n",
    "    ## load dataset\n",
    "    H = xgi.load_xgi_data(fn)\n",
    "\n",
    "    ## check if edges are time-ordered\n",
    "    TS = [H.edges[e]['timestamp'] for e in H.edges]\n",
    "    order = [i for i in np.argsort(TS)]\n",
    "    edges = [e for e in H.edges]\n",
    "    M = H.edges.members()\n",
    "    #[(tuple(sorted(M[i])),H.edges[edges[i]]['timestamp']) for i in order]\n",
    "    L = [tuple(sorted(M[i])) for i in order]\n",
    "\n",
    "    ## keep only first instance for each edge\n",
    "    seen = set()\n",
    "    uniq = []\n",
    "    for x in L:\n",
    "        if x not in seen:\n",
    "            if len(x)<=11 and len(x)>=2:\n",
    "                uniq.append(x)\n",
    "            seen.add(x)\n",
    "    E = [set(e) for e in uniq]\n",
    "\n",
    "    ## compute SR's\n",
    "    H = hnx.Hypergraph(dict(enumerate(E)))\n",
    "    V = [x for x in H.nodes]\n",
    "    print(fn)\n",
    "    print('simplicial ratio (CL):',spl.get_simplicial_ratio(V, E, samples=1000, multisets=False))\n",
    "    r, _a, _b, _c, _d = sr.simplicial_ratio(V,E)\n",
    "    print('simplicial ratios (estimate):',r,_a,_b)\n"
   ]
  },
  {
   "cell_type": "code",
   "execution_count": null,
   "metadata": {},
   "outputs": [
    {
     "name": "stdout",
     "output_type": "stream",
     "text": [
      "contact-primary-school\n",
      "simplicial ratio (CL): 2.699620513249539\n",
      "simplicial ratios (estimate): 2.704951861728687 4.75432986030861 0.6555738631487639\n",
      "contact-high-school\n",
      "simplicial ratio (CL): 6.550454251155732\n",
      "simplicial ratios (estimate): 6.582347933788044 11.02970112098354 2.134994746592546\n",
      "hospital-lyon\n",
      "simplicial ratio (CL): 0.946515279595781\n",
      "simplicial ratios (estimate): 0.9624024672023855 1.7535917312247695 0.17121320318000158\n",
      "email-enron\n",
      "simplicial ratio (CL): 4.849844288960844\n",
      "simplicial ratios (estimate): 4.914369981429364 6.913304924798355 2.9154350380603726\n",
      "email-eu\n",
      "simplicial ratio (CL): 5.126736017336242\n",
      "simplicial ratios (estimate): 5.232773578719843 7.8370474662771725 2.6284996911625136\n",
      "congress-bills\n",
      "simplicial ratio (CL): 4.4057565721567515\n",
      "simplicial ratios (estimate): 4.457089538360248 5.227786007020628 3.686393069699869\n",
      "tags-ask-ubuntu\n"
     ]
    }
   ],
   "source": [
    "Datasets = [\"contact-primary-school\", \"contact-high-school\", \"hospital-lyon\", \n",
    "            \"email-enron\", \"email-eu\",\n",
    "            \"congress-bills\", \"tags-ask-ubuntu\"]\n",
    "\n",
    "for fn in Datasets:\n",
    "    compute_all_time(fn)"
   ]
  },
  {
   "cell_type": "code",
   "execution_count": null,
   "metadata": {},
   "outputs": [],
   "source": [
    "\n"
   ]
  }
 ],
 "metadata": {
  "kernelspec": {
   "display_name": "complexnetworks",
   "language": "python",
   "name": "complexnetworks"
  },
  "language_info": {
   "codemirror_mode": {
    "name": "ipython",
    "version": 3
   },
   "file_extension": ".py",
   "mimetype": "text/x-python",
   "name": "python",
   "nbconvert_exporter": "python",
   "pygments_lexer": "ipython3",
   "version": "3.11.9"
  }
 },
 "nbformat": 4,
 "nbformat_minor": 4
}

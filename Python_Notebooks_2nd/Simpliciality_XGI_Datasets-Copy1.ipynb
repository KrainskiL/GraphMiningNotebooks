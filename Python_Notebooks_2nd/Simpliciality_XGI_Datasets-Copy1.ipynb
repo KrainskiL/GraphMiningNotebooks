{
 "cells": [
  {
   "cell_type": "code",
   "execution_count": 1,
   "metadata": {},
   "outputs": [],
   "source": [
    "import pandas as pd\n",
    "import numpy as np\n",
    "import igraph as ig\n",
    "import hypernetx as hnx\n",
    "import hypernetx.algorithms.hypergraph_modularity as hmod \n",
    "import xgi ## pip install xgi is required\n",
    "import pickle\n",
    "from collections import Counter\n",
    "from functools import reduce\n",
    "import itertools\n",
    "from scipy.special import comb\n",
    "import warnings\n",
    "import random\n",
    "from itertools import combinations\n",
    "from itertools import combinations as combs\n",
    "\n",
    "## Functions to compute various simpliciality measures are found in the included ```simpliciality.py``` file:\n",
    "import simpliciality as spl \n",
    "import sr ## functions taken from Jordan's notebook\n",
    "\n",
    "## Set this to the data directory\n",
    "datadir='../Datasets/'\n"
   ]
  },
  {
   "cell_type": "markdown",
   "metadata": {},
   "source": [
    "# XGI's hypergraphs\n",
    "\n"
   ]
  },
  {
   "cell_type": "code",
   "execution_count": 2,
   "metadata": {},
   "outputs": [],
   "source": [
    "def compute_all(fn=\"\"):\n",
    "    H = xgi.load_xgi_data(fn)\n",
    "    E = list(set([tuple(sorted(e)) for e in H.edges.members() if len(e)<=11 and len(e)>=2]))\n",
    "    E = [set(e) for e in E]\n",
    "    H = hnx.Hypergraph(dict(enumerate(E)))\n",
    "    V = [x for x in H.nodes]\n",
    "    print('\\nResults for',fn,':')\n",
    "    print('n =',len(V),'\\nm =',len(E),'\\n<s> =',np.mean([len(e) for e in E]))\n",
    "    print('SF:',spl.get_simplicial_fraction(V,E),\n",
    "          '\\nES:',spl.get_edit_simpliciality(V,E),\n",
    "          '\\nFES with max face:',spl.get_face_edit_simpliciality(V,E,exclude_self=False),\n",
    "          '\\nFES excluding max face:',spl.get_face_edit_simpliciality(V,E,exclude_self=True))\n",
    "    print('simplicial ratio with CL model:',spl.get_simplicial_ratio(V, E, samples=1000, multisets=False))\n",
    "    r, _a, _b, _c, _d = sr.simplicial_ratio(V,E)\n",
    "    print('simplicial ratio with estimation:',r)\n",
    "    "
   ]
  },
  {
   "cell_type": "code",
   "execution_count": 3,
   "metadata": {
    "scrolled": true
   },
   "outputs": [],
   "source": [
    "def compute_all_time(fn):\n",
    "\n",
    "    ## load dataset\n",
    "    H = xgi.load_xgi_data(fn)\n",
    "\n",
    "    ## check if edges are time-ordered\n",
    "    TS = [H.edges[e]['timestamp'] for e in H.edges]\n",
    "    order = [i for i in np.argsort(TS)]\n",
    "    edges = [e for e in H.edges]\n",
    "    M = H.edges.members()\n",
    "    #[(tuple(sorted(M[i])),H.edges[edges[i]]['timestamp']) for i in order]\n",
    "    L = [tuple(sorted(M[i])) for i in order]\n",
    "\n",
    "    ## keep only first instance for each edge\n",
    "    seen = set()\n",
    "    uniq = []\n",
    "    for x in L:\n",
    "        if x not in seen:\n",
    "            if len(x)<=11 and len(x)>=2:\n",
    "                uniq.append(x)\n",
    "            seen.add(x)\n",
    "    E = [set(e) for e in uniq]\n",
    "\n",
    "    ## compute SR's\n",
    "    H = hnx.Hypergraph(dict(enumerate(E)))\n",
    "    V = [x for x in H.nodes]\n",
    "    print(fn)\n",
    "    print('simplicial ratio (CL):',spl.get_simplicial_ratio(V, E, samples=1000, multisets=False))\n",
    "    r, _a, _b, _c, _d = sr.simplicial_ratio(V,E)\n",
    "    print('simplicial ratios (estimate):',r,_a,_b)\n"
   ]
  },
  {
   "cell_type": "code",
   "execution_count": 4,
   "metadata": {},
   "outputs": [
    {
     "name": "stdout",
     "output_type": "stream",
     "text": [
      "contact-primary-school\n",
      "simplicial ratio (CL): 2.70086866632209\n",
      "simplicial ratios (estimate): 2.7030980148686212 4.751071466099104 0.6551245636381386\n",
      "contact-high-school\n",
      "simplicial ratio (CL): 6.567289078967062\n",
      "simplicial ratios (estimate): 6.45820197874982 10.821676143692093 2.0947278138075465\n",
      "hospital-lyon\n",
      "simplicial ratio (CL): 0.9464899080088828\n",
      "simplicial ratios (estimate): 0.9418881726145176 1.7162126735154035 0.1675636717136318\n",
      "email-enron\n",
      "simplicial ratio (CL): 4.83482899188975\n",
      "simplicial ratios (estimate): 4.927383667009127 6.93161196658567 2.923155367432584\n",
      "email-eu\n",
      "simplicial ratio (CL): 5.1291175372134274\n",
      "simplicial ratios (estimate): 5.2560158151659815 7.871857019473126 2.640174610858838\n",
      "congress-bills\n",
      "simplicial ratio (CL): 4.408670406196367\n",
      "simplicial ratios (estimate): 4.439908949310961 5.2076346409214676 3.672183257700455\n",
      "tags-ask-ubuntu\n",
      "simplicial ratio (CL): 0.6659422713576917\n",
      "simplicial ratios (estimate): 0.7215811481609853 1.1375823416893094 0.305579954632661\n"
     ]
    }
   ],
   "source": [
    "Datasets = [\"contact-primary-school\", \"contact-high-school\", \"hospital-lyon\", \n",
    "            \"email-enron\", \"email-eu\",\n",
    "            \"congress-bills\", \"tags-ask-ubuntu\"]\n",
    "\n",
    "for fn in Datasets:\n",
    "    compute_all_time(fn)"
   ]
  },
  {
   "cell_type": "code",
   "execution_count": null,
   "metadata": {},
   "outputs": [],
   "source": [
    "\n"
   ]
  }
 ],
 "metadata": {
  "kernelspec": {
   "display_name": "complexnetworks",
   "language": "python",
   "name": "complexnetworks"
  },
  "language_info": {
   "codemirror_mode": {
    "name": "ipython",
    "version": 3
   },
   "file_extension": ".py",
   "mimetype": "text/x-python",
   "name": "python",
   "nbconvert_exporter": "python",
   "pygments_lexer": "ipython3",
   "version": "3.11.9"
  }
 },
 "nbformat": 4,
 "nbformat_minor": 4
}

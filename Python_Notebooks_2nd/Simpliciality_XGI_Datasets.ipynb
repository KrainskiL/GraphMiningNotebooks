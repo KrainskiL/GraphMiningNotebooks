{
 "cells": [
  {
   "cell_type": "code",
   "execution_count": null,
   "metadata": {},
   "outputs": [],
   "source": [
    "import pandas as pd\n",
    "import numpy as np\n",
    "import igraph as ig\n",
    "import xgi ## pip install xgi is required\n",
    "import pickle\n",
    "from collections import Counter\n",
    "from functools import reduce\n",
    "import itertools\n",
    "from scipy.special import comb\n",
    "import warnings\n",
    "import random\n",
    "from itertools import combinations\n",
    "from itertools import combinations as combs\n",
    "\n",
    "## Functions to compute various simpliciality measures are found in the included ```simpliciality.py``` file:\n",
    "import simpliciality as spl \n",
    "## new estimate for simpliciality ratio\n",
    "import sr  \n",
    "\n",
    "## Set this to the data directory\n",
    "datadir='../Datasets/'\n"
   ]
  },
  {
   "cell_type": "markdown",
   "metadata": {},
   "source": [
    "# XGI's hypergraphs\n",
    "\n"
   ]
  },
  {
   "cell_type": "markdown",
   "metadata": {},
   "source": [
    "### get the data directly from XGI\n",
    "\n",
    "* nodes, edges, avg size\n",
    "* FES: first including self\n",
    "* Simplicial ratio: first via sampling from CL model, second with new approx. code\n",
    "\n",
    "SR (sampling from CL):\n",
    "\n",
    "* disgenenet: 28.0821\n",
    "* diseasome: 6.6147\n",
    "* contact-high-school: 6.5836\n",
    "* email-eu: 5.1355\n",
    "* email-enron: 4.8800\n",
    "* congress-bills: 4.4154\n",
    "* ndc-substances: 4.0749\n",
    "* contact-primary-school: 2.7043\n",
    "* hospital-lyon: 0.9464\n",
    "* tags-ask-ubuntu:0.6652\n"
   ]
  },
  {
   "cell_type": "code",
   "execution_count": null,
   "metadata": {},
   "outputs": [],
   "source": [
    "def compute_all(fn=\"\"):\n",
    "    H = xgi.load_xgi_data(fn)\n",
    "    E = list(set([tuple(sorted(e)) for e in H.edges.members() if len(e)<=11 and len(e)>=2])) ## as in Landry's\n",
    "    E = [set(e) for e in E]\n",
    "    V = list(set([i for e in E for i in e]))\n",
    "    print('\\nResults for',fn,':')\n",
    "    print('n =',len(V),'\\nm =',len(E),'\\n<s> =',np.mean([len(e) for e in E]))\n",
    "    print('SF:',spl.get_simplicial_fraction(V,E),\n",
    "          '\\nES:',spl.get_edit_simpliciality(V,E),\n",
    "          '\\nFES with max face:',spl.get_face_edit_simpliciality(V,E,exclude_self=False),\n",
    "          '\\nFES excluding max face:',spl.get_face_edit_simpliciality(V,E,exclude_self=True))\n",
    "    print('simplicial ratio with CL model:',spl.get_simplicial_ratio(V, E, samples=1000, multisets=False)) ## adjust sampe size here\n",
    "    r, _a, _b, _c, _d = sr.simplicial_ratio(V,E)\n",
    "    print('simplicial ratio with estimation:',r)\n",
    "    "
   ]
  },
  {
   "cell_type": "code",
   "execution_count": null,
   "metadata": {
    "scrolled": false
   },
   "outputs": [],
   "source": [
    "Datasets = [\"contact-primary-school\", \"contact-high-school\", \"hospital-lyon\", \n",
    "            \"email-enron\", \"email-eu\", \"diseasome\", \"disgenenet\", \n",
    "            \"ndc-substances\", \"congress-bills\", \"tags-ask-ubuntu\"]\n",
    "\n",
    "for fn in Datasets:\n",
    "    compute_all(fn)"
   ]
  },
  {
   "cell_type": "code",
   "execution_count": null,
   "metadata": {},
   "outputs": [],
   "source": [
    "## Sanity check -- naive FES (as this is a tiny graph)\n",
    "H = xgi.load_xgi_data(\"diseasome\")\n",
    "E = list(set([tuple(sorted(e)) for e in H.edges.members() if len(e)<=11 and len(e)>=2]))\n",
    "E = [set(e) for e in E]\n",
    "\n",
    "## naive max set for sanity check\n",
    "L = []\n",
    "for e in E:\n",
    "    for f in E:\n",
    "        if e<f:\n",
    "            break\n",
    "    if e<f:\n",
    "        continue\n",
    "    if len(e)>2:\n",
    "        L.append(e)\n",
    "max_E = spl.max_subsets(E)\n",
    "\n",
    "print('checking max set function:',Counter([e in L for e in max_E]),Counter([e in max_E for e in L]))\n",
    "\n",
    "fes = 0\n",
    "for e in max_E:\n",
    "    num=den=0\n",
    "    for k in range(2,len(e)): ## excluding self\n",
    "        for f in combs(e,k):\n",
    "            den +=1\n",
    "            if set(f) in E:\n",
    "                num += 1 \n",
    "    fes += num/den\n",
    "print('FES:',fes/len(max_E))\n"
   ]
  },
  {
   "cell_type": "markdown",
   "metadata": {},
   "source": [
    "## With time info"
   ]
  },
  {
   "cell_type": "code",
   "execution_count": null,
   "metadata": {},
   "outputs": [],
   "source": [
    "def compute_all_time(fn):\n",
    "\n",
    "    ## load dataset\n",
    "    H = xgi.load_xgi_data(fn)\n",
    "\n",
    "    ## time-order the edges\n",
    "    TS = [H.edges[e]['timestamp'] for e in H.edges]\n",
    "    order = [i for i in np.argsort(TS)]\n",
    "    M = H.edges.members()\n",
    "    L = [tuple(sorted(M[i])) for i in order]\n",
    "\n",
    "    ## keep only first instance for each edge\n",
    "    seen = set()\n",
    "    uniq = []\n",
    "    for x in L:\n",
    "        if x not in seen:\n",
    "            if len(x)<=11 and len(x)>=2: ## as in Landry\n",
    "                uniq.append(x)\n",
    "            seen.add(x)\n",
    "    E = [set(e) for e in uniq]\n",
    "\n",
    "    ## compute SR's (overall, up, down)\n",
    "    V = list(set([i for e in E for i in e]))\n",
    "    print(fn)\n",
    "    s_ratio = spl.get_simplicial_ratio(V, E, samples=100, multisets=False, edge_order=False)\n",
    "    s_ratio_time = spl.get_simplicial_ratio(V, E, samples=100, multisets=False, edge_order=True)\n",
    "    print('simplicial ratio (CL):',s_ratio, s_ratio_time[0], s_ratio_time[1]) ## adjust sample size here\n",
    "    r, _a, _b, _c, _d = sr.simplicial_ratio(V,E) \n",
    "    print('simplicial ratios (estimate):',r,_a,_b)\n"
   ]
  },
  {
   "cell_type": "code",
   "execution_count": null,
   "metadata": {},
   "outputs": [],
   "source": [
    "Datasets = [\"contact-primary-school\", \"contact-high-school\", \"hospital-lyon\", \n",
    "            \"email-enron\", \"email-eu\",\n",
    "            \"congress-bills\", \"tags-ask-ubuntu\"]\n",
    "\n",
    "for fn in Datasets:\n",
    "    compute_all_time(fn)"
   ]
  }
 ],
 "metadata": {
  "kernelspec": {
   "display_name": "complexnetworks",
   "language": "python",
   "name": "complexnetworks"
  },
  "language_info": {
   "codemirror_mode": {
    "name": "ipython",
    "version": 3
   },
   "file_extension": ".py",
   "mimetype": "text/x-python",
   "name": "python",
   "nbconvert_exporter": "python",
   "pygments_lexer": "ipython3",
   "version": "3.11.9"
  }
 },
 "nbformat": 4,
 "nbformat_minor": 4
}

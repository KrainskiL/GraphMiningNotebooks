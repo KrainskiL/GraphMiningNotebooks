{
 "cells": [
  {
   "cell_type": "code",
   "execution_count": 1,
   "metadata": {},
   "outputs": [],
   "source": [
    "import pandas as pd\n",
    "import numpy as np\n",
    "import igraph as ig\n",
    "import hypernetx as hnx\n",
    "import hypernetx.algorithms.hypergraph_modularity as hmod \n",
    "import xgi ## pip install xgi is required\n",
    "import pickle\n",
    "from collections import Counter\n",
    "from functools import reduce\n",
    "import itertools\n",
    "from scipy.special import comb\n",
    "import warnings\n",
    "import random\n",
    "from itertools import combinations\n",
    "from itertools import combinations as combs\n",
    "\n",
    "## Functions to compute various simpliciality measures are found in the included ```simpliciality.py``` file:\n",
    "import simpliciality as spl \n",
    "import sr ## functions taken from Jordan's notebook\n",
    "\n",
    "## Set this to the data directory\n",
    "datadir='../Datasets/'\n"
   ]
  },
  {
   "cell_type": "markdown",
   "metadata": {},
   "source": [
    "# XGI's hypergraphs\n",
    "\n"
   ]
  },
  {
   "cell_type": "code",
   "execution_count": 2,
   "metadata": {},
   "outputs": [
    {
     "name": "stdout",
     "output_type": "stream",
     "text": [
      "SF: 0.8470540758676351 \n",
      "ES: 0.9175213057922866 \n",
      "FES: 0.95064455704635 \n",
      "FES: 0.9372632240823691\n",
      "simplicial ratio: 2.702143666167907\n"
     ]
    }
   ],
   "source": [
    "## read the edges and build H\n",
    "fp = open(datadir+'Contacts/hyperedges-contact-primary.txt', 'r')\n",
    "Lines = fp.readlines()\n",
    "E = []\n",
    "for line in Lines:\n",
    "    E.append(set([x for x in line.strip().split(',')]))\n",
    "H = hnx.Hypergraph(dict(enumerate(E)))\n",
    "V = [x for x in H.nodes]\n",
    "print('SF:',spl.get_simplicial_fraction(V,E),\n",
    "      '\\nES:',spl.get_edit_simpliciality(V,E),\n",
    "      '\\nFES:',spl.get_face_edit_simpliciality(V,E,exclude_self=False),\n",
    "      '\\nFES:',spl.get_face_edit_simpliciality(V,E,exclude_self=True))\n",
    "print('simplicial ratio:',spl.get_simplicial_ratio(V,E,samples=100, multisets=False))\n"
   ]
  },
  {
   "cell_type": "markdown",
   "metadata": {},
   "source": [
    "### get the data directly from XGI\n",
    "\n",
    "* nodes, edges, avg size\n",
    "* FES: first including self\n",
    "* Simplicial ratio: first via sampling from CL model, second with new approx. code\n",
    "\n",
    "SR (sampling from CL):\n",
    "\n",
    "* disgenenet: 28.0821\n",
    "* diseasome: 6.6147\n",
    "* contact-high-school: 6.5836\n",
    "* email-eu: 5.1355\n",
    "* email-enron: 4.8800\n",
    "* congress-bills: 4.4154\n",
    "* ndc-substances: 4.0749\n",
    "* contact-primary-school: 2.7043\n",
    "* hospital-lyon: 0.9464\n",
    "* tags-ask-ubuntu:0.6652\n"
   ]
  },
  {
   "cell_type": "code",
   "execution_count": 3,
   "metadata": {},
   "outputs": [],
   "source": [
    "def compute_all(fn=\"\"):\n",
    "    H = xgi.load_xgi_data(fn)\n",
    "    E = list(set([tuple(sorted(e)) for e in H.edges.members() if len(e)<=11 and len(e)>=2]))\n",
    "    E = [set(e) for e in E]\n",
    "    H = hnx.Hypergraph(dict(enumerate(E)))\n",
    "    V = [x for x in H.nodes]\n",
    "    print('\\nResults for',fn,':')\n",
    "    print('n =',len(V),'\\nm =',len(E),'\\n<s> =',np.mean([len(e) for e in E]))\n",
    "    print('SF:',spl.get_simplicial_fraction(V,E),\n",
    "          '\\nES:',spl.get_edit_simpliciality(V,E),\n",
    "          '\\nFES with max face:',spl.get_face_edit_simpliciality(V,E,exclude_self=False),\n",
    "          '\\nFES excluding max face:',spl.get_face_edit_simpliciality(V,E,exclude_self=True))\n",
    "    print('simplicial ratio with CL model:',spl.get_simplicial_ratio(V, E, samples=1000, multisets=False))\n",
    "    r, _a, _b, _c, _d = sr.simplicial_ratio(V,E)\n",
    "    print('simplicial ratio with estimation:',r)\n",
    "    "
   ]
  },
  {
   "cell_type": "code",
   "execution_count": 4,
   "metadata": {
    "scrolled": false
   },
   "outputs": [
    {
     "name": "stdout",
     "output_type": "stream",
     "text": [
      "\n",
      "Results for contact-primary-school :\n",
      "n = 242 \n",
      "m = 12704 \n",
      "<s> = 2.4188444584382873\n",
      "SF: 0.8470540758676351 \n",
      "ES: 0.9175213057922866 \n",
      "FES with max face: 0.9506445570463496 \n",
      "FES excluding max face: 0.9372632240823682\n",
      "simplicial ratio with CL model: 2.701514125371669\n",
      "simplicial ratio with estimation: 2.6949838943727484\n",
      "\n",
      "Results for contact-high-school :\n",
      "n = 327 \n",
      "m = 7818 \n",
      "<s> = 2.3269378357636223\n",
      "SF: 0.8064655172413793 \n",
      "ES: 0.9270722162931341 \n",
      "FES with max face: 0.9393321276864207 \n",
      "FES excluding max face: 0.9230435574995463\n",
      "simplicial ratio with CL model: 6.563978124480862\n",
      "simplicial ratio with estimation: 6.639574180926302\n",
      "\n",
      "Results for hospital-lyon :\n",
      "n = 75 \n",
      "m = 1824 \n",
      "<s> = 2.4270833333333335\n",
      "SF: 0.9121338912133892 \n",
      "ES: 0.9544740973312402 \n",
      "FES with max face: 0.9774536866642135 \n",
      "FES excluding max face: 0.9718947368421053\n",
      "simplicial ratio with CL model: 0.9450000188472282\n",
      "simplicial ratio with estimation: 0.9518087976050635\n",
      "\n",
      "Results for email-enron :\n",
      "n = 143 \n",
      "m = 1442 \n",
      "<s> = 2.9743411927877945\n",
      "SF: 0.3127962085308057 \n",
      "ES: 0.052244483895511035 \n",
      "FES with max face: 0.533814278778379 \n",
      "FES excluding max face: 0.4982287869950807\n",
      "simplicial ratio with CL model: 4.841353944410916\n",
      "simplicial ratio with estimation: 4.924086048807258\n",
      "\n",
      "Results for email-eu :\n",
      "n = 967 \n",
      "m = 23729 \n",
      "<s> = 3.1225083231488897\n",
      "SF: 0.3170553935860058 \n",
      "ES: 0.04924735333611438 \n",
      "FES with max face: 0.5543567609816574 \n",
      "FES excluding max face: 0.5217400302065683\n",
      "simplicial ratio with CL model: 5.128290624782601\n",
      "simplicial ratio with estimation: 5.17652512477903\n",
      "\n",
      "Results for diseasome :\n",
      "n = 516 \n",
      "m = 314 \n",
      "<s> = 3.0\n",
      "SF: 0.0 \n",
      "ES: 0.04538228067639832 \n",
      "FES with max face: 0.19501913364541035 \n",
      "FES excluding max face: 0.04065214786039885\n",
      "simplicial ratio with CL model: 6.4126744624669945\n",
      "simplicial ratio with estimation: 6.472666898456449\n",
      "\n",
      "Results for disgenenet :\n",
      "n = 1982 \n",
      "m = 760 \n",
      "<s> = 5.1381578947368425\n",
      "SF: 0.0 \n",
      "ES: 0.004779934338796714 \n",
      "FES with max face: 0.08263170659682112 \n",
      "FES excluding max face: 0.007864665990617567\n",
      "simplicial ratio with CL model: 28.133577310155538\n",
      "simplicial ratio with estimation: 28.600633083261794\n",
      "\n",
      "Results for ndc-substances :\n",
      "n = 2740 \n",
      "m = 4754 \n",
      "<s> = 5.155658392932268\n",
      "SF: 0.020143487858719646 \n",
      "ES: 0.005277033139634914 \n",
      "FES with max face: 0.1184693111142569 \n",
      "FES excluding max face: 0.07047994455353002\n",
      "simplicial ratio with CL model: 4.043623922580948\n",
      "simplicial ratio with estimation: 4.142854128058112\n",
      "\n",
      "Results for congress-bills :\n",
      "n = 1715 \n",
      "m = 58788 \n",
      "<s> = 4.947659386269307\n",
      "SF: 0.02909811429970835 \n",
      "ES: 0.005814213391956787 \n",
      "FES with max face: 0.14448924148307069 \n",
      "FES excluding max face: 0.10059626292667523\n",
      "simplicial ratio with CL model: 4.409074782645114\n",
      "simplicial ratio with estimation: 4.44521412745429\n",
      "\n",
      "Results for tags-ask-ubuntu :\n",
      "n = 3021 \n",
      "m = 145053 \n",
      "<s> = 3.42722315291652\n",
      "SF: 0.15149467561903948 \n",
      "ES: 0.24870932730705064 \n",
      "FES with max face: 0.5251377594076078 \n",
      "FES excluding max face: 0.457685232803425\n",
      "simplicial ratio with CL model: 0.6657643156243552\n",
      "simplicial ratio with estimation: 0.6725942093883797\n"
     ]
    }
   ],
   "source": [
    "Datasets = [\"contact-primary-school\", \"contact-high-school\", \"hospital-lyon\", \n",
    "            \"email-enron\", \"email-eu\", \"diseasome\", \"disgenenet\", \n",
    "            \"ndc-substances\", \"congress-bills\", \"tags-ask-ubuntu\"]\n",
    "\n",
    "for fn in Datasets:\n",
    "    compute_all(fn)"
   ]
  },
  {
   "cell_type": "code",
   "execution_count": 5,
   "metadata": {},
   "outputs": [
    {
     "data": {
      "text/plain": [
       "0.04065214786039885"
      ]
     },
     "execution_count": 5,
     "metadata": {},
     "output_type": "execute_result"
    }
   ],
   "source": [
    "## Sanity check -- naive FES (as this is a tiny graph)\n",
    "\n",
    "H = xgi.load_xgi_data(\"diseasome\")\n",
    "E = list(set([tuple(sorted(e)) for e in H.edges.members() if len(e)<=11 and len(e)>=2]))\n",
    "E = [set(e) for e in E]\n",
    "\n",
    "max_E = spl.max_subsets(E)\n",
    "fes = 0\n",
    "for e in max_E:\n",
    "    num=den=0\n",
    "    for k in range(2,len(e)): ## excluding self\n",
    "        for f in combs(e,k):\n",
    "            den +=1\n",
    "            if set(f) in E:\n",
    "                num += 1 \n",
    "    fes += num/den\n",
    "fes/len(max_E)\n"
   ]
  }
 ],
 "metadata": {
  "kernelspec": {
   "display_name": "complexnetworks",
   "language": "python",
   "name": "complexnetworks"
  },
  "language_info": {
   "codemirror_mode": {
    "name": "ipython",
    "version": 3
   },
   "file_extension": ".py",
   "mimetype": "text/x-python",
   "name": "python",
   "nbconvert_exporter": "python",
   "pygments_lexer": "ipython3",
   "version": "3.11.9"
  }
 },
 "nbformat": 4,
 "nbformat_minor": 4
}

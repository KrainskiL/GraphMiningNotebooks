{
 "cells": [
  {
   "cell_type": "code",
   "execution_count": 1,
   "metadata": {},
   "outputs": [],
   "source": [
    "import pandas as pd\n",
    "import numpy as np\n",
    "import igraph as ig\n",
    "import hypernetx as hnx\n",
    "import hypernetx.algorithms.hypergraph_modularity as hmod \n",
    "import xgi ## pip install xgi is required\n",
    "import pickle\n",
    "from collections import Counter\n",
    "from functools import reduce\n",
    "import itertools\n",
    "from scipy.special import comb\n",
    "import warnings\n",
    "import random\n",
    "from itertools import combinations\n",
    "from itertools import combinations as combs\n",
    "\n",
    "## Functions to compute various simpliciality measures are found in the included ```simpliciality.py``` file:\n",
    "import simpliciality as spl\n",
    "\n",
    "## Set this to the data directory\n",
    "datadir='../Datasets/'\n"
   ]
  },
  {
   "cell_type": "markdown",
   "metadata": {},
   "source": [
    "# XGI's hypergraphs\n",
    "\n"
   ]
  },
  {
   "cell_type": "code",
   "execution_count": 2,
   "metadata": {},
   "outputs": [
    {
     "name": "stdout",
     "output_type": "stream",
     "text": [
      "SF: 0.8470540758676351 \n",
      "ES: 0.9175213057922866 \n",
      "FES: 0.95064455704635 \n",
      "FES: 0.9372632240823691\n",
      "simplicial ratio: 2.6995678758255437\n"
     ]
    }
   ],
   "source": [
    "## read the edges and build H\n",
    "fp = open(datadir+'Contacts/hyperedges-contact-primary.txt', 'r')\n",
    "Lines = fp.readlines()\n",
    "E = []\n",
    "for line in Lines:\n",
    "    E.append(set([x for x in line.strip().split(',')]))\n",
    "H = hnx.Hypergraph(dict(enumerate(E)))\n",
    "V = [x for x in H.nodes]\n",
    "print('SF:',spl.get_simplicial_fraction(V,E),\n",
    "      '\\nES:',spl.get_edit_simpliciality(V,E),\n",
    "      '\\nFES:',spl.get_face_edit_simpliciality(V,E,exclude_self=False),\n",
    "      '\\nFES:',spl.get_face_edit_simpliciality(V,E,exclude_self=True))\n",
    "print('simplicial ratio:',spl.get_simplicial_ratio(V,E,samples=100, multisets=False))\n"
   ]
  },
  {
   "cell_type": "markdown",
   "metadata": {},
   "source": [
    "### get the data directly from XGI\n",
    "\n",
    "* nodes, edges, avg size\n",
    "* FES: first including self\n",
    "* Simplicial ratio: first via sampling from CL model, second with new approx. code\n",
    "\n",
    "SR (sampling from CL):\n",
    "\n",
    "* disgenenet: 28.0821\n",
    "* diseasome: 6.6147\n",
    "* contact-high-school: 6.5836\n",
    "* email-eu: 5.1355\n",
    "* email-enron: 4.8800\n",
    "* congress-bills: 4.4154\n",
    "* ndc-substances: 4.0749\n",
    "* contact-primary-school: 2.7043\n",
    "* hospital-lyon: 0.9464\n",
    "* tags-ask-ubuntu:0.6652\n"
   ]
  },
  {
   "cell_type": "code",
   "execution_count": 14,
   "metadata": {},
   "outputs": [],
   "source": [
    "import sr\n"
   ]
  },
  {
   "cell_type": "code",
   "execution_count": 85,
   "metadata": {},
   "outputs": [
    {
     "data": {
      "text/plain": [
       "12704"
      ]
     },
     "execution_count": 85,
     "metadata": {},
     "output_type": "execute_result"
    }
   ],
   "source": []
  },
  {
   "cell_type": "code",
   "execution_count": 18,
   "metadata": {},
   "outputs": [
    {
     "name": "stdout",
     "output_type": "stream",
     "text": [
      "242 12704 2.4188444584382873\n",
      "SF: 0.8470540758676351 \n",
      "ES: 0.9175213057922866 \n",
      "FES: 0.9506445570463492 \n",
      "FES: 0.9372632240823682\n",
      "simplicial ratio: 2.6970867999420594\n",
      "simplicial ratio: 2.6758499268882394\n"
     ]
    }
   ],
   "source": [
    "## T1: SR = 1.89\n",
    "H = xgi.load_xgi_data(\"contact-primary-school\")\n",
    "E = list(set([tuple(sorted(e)) for e in H.edges.members() if len(e)<=11 and len(e)>=2]))\n",
    "E = [set(e) for e in E]\n",
    "H = hnx.Hypergraph(dict(enumerate(E)))\n",
    "V = [x for x in H.nodes]\n",
    "print(len(V),len(E),np.mean([len(e) for e in E]))\n",
    "print('SF:',spl.get_simplicial_fraction(V,E),\n",
    "      '\\nES:',spl.get_edit_simpliciality(V,E),\n",
    "      '\\nFES:',spl.get_face_edit_simpliciality(V,E,exclude_self=False),\n",
    "      '\\nFES:',spl.get_face_edit_simpliciality(V,E,exclude_self=True))\n",
    "print('simplicial ratio:',spl.get_simplicial_ratio(V, E, samples=100, multisets=False))\n",
    "r, _a, _b, _c, _d = sr.simplicial_ratio(V,E)\n",
    "print('simplicial ratio:',r)\n"
   ]
  },
  {
   "cell_type": "code",
   "execution_count": 19,
   "metadata": {},
   "outputs": [
    {
     "name": "stdout",
     "output_type": "stream",
     "text": [
      "327 7818 2.3269378357636223\n",
      "SF: 0.8064655172413793 \n",
      "ES: 0.9270722162931341 \n",
      "FES: 0.9393321276864206 \n",
      "FES: 0.9230435574995465\n",
      "simplicial ratio: 6.520150730253598\n",
      "simplicial ratio: 6.7325350528869805\n"
     ]
    }
   ],
   "source": [
    "## T1: SR = 6.16\n",
    "H = xgi.load_xgi_data(\"contact-high-school\")\n",
    "E = list(set([tuple(sorted(e)) for e in H.edges.members() if len(e)<=11 and len(e)>=2]))\n",
    "E = [set(e) for e in E]\n",
    "H = hnx.Hypergraph(dict(enumerate(E)))\n",
    "V = [x for x in H.nodes]\n",
    "print(len(V),len(E),np.mean([len(e) for e in E]))\n",
    "print('SF:',spl.get_simplicial_fraction(V,E),\n",
    "      '\\nES:',spl.get_edit_simpliciality(V,E),\n",
    "      '\\nFES:',spl.get_face_edit_simpliciality(V,E,exclude_self=False),\n",
    "      '\\nFES:',spl.get_face_edit_simpliciality(V,E,exclude_self=True))\n",
    "print('simplicial ratio:',spl.get_simplicial_ratio(V, E, samples=100, multisets=False))\n",
    "r, _a, _b, _c, _d = sr.simplicial_ratio(V,E)\n",
    "print('simplicial ratio:',r)\n"
   ]
  },
  {
   "cell_type": "code",
   "execution_count": 57,
   "metadata": {},
   "outputs": [
    {
     "name": "stdout",
     "output_type": "stream",
     "text": [
      "75 1824 2.4270833333333335\n",
      "SF: 0.9121338912133892 \n",
      "ES: 0.9544740973312402 \n",
      "FES: 0.9774536866642132 \n",
      "FES: 0.9718947368421053\n",
      "simplicial ratio: 0.9452173585190211\n",
      "simplicial ratio: 0.9558316153217449\n"
     ]
    }
   ],
   "source": [
    "## T1: SR = 0.97\n",
    "H = xgi.load_xgi_data(\"hospital-lyon\")\n",
    "E = list(set([tuple(sorted(e)) for e in H.edges.members() if len(e)<=11 and len(e)>=2]))\n",
    "E = [set(e) for e in E]\n",
    "H = hnx.Hypergraph(dict(enumerate(E)))\n",
    "V = [x for x in H.nodes]\n",
    "print(len(V),len(E),np.mean([len(e) for e in E]))\n",
    "print('SF:',spl.get_simplicial_fraction(V,E),\n",
    "      '\\nES:',spl.get_edit_simpliciality(V,E),\n",
    "      '\\nFES:',spl.get_face_edit_simpliciality(V,E,exclude_self=False),\n",
    "      '\\nFES:',spl.get_face_edit_simpliciality(V,E,exclude_self=True))\n",
    "print('simplicial ratio:',spl.get_simplicial_ratio(V, E, samples=100, multisets=False))\n",
    "r, _a, _b, _c, _d = sr.simplicial_ratio(V,E)\n",
    "print('simplicial ratio:',r)\n"
   ]
  },
  {
   "cell_type": "code",
   "execution_count": 91,
   "metadata": {},
   "outputs": [],
   "source": [
    "H = xgi.load_xgi_data(\"hospital-lyon\")\n",
    "L = [tuple(sorted(e)) for e in H.edges.members()]\n",
    "seen = set()\n",
    "uniq = []\n",
    "for x in L:\n",
    "    if x not in seen:\n",
    "        if len(x)<=11 and len(x)>=2:\n",
    "            uniq.append(x)\n",
    "        seen.add(x)\n",
    "E = [set(e) for e in uniq]\n"
   ]
  },
  {
   "cell_type": "code",
   "execution_count": 92,
   "metadata": {},
   "outputs": [
    {
     "name": "stdout",
     "output_type": "stream",
     "text": [
      "75 1824 2.4270833333333335\n",
      "SF: 0.9121338912133892 \n",
      "ES: 0.9544740973312402 \n",
      "FES: 0.9774536866642127 \n",
      "FES: 0.9718947368421051\n",
      "simplicial ratio: 0.9493371301769546\n",
      "simplicial ratio: 0.9389181525560918\n"
     ]
    }
   ],
   "source": [
    "H = hnx.Hypergraph(dict(enumerate(E)))\n",
    "V = [x for x in H.nodes]\n",
    "print(len(V),len(E),np.mean([len(e) for e in E]))\n",
    "print('SF:',spl.get_simplicial_fraction(V,E),\n",
    "      '\\nES:',spl.get_edit_simpliciality(V,E),\n",
    "      '\\nFES:',spl.get_face_edit_simpliciality(V,E,exclude_self=False),\n",
    "      '\\nFES:',spl.get_face_edit_simpliciality(V,E,exclude_self=True))\n",
    "print('simplicial ratio:',spl.get_simplicial_ratio(V, E, samples=100, multisets=False))\n",
    "r, _a, _b, _c, _d = sr.simplicial_ratio(V,E)\n",
    "print('simplicial ratio:',r)\n"
   ]
  },
  {
   "cell_type": "code",
   "execution_count": 93,
   "metadata": {},
   "outputs": [
    {
     "data": {
      "text/plain": [
       "1.710801005534993"
      ]
     },
     "execution_count": 93,
     "metadata": {},
     "output_type": "execute_result"
    }
   ],
   "source": [
    "_a"
   ]
  },
  {
   "cell_type": "code",
   "execution_count": 94,
   "metadata": {},
   "outputs": [
    {
     "data": {
      "text/plain": [
       "0.16703529957719065"
      ]
     },
     "execution_count": 94,
     "metadata": {},
     "output_type": "execute_result"
    }
   ],
   "source": [
    "_b"
   ]
  },
  {
   "cell_type": "code",
   "execution_count": 23,
   "metadata": {},
   "outputs": [
    {
     "name": "stdout",
     "output_type": "stream",
     "text": [
      "143 1442 2.9743411927877945\n",
      "SF: 0.3127962085308057 \n",
      "ES: 0.052244483895511035 \n",
      "FES: 0.5338142787783793 \n",
      "FES: 0.4982287869950806\n",
      "simplicial ratio: 4.830359005480855\n",
      "simplicial ratio: 4.932440807313028\n"
     ]
    }
   ],
   "source": [
    "## T1: SR = 5.20\n",
    "H = xgi.load_xgi_data(\"email-enron\")\n",
    "E = list(set([tuple(sorted(e)) for e in H.edges.members() if len(e)<=11 and len(e)>=2]))\n",
    "E = [set(e) for e in E]\n",
    "H = hnx.Hypergraph(dict(enumerate(E)))\n",
    "V = [x for x in H.nodes]\n",
    "print(len(V),len(E),np.mean([len(e) for e in E]))\n",
    "print('SF:',spl.get_simplicial_fraction(V,E),\n",
    "      '\\nES:',spl.get_edit_simpliciality(V,E),\n",
    "      '\\nFES:',spl.get_face_edit_simpliciality(V,E,exclude_self=False),\n",
    "      '\\nFES:',spl.get_face_edit_simpliciality(V,E,exclude_self=True))\n",
    "print('simplicial ratio:',spl.get_simplicial_ratio(V, E, samples=100, multisets=False))\n",
    "r, _a, _b, _c, _d = sr.simplicial_ratio(V,E)\n",
    "print('simplicial ratio:',r)\n"
   ]
  },
  {
   "cell_type": "code",
   "execution_count": 95,
   "metadata": {},
   "outputs": [],
   "source": [
    "H = xgi.load_xgi_data(\"email-enron\")\n",
    "L = [tuple(sorted(e)) for e in H.edges.members()]\n",
    "seen = set()\n",
    "uniq = []\n",
    "for x in L:\n",
    "    if x not in seen:\n",
    "        if len(x)<=11 and len(x)>=2:\n",
    "            uniq.append(x)\n",
    "        seen.add(x)\n",
    "E = [set(e) for e in uniq]\n"
   ]
  },
  {
   "cell_type": "code",
   "execution_count": 96,
   "metadata": {},
   "outputs": [
    {
     "name": "stdout",
     "output_type": "stream",
     "text": [
      "143 1442 2.9743411927877945\n",
      "SF: 0.3127962085308057 \n",
      "ES: 0.052244483895511035 \n",
      "FES: 0.5338142787783796 \n",
      "FES: 0.49822878699508083\n",
      "simplicial ratio: 4.804663183112939\n",
      "simplicial ratio: 4.939131954763358\n"
     ]
    }
   ],
   "source": [
    "H = hnx.Hypergraph(dict(enumerate(E)))\n",
    "V = [x for x in H.nodes]\n",
    "print(len(V),len(E),np.mean([len(e) for e in E]))\n",
    "print('SF:',spl.get_simplicial_fraction(V,E),\n",
    "      '\\nES:',spl.get_edit_simpliciality(V,E),\n",
    "      '\\nFES:',spl.get_face_edit_simpliciality(V,E,exclude_self=False),\n",
    "      '\\nFES:',spl.get_face_edit_simpliciality(V,E,exclude_self=True))\n",
    "print('simplicial ratio:',spl.get_simplicial_ratio(V, E, samples=100, multisets=False))\n",
    "r, _a, _b, _c, _d = sr.simplicial_ratio(V,E)\n",
    "print('simplicial ratio:',r)\n"
   ]
  },
  {
   "cell_type": "code",
   "execution_count": 97,
   "metadata": {},
   "outputs": [
    {
     "data": {
      "text/plain": [
       "5.959148997639497"
      ]
     },
     "execution_count": 97,
     "metadata": {},
     "output_type": "execute_result"
    }
   ],
   "source": [
    "_a"
   ]
  },
  {
   "cell_type": "code",
   "execution_count": 98,
   "metadata": {},
   "outputs": [
    {
     "data": {
      "text/plain": [
       "3.919114911887219"
      ]
     },
     "execution_count": 98,
     "metadata": {},
     "output_type": "execute_result"
    }
   ],
   "source": [
    "_b"
   ]
  },
  {
   "cell_type": "code",
   "execution_count": 24,
   "metadata": {},
   "outputs": [
    {
     "name": "stdout",
     "output_type": "stream",
     "text": [
      "967 23729 3.1225083231488897\n",
      "SF: 0.3170553935860058 \n",
      "ES: 0.04924735333611438 \n",
      "FES: 0.5543567609816558 \n",
      "FES: 0.5217400302065671\n",
      "simplicial ratio: 5.129422939919259\n",
      "simplicial ratio: 5.176825059870849\n"
     ]
    }
   ],
   "source": [
    "## T1: SR = 4.74\n",
    "H = xgi.load_xgi_data(\"email-eu\")\n",
    "E = list(set([tuple(sorted(e)) for e in H.edges.members() if len(e)<=11 and len(e)>=2]))\n",
    "E = [set(e) for e in E]\n",
    "H = hnx.Hypergraph(dict(enumerate(E)))\n",
    "V = [x for x in H.nodes]\n",
    "print(len(V),len(E),np.mean([len(e) for e in E]))\n",
    "print('SF:',spl.get_simplicial_fraction(V,E),\n",
    "      '\\nES:',spl.get_edit_simpliciality(V,E),\n",
    "      '\\nFES:',spl.get_face_edit_simpliciality(V,E,exclude_self=False),\n",
    "      '\\nFES:',spl.get_face_edit_simpliciality(V,E,exclude_self=True))\n",
    "print('simplicial ratio:',spl.get_simplicial_ratio(V, E, samples=100, multisets=False))\n",
    "r, _a, _b, _c, _d = sr.simplicial_ratio(V,E)\n",
    "print('simplicial ratio:',r)\n"
   ]
  },
  {
   "cell_type": "code",
   "execution_count": 31,
   "metadata": {},
   "outputs": [
    {
     "name": "stdout",
     "output_type": "stream",
     "text": [
      "516 314 3.0\n",
      "SF: 0.0 \n",
      "ES: 0.04538228067639832 \n",
      "FES: 0.19501913364541054 \n",
      "FES: 0.04065214786039885\n",
      "simplicial ratio: 6.181818181818182\n",
      "simplicial ratio: 6.481145743429135\n"
     ]
    }
   ],
   "source": [
    "## T1: SR = 6.46\n",
    "H = xgi.load_xgi_data(\"diseasome\")\n",
    "E = list(set([tuple(sorted(e)) for e in H.edges.members() if len(e)<=11 and len(e)>=2]))\n",
    "E = [set(e) for e in E]\n",
    "H = hnx.Hypergraph(dict(enumerate(E)))\n",
    "V = [x for x in H.nodes]\n",
    "print(len(V),len(E),np.mean([len(e) for e in E]))\n",
    "print('SF:',spl.get_simplicial_fraction(V,E),\n",
    "      '\\nES:',spl.get_edit_simpliciality(V,E),\n",
    "      '\\nFES:',spl.get_face_edit_simpliciality(V,E,exclude_self=False),\n",
    "      '\\nFES:',spl.get_face_edit_simpliciality(V,E,exclude_self=True))\n",
    "print('simplicial ratio:',spl.get_simplicial_ratio(V, E, samples=100, multisets=False))\n",
    "r, _a, _b, _c, _d = sr.simplicial_ratio(V,E)\n",
    "print('simplicial ratio:',r)\n"
   ]
  },
  {
   "cell_type": "code",
   "execution_count": 32,
   "metadata": {
    "scrolled": true
   },
   "outputs": [
    {
     "data": {
      "text/plain": [
       "0.04065214786039885"
      ]
     },
     "execution_count": 32,
     "metadata": {},
     "output_type": "execute_result"
    }
   ],
   "source": [
    "## Sanity check -- naive FES (as this is a tiny graph)\n",
    "max_E = spl.max_subsets(E)\n",
    "fes = 0\n",
    "for e in max_E:\n",
    "    num=den=0\n",
    "    for k in range(2,len(e)): ## excluding self\n",
    "        for f in combs(e,k):\n",
    "            den +=1\n",
    "            if set(f) in E:\n",
    "                num += 1 \n",
    "    fes += num/den\n",
    "fes/len(max_E)"
   ]
  },
  {
   "cell_type": "code",
   "execution_count": 26,
   "metadata": {},
   "outputs": [
    {
     "name": "stdout",
     "output_type": "stream",
     "text": [
      "1982 760 5.1381578947368425\n",
      "SF: 0.0 \n",
      "ES: 0.004779934338796714 \n",
      "FES: 0.08263170659682112 \n",
      "FES: 0.007864665990617562\n",
      "simplicial ratio: 29.496402877697843\n",
      "simplicial ratio: 28.484757297380565\n"
     ]
    }
   ],
   "source": [
    "## T1: SR = 15.99\n",
    "H = xgi.load_xgi_data(\"disgenenet\")\n",
    "E = list(set([tuple(sorted(e)) for e in H.edges.members() if len(e)<=11 and len(e)>=2]))\n",
    "E = [set(e) for e in E]\n",
    "H = hnx.Hypergraph(dict(enumerate(E)))\n",
    "V = [x for x in H.nodes]\n",
    "print(len(V),len(E),np.mean([len(e) for e in E]))\n",
    "print('SF:',spl.get_simplicial_fraction(V,E),\n",
    "      '\\nES:',spl.get_edit_simpliciality(V,E),\n",
    "      '\\nFES:',spl.get_face_edit_simpliciality(V,E,exclude_self=False),\n",
    "      '\\nFES:',spl.get_face_edit_simpliciality(V,E,exclude_self=True))\n",
    "print('simplicial ratio:',spl.get_simplicial_ratio(V, E, samples=100, multisets=False))\n",
    "r, _a, _b, _c, _d = sr.simplicial_ratio(V,E)\n",
    "print('simplicial ratio:',r)\n"
   ]
  },
  {
   "cell_type": "code",
   "execution_count": 27,
   "metadata": {},
   "outputs": [
    {
     "name": "stdout",
     "output_type": "stream",
     "text": [
      "2740 4754 5.155658392932268\n",
      "SF: 0.020143487858719646 \n",
      "ES: 0.005277033139634914 \n",
      "FES: 0.11846931111425671 \n",
      "FES: 0.07047994455353011\n",
      "simplicial ratio: 4.08664205812363\n",
      "simplicial ratio: 4.181305339903698\n"
     ]
    }
   ],
   "source": [
    "## T1: SR = 10.30\n",
    "H = xgi.load_xgi_data(\"ndc-substances\")\n",
    "E = list(set([tuple(sorted(e)) for e in H.edges.members() if len(e)<=11 and len(e)>=2]))\n",
    "E = [set(e) for e in E]\n",
    "H = hnx.Hypergraph(dict(enumerate(E)))\n",
    "V = [x for x in H.nodes]\n",
    "print(len(V),len(E),np.mean([len(e) for e in E]))\n",
    "print('SF:',spl.get_simplicial_fraction(V,E),\n",
    "      '\\nES:',spl.get_edit_simpliciality(V,E),\n",
    "      '\\nFES:',spl.get_face_edit_simpliciality(V,E,exclude_self=False),\n",
    "      '\\nFES:',spl.get_face_edit_simpliciality(V,E,exclude_self=True))\n",
    "print('simplicial ratio:',spl.get_simplicial_ratio(V, E, samples=100, multisets=False))\n",
    "r, _a, _b, _c, _d = sr.simplicial_ratio(V,E)\n",
    "print('simplicial ratio:',r)\n"
   ]
  },
  {
   "cell_type": "code",
   "execution_count": 28,
   "metadata": {},
   "outputs": [
    {
     "name": "stdout",
     "output_type": "stream",
     "text": [
      "1715 58788 4.947659386269307\n",
      "SF: 0.02909811429970835 \n",
      "ES: 0.005814213391956787 \n",
      "FES: 0.14448924148307088 \n",
      "FES: 0.10059626292667515\n",
      "simplicial ratio: 4.405767626065907\n",
      "simplicial ratio: 4.424199827071782\n"
     ]
    }
   ],
   "source": [
    "## T1: SR = 4.88\n",
    "H = xgi.load_xgi_data(\"congress-bills\")\n",
    "E = list(set([tuple(sorted(e)) for e in H.edges.members() if len(e)<=11 and len(e)>=2]))\n",
    "E = [set(e) for e in E]\n",
    "H = hnx.Hypergraph(dict(enumerate(E)))\n",
    "V = [x for x in H.nodes]\n",
    "print(len(V),len(E),np.mean([len(e) for e in E]))\n",
    "print('SF:',spl.get_simplicial_fraction(V,E),\n",
    "      '\\nES:',spl.get_edit_simpliciality(V,E),\n",
    "      '\\nFES:',spl.get_face_edit_simpliciality(V,E,exclude_self=False),\n",
    "      '\\nFES:',spl.get_face_edit_simpliciality(V,E,exclude_self=True))\n",
    "print('simplicial ratio:',spl.get_simplicial_ratio(V, E, samples=100, multisets=False))\n",
    "r, _a, _b, _c, _d = sr.simplicial_ratio(V,E)\n",
    "print('simplicial ratio:',r)\n"
   ]
  },
  {
   "cell_type": "code",
   "execution_count": 13,
   "metadata": {},
   "outputs": [
    {
     "name": "stdout",
     "output_type": "stream",
     "text": [
      "3021 145053 3.42722315291652\n",
      "SF: 0.15149467561903948 \n",
      "ES: 0.24870932730705064 \n",
      "FES: 0.5251377594076132 \n",
      "FES: 0.4576852328034244\n",
      "simplicial ratio: 0.6652540821821216\n"
     ]
    }
   ],
   "source": [
    "## T1: SR = .69\n",
    "H = xgi.load_xgi_data(\"tags-ask-ubuntu\")\n",
    "E = list(set([tuple(sorted(e)) for e in H.edges.members() if len(e)<=11 and len(e)>=2]))\n",
    "E = [set(e) for e in E]\n",
    "H = hnx.Hypergraph(dict(enumerate(E)))\n",
    "V = [x for x in H.nodes]\n",
    "print(len(V),len(E),np.mean([len(e) for e in E]))\n",
    "print('SF:',spl.get_simplicial_fraction(V,E),\n",
    "      '\\nES:',spl.get_edit_simpliciality(V,E),\n",
    "      '\\nFES:',spl.get_face_edit_simpliciality(V,E,exclude_self=False),\n",
    "      '\\nFES:',spl.get_face_edit_simpliciality(V,E,exclude_self=True))\n",
    "print('simplicial ratio:',spl.get_simplicial_ratio(V, E, samples=100, multisets=False))"
   ]
  },
  {
   "cell_type": "code",
   "execution_count": 30,
   "metadata": {},
   "outputs": [
    {
     "name": "stdout",
     "output_type": "stream",
     "text": [
      "3021 145053 3.42722315291652\n",
      "simplicial ratio: 0.6952309635163351\n"
     ]
    }
   ],
   "source": [
    "## T1: SR = .69\n",
    "H = xgi.load_xgi_data(\"tags-ask-ubuntu\")\n",
    "E = list(set([tuple(sorted(e)) for e in H.edges.members() if len(e)<=11 and len(e)>=2]))\n",
    "E = [set(e) for e in E]\n",
    "H = hnx.Hypergraph(dict(enumerate(E)))\n",
    "V = [x for x in H.nodes]\n",
    "print(len(V),len(E),np.mean([len(e) for e in E]))\n",
    "r, _a, _b, _c, _d = sr.simplicial_ratio(V,E)\n",
    "print('simplicial ratio:',r)\n"
   ]
  }
 ],
 "metadata": {
  "kernelspec": {
   "display_name": "complexnetworks",
   "language": "python",
   "name": "complexnetworks"
  },
  "language_info": {
   "codemirror_mode": {
    "name": "ipython",
    "version": 3
   },
   "file_extension": ".py",
   "mimetype": "text/x-python",
   "name": "python",
   "nbconvert_exporter": "python",
   "pygments_lexer": "ipython3",
   "version": "3.11.9"
  }
 },
 "nbformat": 4,
 "nbformat_minor": 4
}

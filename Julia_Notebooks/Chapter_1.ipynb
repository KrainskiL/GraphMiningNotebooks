{
 "cells": [
  {
   "cell_type": "markdown",
   "metadata": {},
   "source": [
    "# Requirements\n",
    "\n",
    "- make sure you have Project.toml and Manifest.toml files in the working directory of the notebook\n",
    "- set the directory containing source data files in next cell"
   ]
  },
  {
   "cell_type": "code",
   "execution_count": null,
   "metadata": {},
   "outputs": [],
   "source": [
    "## path to datasets\n",
    "datadir = \"../Datasets/\""
   ]
  },
  {
   "cell_type": "code",
   "execution_count": null,
   "metadata": {},
   "outputs": [],
   "source": [
    "using CSV\n",
    "using DataFrames\n",
    "using LightGraphs\n",
    "using Statistics\n",
    "using GraphPlot\n",
    "using PyPlot\n",
    "using StatsBase\n",
    "using GLM"
   ]
  },
  {
   "cell_type": "markdown",
   "metadata": {},
   "source": [
    "Just looking at basic statistics on degree distribution, clustering coefficient and shortest paths, we can identify huge difference between different types of graphs. Here we look at a social-type graph, and a transportation-type (power grid) network."
   ]
  },
  {
   "cell_type": "markdown",
   "metadata": {},
   "source": [
    "## GitHub Developers (undirected)\n",
    "\n",
    "Description\n",
    "\n",
    "A large social network of GitHub developers which was collected from the public API in June 2019. Nodes are developers who have starred at least 10 repositories and edges are mutual follower relationships between them. The vertex features are extracted based on the location, repositories starred, employer and e-mail address. The task related to the graph is binary node classification - one has to predict whether the GitHub user is a web or a machine learning developer. This target feature was derived from the job title of each user.\n"
   ]
  },
  {
   "cell_type": "code",
   "execution_count": null,
   "metadata": {},
   "outputs": [],
   "source": [
    "## read the GitHub edge list into a graph\n",
    "D = CSV.read(datadir * \"GitHubDevelopers/musae_git_edges.csv\", DataFrame) .+ 1\n",
    "max_node_id = max(maximum(D.id_1), maximum(D.id_2))\n",
    "gh = SimpleGraph(max_node_id)\n",
    "foreach(row -> add_edge!(gh, row...), eachrow(D))\n",
    "\n",
    "## add some node features, here there are\n",
    "## 2 class of nodes, 0: web developer (red), 1: ml developer (blue)\n",
    "X = CSV.read(datadir * \"GitHubDevelopers/musae_git_target.csv\", DataFrame)\n",
    "X.id .+= 1\n",
    "@assert extrema(diff(X.id)) == (1, 1) && extrema(X.id) == (1, length(vertices(gh)))\n",
    "gh_target = X.ml_target\n",
    "gh_color = ifelse.(X.ml_target .== 0, \"grey\", \"black\")\n",
    "gh_lbl = ifelse.(X.ml_target .== 0, \"web\", \"ml\");"
   ]
  },
  {
   "cell_type": "markdown",
   "metadata": {},
   "source": [
    "## Europe Electric Grid\n",
    "\n",
    "Network of high voltage grid in Europe. Details at:\n",
    "https://zenodo.org/record/47317#.Xt6nzy3MxTY\n",
    "\n"
   ]
  },
  {
   "cell_type": "code",
   "execution_count": null,
   "metadata": {},
   "outputs": [],
   "source": [
    "edge_list = split.(readlines(datadir * \"GridEurope/gridkit_europe-highvoltage.edges\"))\n",
    "vertex_ids = unique(reduce(vcat, edge_list))\n",
    "vertex_map = Dict(vertex_ids .=> 1:length(vertex_ids))\n",
    "gr = SimpleGraph(length(vertex_ids))\n",
    "foreach(((from, to),) -> add_edge!(gr, vertex_map[from], vertex_map[to]), edge_list)\n",
    "X = CSV.read(datadir * \"GridEurope/gridkit_europe-highvoltage.vertices\", DataFrame)\n",
    "X.id = [get(vertex_map, string(v), missing) for v in X.v_id]\n",
    "dropmissing!(sort!(X, :id))\n",
    "@assert extrema(diff(X.id)) == (1, 1) && extrema(X.id) == (1, length(vertices(gr)))\n",
    "gr_longitude = X.lon\n",
    "gr_latitude = X.lat\n",
    "gr_type = X.typ;"
   ]
  },
  {
   "cell_type": "markdown",
   "metadata": {},
   "source": [
    "## Features for 4 graphs\n",
    "\n",
    "- GitHub\n",
    "- GitHub ml developers\n",
    "- GitHub web developers\n",
    "- Grid"
   ]
  },
  {
   "cell_type": "code",
   "execution_count": null,
   "metadata": {},
   "outputs": [],
   "source": [
    "## for github, 9739 are ml developers, and 27961 are web developers;\n",
    "## build the subgraphs\n",
    "gh_ml = induced_subgraph(gh, findall(==(\"ml\"), gh_lbl))[1]\n",
    "gh_web = induced_subgraph(gh, findall(==(\"web\"), gh_lbl))[1]\n",
    "\n",
    "@show nv(gh_ml), nv(gh_web)"
   ]
  },
  {
   "cell_type": "code",
   "execution_count": null,
   "metadata": {},
   "outputs": [],
   "source": [
    "## github graph: count ml with connection to web only and vice-versa\n",
    "c_ml, c_web = 0, 0\n",
    "for v in vertices(gh)\n",
    "    if gh_lbl[v] == \"ml\"\n",
    "        if count(i -> gh_lbl[i] == \"ml\", neighbors(gh, v)) == 0\n",
    "            c_ml += 1\n",
    "        end\n",
    "    else\n",
    "        if count(i -> gh_lbl[i] == \"web\", neighbors(gh, v)) == 0\n",
    "            c_web += 1\n",
    "        end\n",
    "    end\n",
    "end\n",
    "print(\"$c_ml ml connected only to web and $c_web web connected only to ml\")"
   ]
  },
  {
   "cell_type": "code",
   "execution_count": null,
   "metadata": {},
   "outputs": [],
   "source": [
    "function igraph_diameter(G)\n",
    "    ccs = connected_components(G)\n",
    "    ccg = [induced_subgraph(G, cc)[1] for cc in ccs]\n",
    "    maximum(maximum(maximum(gdistances(g, i)) for i in vertices(g)) for g in ccg)\n",
    "end\n"
   ]
  },
  {
   "cell_type": "code",
   "execution_count": null,
   "metadata": {},
   "outputs": [],
   "source": [
    "## compute and store basic stats in a table\n",
    "\n",
    "function baseStats(G)\n",
    "    deg = degree(G)\n",
    "    cc = connected_components(G)\n",
    "    return Any[nv(G), ne(G),\n",
    "            minimum(deg), mean(deg), median(deg), quantile(deg, 0.99), maximum(deg),\n",
    "            length(cc), maximum(length, cc), count(==(0), deg),\n",
    "            global_clustering_coefficient(G),\n",
    "            mean(local_clustering_coefficient(G)[degree(G) .> 1])]\n",
    "end\n",
    "\n",
    "df = DataFrame(statistic=[\"nodes\", \"edges\", \"d_min\", \"d_mean\", \"d_median\", \"d_quant_99\", \"d_max\",\n",
    "                          \"components\", \"largest\", \"isolates\", \"C_glob\", \"C_loc\"],\n",
    "               GitHub=baseStats(gh), GitHub_ml=baseStats(gh_ml), GitHub_web=baseStats(gh_web), Grid=baseStats(gr))\n",
    "\n",
    "## this can take a few minutess so we disable it by default\n",
    "if false\n",
    "    gh_diam = igraph_diameter(gh)\n",
    "    gh_ml_diam = igraph_diameter(gh_ml)\n",
    "    gh_web_diam = igraph_diameter(gh_web)\n",
    "    gr_diam = igraph_diameter(gr)\n",
    "    push!(df, (\"diameter\", gh_diam, gh_ml_diam, gh_web_diam, gr_diam))\n",
    "end\n",
    "\n",
    "df"
   ]
  },
  {
   "cell_type": "markdown",
   "metadata": {},
   "source": [
    "## Visualize part of the Grid network"
   ]
  },
  {
   "cell_type": "code",
   "execution_count": null,
   "metadata": {},
   "outputs": [],
   "source": [
    "gr_spain, spain_ids = induced_subgraph(gr, findall(@. (36 < gr_latitude < 44) & (-10 < gr_longitude < 4)))\n",
    "gplot(gr_spain, gr_longitude[spain_ids], -gr_latitude[spain_ids],\n",
    "      NODESIZE=0.01, nodefillc=\"black\",\n",
    "      EDGELINEWIDTH=0.2, edgestrokec=\"black\")"
   ]
  },
  {
   "cell_type": "markdown",
   "metadata": {},
   "source": [
    "## Visualize part of the GitHub (ml) graph\n",
    "\n",
    "Quite different from the Grid graph, with clumps (dense areas) and less regular edge distribution"
   ]
  },
  {
   "cell_type": "code",
   "execution_count": null,
   "metadata": {},
   "outputs": [],
   "source": [
    "cc_ml = connected_components(gh_ml)\n",
    "giant_ml, giant_ml_idx = induced_subgraph(gh_ml, cc_ml[argmax(length.(cc_ml))])"
   ]
  },
  {
   "cell_type": "code",
   "execution_count": null,
   "metadata": {},
   "outputs": [],
   "source": [
    "# you can use other layuts if you want to experiment\n",
    "locs_x, locs_y = spring_layout(giant_ml, MAXITER=5)"
   ]
  },
  {
   "cell_type": "code",
   "execution_count": null,
   "metadata": {},
   "outputs": [],
   "source": [
    "xmin, xmax = quantile(locs_x, [0.4, 0.6])\n",
    "ymin, ymax = quantile(locs_y, [0.4, 0.6])\n",
    "\n",
    "ml_zoom, ml_zoom_ids = induced_subgraph(giant_ml, findall(@. (xmin < locs_x < xmax) & (ymin < locs_y < ymax)))\n",
    "gplot(ml_zoom, locs_x[ml_zoom_ids], locs_y[ml_zoom_ids],\n",
    "      NODESIZE=0.01, nodefillc=\"black\",\n",
    "      EDGELINEWIDTH=0.2, edgestrokec=\"gray\")"
   ]
  },
  {
   "cell_type": "markdown",
   "metadata": {},
   "source": [
    "## Visualize part of the GitHub (web) graph"
   ]
  },
  {
   "cell_type": "code",
   "execution_count": null,
   "metadata": {},
   "outputs": [],
   "source": [
    "cc_web = connected_components(gh_web)\n",
    "giant_web, giant_web_idx = induced_subgraph(gh_web, cc_web[argmax(length.(cc_web))])"
   ]
  },
  {
   "cell_type": "code",
   "execution_count": null,
   "metadata": {},
   "outputs": [],
   "source": [
    "# you can use other layuts if you want to experiment\n",
    "locs_x, locs_y = random_layout(giant_web)"
   ]
  },
  {
   "cell_type": "code",
   "execution_count": null,
   "metadata": {},
   "outputs": [],
   "source": [
    "xmin, xmax = quantile(locs_x, [0.1, 0.3])\n",
    "ymin, ymax = quantile(locs_y, [0.1, 0.3])\n",
    "\n",
    "web_zoom, web_zoom_ids = induced_subgraph(giant_web, findall(@. (xmin < locs_x < xmax) & (ymin < locs_y < ymax)))\n",
    "gplot(web_zoom, locs_x[web_zoom_ids], locs_y[web_zoom_ids],\n",
    "      NODESIZE=0.01, nodefillc=\"black\",\n",
    "      EDGELINEWIDTH=0.2, edgestrokec=\"gray\")"
   ]
  },
  {
   "cell_type": "markdown",
   "metadata": {},
   "source": [
    "## Compare degree distributions\n",
    "\n",
    "We plot the (empirical) cumulative distribution functions (cdf)"
   ]
  },
  {
   "cell_type": "code",
   "execution_count": null,
   "metadata": {},
   "outputs": [],
   "source": [
    "## degree distribution - GitHub graph\n",
    "deg = degree(gh)\n",
    "e = ecdf(deg)\n",
    "x = range(extrema(e)..., step=1)\n",
    "y = e.(x)\n",
    "semilogx(x,y,\"-\",color=\"black\",label=\"GitHub\")\n",
    "xlabel(\"degree\",fontsize=14)\n",
    "ylabel(\"empirical cdf\",fontsize=14);"
   ]
  },
  {
   "cell_type": "code",
   "execution_count": null,
   "metadata": {},
   "outputs": [],
   "source": [
    "## degree distribution - Grid graph\n",
    "## we see much lower degree here\n",
    "deg = degree(gr)\n",
    "e = ecdf(deg)\n",
    "x = range(extrema(e)..., step=1)\n",
    "y = e.(x)\n",
    "semilogx(x,y,\"-\",color=\"black\",label=\"Grid\")\n",
    "xlabel(\"degree\",fontsize=14)\n",
    "ylabel(\"empirical cdf\",fontsize=14);"
   ]
  },
  {
   "cell_type": "markdown",
   "metadata": {},
   "source": [
    "## Shortest paths distribution\n",
    "\n",
    "Histograms of shortest path lengths from 100 random nodes;\n",
    "\n",
    "again we see much different distributions"
   ]
  },
  {
   "cell_type": "code",
   "execution_count": null,
   "metadata": {},
   "outputs": [],
   "source": [
    "## shortest paths length from a given node, GitHub graph\n",
    "cc_gh = connected_components(gh)\n",
    "giant_gh, _ = induced_subgraph(gh, cc_gh[argmax(length.(cc_gh))])\n",
    "V = sample(1:nv(giant_gh), 100, replace=false)\n",
    "sp = DataFrame(len=reduce(vcat, gdistances.(Ref(giant_gh), V)))\n",
    "histdata = combine(groupby(sp, :len, sort=true), nrow => :count)\n",
    "\n",
    "fig, ax = subplots()\n",
    "ax.bar(histdata.len, histdata.count, color=\"darkgrey\") \n",
    "\n",
    "ax.set_yscale(\"log\")\n",
    "\n",
    "ax.set_xlabel(\"path length\",fontsize=14)\n",
    "ax.set_ylabel(\"number of paths (log scale)\",fontsize=14);"
   ]
  },
  {
   "cell_type": "code",
   "execution_count": null,
   "metadata": {},
   "outputs": [],
   "source": [
    "## min path length from that node to other nodes, Grid network\n",
    "cc_gr = connected_components(gr)\n",
    "giant_gr, _ = induced_subgraph(gr, cc_gr[argmax(length.(cc_gr))])\n",
    "V = sample(1:nv(giant_gr), 100, replace=false)\n",
    "V = 1:100\n",
    "sp = DataFrame(len=reduce(vcat, gdistances.(Ref(giant_gr), V)))\n",
    "histdata = combine(groupby(sp, :len, sort=true), nrow => :count)\n",
    "\n",
    "fig, ax = subplots()\n",
    "ax.bar(histdata.len, histdata.count, color=\"darkgrey\") \n",
    "\n",
    "ax.set_xlabel(\"path length\",fontsize=14)\n",
    "ax.set_ylabel(\"number of paths (log scale)\",fontsize=14);"
   ]
  },
  {
   "cell_type": "markdown",
   "metadata": {},
   "source": [
    "## Local clustering coefficient\n",
    "\n",
    "We compare the average local clustering coefficients as a function\n",
    "of the degree. We consider degrees from 10 to 1000.\n"
   ]
  },
  {
   "cell_type": "code",
   "execution_count": null,
   "metadata": {},
   "outputs": [],
   "source": [
    "## build dataframe with degrees and local clustering coefficients\n",
    "## and compute mean values w.r.t. degree.\n",
    "## GitHub graph\n",
    "mindeg = 10\n",
    "maxdeg = 1000\n",
    "\n",
    "D = DataFrame(CC=local_clustering_coefficient(gh, 1:nv(gh)), d=degree(gh))\n",
    "D_mean = combine(groupby(D, :d, sort=true), :CC => mean => :CC)\n",
    "filter!(:d => x -> 10 <= x <= 1000, D_mean)\n",
    "transform!(D_mean, :d => ByRow(log) => :x, :CC => ByRow(log) => :y)\n",
    "model = lm(@formula(y~x), D_mean)"
   ]
  },
  {
   "cell_type": "code",
   "execution_count": null,
   "metadata": {},
   "outputs": [],
   "source": [
    "## plot on log-log scale\n",
    "b, a = coef(model)\n",
    "loglog(D_mean.d, D_mean.CC,\".-\",color=\"grey\")\n",
    "plot([mindeg,maxdeg],[exp(b)*mindeg^a,exp(b)*maxdeg^a],color=\"black\")\n",
    "xlabel(\"log(degree)\",fontsize=14)\n",
    "ylabel(\"log(mean local clust. coef.)\",fontsize=14);\n",
    "#plt.savefig('localCC.eps');"
   ]
  }
 ],
 "metadata": {
  "kernelspec": {
   "display_name": "Julia 1.5.3",
   "language": "julia",
   "name": "julia-1.5"
  },
  "language_info": {
   "file_extension": ".jl",
   "mimetype": "application/julia",
   "name": "julia",
   "version": "1.5.3"
  }
 },
 "nbformat": 4,
 "nbformat_minor": 4
}

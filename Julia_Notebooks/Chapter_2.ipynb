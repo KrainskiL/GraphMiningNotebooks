{
 "cells": [
  {
   "cell_type": "markdown",
   "metadata": {},
   "source": [
    "Requirements:\n",
    "\n",
    "Add `plfit` package using the following commands in a Julia session (you can also copy-paste it to a Jupyter Notebook cell and run it):\n",
    "```\n",
    "using PyCall\n",
    "run(`$(PyCall.python) -m pip install --upgrade cython`)\n",
    "run(`$(PyCall.python) -m pip install plfit`)\n",
    "```\n",
    "These commands need to be run only once"
   ]
  },
  {
   "cell_type": "code",
   "execution_count": null,
   "metadata": {},
   "outputs": [],
   "source": [
    "using LightGraphs\n",
    "using PyCall\n",
    "using PyPlot\n",
    "using Statistics\n",
    "using Optim\n",
    "using Distributions\n",
    "using FreqTables\n",
    "using StatsBase\n",
    "using Random\n",
    "using CSV\n",
    "using DataFrames"
   ]
  },
  {
   "cell_type": "code",
   "execution_count": null,
   "metadata": {},
   "outputs": [],
   "source": [
    "datadir = \"../Datasets/\""
   ]
  },
  {
   "cell_type": "markdown",
   "metadata": {},
   "source": [
    "# Part 1 -- generating figures from the book"
   ]
  },
  {
   "cell_type": "markdown",
   "metadata": {},
   "source": [
    "## Figure 2.1: size of the giant component\n",
    "\n",
    "* this is for a random graph\n",
    "* We try $n=100$ and $n=10000$ below"
   ]
  },
  {
   "cell_type": "code",
   "execution_count": null,
   "metadata": {},
   "outputs": [],
   "source": [
    "n = 100\n",
    "# n=10000\n",
    "gc_avg = Float64[]\n",
    "gc_std = Float64[]\n",
    "REP = 1000 ## repeats\n",
    "ad = 0.1:0.1:10.0\n",
    "for d in ad\n",
    "    x = Int[]\n",
    "    for rep in 1:REP\n",
    "        p = d/(n-1)\n",
    "        g = erdos_renyi(n, p)\n",
    "        push!(x, maximum(length, connected_components(g)))\n",
    "    end\n",
    "    push!(gc_avg, mean(x))\n",
    "    push!(gc_std, std(x))\n",
    "end\n",
    "        \n",
    "## theoretical\n",
    "th = fill(log(n), 10)\n",
    "\n",
    "fn(x,d) = x + exp(-x*d) - 1\n",
    "\n",
    "for i in 1.1:0.1:10.0\n",
    "    push!(th, n * optimize( x -> fn(x, i)^2, 0, 1).minimizer[1])\n",
    "end\n",
    "\n",
    "fill_between(ad, [a-1.654*s for (a, s) in zip(gc_avg,gc_std)],\n",
    "             [a+1.645*s for (a, s) in zip(gc_avg,gc_std)],color=\"lightgray\")\n",
    "plot(ad,th,color=\"black\")\n",
    "xlabel(\"average degree\",fontsize=14)\n",
    "ylabel(\"giant component size\",fontsize=14);"
   ]
  },
  {
   "cell_type": "markdown",
   "metadata": {},
   "source": [
    "## Figure 2.2: Pr(graph is connected)\n",
    "\n",
    "* again for random graphs\n",
    "* we try $n=100$ and $n=10000$ below"
   ]
  },
  {
   "cell_type": "code",
   "execution_count": null,
   "metadata": {},
   "outputs": [],
   "source": [
    "n = 100\n",
    "# n = 10000\n",
    "REP = 1000 ## repeats\n",
    "lo = max(-floor(log(n)*10) / 10, -10)\n",
    "C = lo:0.1:10.0\n",
    "ic_avg=Float64[]\n",
    "for c in C\n",
    "    x = Bool[]\n",
    "    for rep in 1:REP\n",
    "        p = (c+log(n))/n\n",
    "        g = erdos_renyi(n, p)\n",
    "        push!(x, is_connected(g))\n",
    "    end\n",
    "    push!(ic_avg, mean(x))\n",
    "end\n",
    "\n",
    "## theoretical\n",
    "th = [exp(-exp(-c)) for c in C]\n",
    "\n",
    "## plot\n",
    "fill_between(C,[x-1.654*sqrt(x*(1-x)/n) for x in ic_avg],\n",
    "                 [x+1.645*sqrt(x*(1-x)/n) for x in ic_avg],color=\"lightgray\")\n",
    "plot(C,th,color=\"black\")\n",
    "xlabel(\"constant c\",fontsize=14)\n",
    "ylabel(\"P(graph is connected)\",fontsize=14);"
   ]
  },
  {
   "cell_type": "markdown",
   "metadata": {},
   "source": [
    "## Figure 2.4: Distribution of shortest path lengths\n",
    "\n",
    "For random graphs of varying size."
   ]
  },
  {
   "cell_type": "code",
   "execution_count": null,
   "metadata": {},
   "outputs": [],
   "source": [
    "sp = Vector{Int}[]\n",
    "N = [50,100,200,400,800,1600,3200]\n",
    "for n in N\n",
    "    p = 5/(n-1)\n",
    "    g = erdos_renyi(n, p)\n",
    "    z = Int[]\n",
    "    for i in 1:n\n",
    "        append!(z, gdistances(g, i))\n",
    "    end\n",
    "    push!(sp, z)\n",
    "end\n",
    "## plot    \n",
    "plt.boxplot(sp, labels=N, sym=\"\",whis=5);"
   ]
  },
  {
   "cell_type": "markdown",
   "metadata": {},
   "source": [
    "## Figure 2.5 Poisson vs degree distributions\n",
    "\n",
    "* for random graphs\n",
    "* we try $n=100$ and $n=10000$ below"
   ]
  },
  {
   "cell_type": "code",
   "execution_count": null,
   "metadata": {},
   "outputs": [],
   "source": [
    "# n = 100\n",
    "n = 10000\n",
    "p = 10/(n-1)\n",
    "g = erdos_renyi(n, p)\n",
    "z = proptable(degree(g))\n",
    "x = names(z)[1]\n",
    "pmf = pdf(Poisson(10), x)\n",
    "plot(x,z,\"o\",color=\"black\")\n",
    "plot(x,pmf,\":\",color=\"black\")\n",
    "xlabel(\"degree\",fontsize=14)\n",
    "ylabel(\"frequency/pmf\",fontsize=14);"
   ]
  },
  {
   "cell_type": "markdown",
   "metadata": {},
   "source": [
    "## Figure 2.6 --  Power law graphs\n",
    "\n",
    "* We generate a power law graph and use the 'plfit' package to model its degree distribution.\n",
    "* We use the Chung-Lu model, so there can be isolated nodes\n",
    "* We discard 0-degree nodes as they yield errors\n",
    "* Plots are from the plfit package https://pypi.org/project/plfit/"
   ]
  },
  {
   "cell_type": "code",
   "execution_count": null,
   "metadata": {},
   "outputs": [],
   "source": [
    "## fast Chung-Lu: generate m edges w.r.t. distribution d\n",
    "function fastCL(d, m)\n",
    "    p = Weights(d)\n",
    "    n = length(d)\n",
    "    target = m\n",
    "    g = SimpleGraph(n)\n",
    "    while ne(g) < target\n",
    "        a, b = sample(1:n, p), sample(1:n, p)\n",
    "        a != b && add_edge!(g, a, b)\n",
    "    end\n",
    "    return g\n",
    "end"
   ]
  },
  {
   "cell_type": "code",
   "execution_count": null,
   "metadata": {},
   "outputs": [],
   "source": [
    "## power law graph\n",
    "gamma = 2.5\n",
    "n = 10000\n",
    "delta = 1\n",
    "Delta = sqrt(n)\n",
    "W = Float64[]\n",
    "for i in 1:n\n",
    "    push!(W, delta * (n/(i-1+n/(Delta/delta)^(gamma-1)))^(1/(gamma-1)))\n",
    "end\n",
    "\n",
    "deg = round.(Int, W)\n",
    "m = trunc(Int, mean(deg)*n/2)\n",
    "g = fastCL(deg, m)\n",
    "\n",
    "## number of isolated nodes\n",
    "print(\"isolates: \",count(==(0), degree(g)))\n",
    "\n",
    "g1 = induced_subgraph(g, findall(>(0), degree(g)))[1]"
   ]
  },
  {
   "cell_type": "code",
   "execution_count": null,
   "metadata": {},
   "outputs": [],
   "source": [
    "## KS statistic\n",
    "d = degree(g1)\n",
    "plfit = pyimport(\"plfit\");\n",
    "X = plfit.plfit(d)\n",
    "print(X.plfit())\n",
    "ax = X.xminvsks()\n",
    "ax.set_xlabel(\"l\",fontsize=14)\n",
    "ax.set_ylabel(\"Kolmogorov-Smirnov statistic\",fontsize=12);"
   ]
  },
  {
   "cell_type": "code",
   "execution_count": null,
   "metadata": {},
   "outputs": [],
   "source": [
    "## KS test, this can take a few minutes\n",
    "KS_tst = X.test_pl(niter=100)"
   ]
  },
  {
   "cell_type": "code",
   "execution_count": null,
   "metadata": {},
   "outputs": [],
   "source": [
    "X.alphavsks()"
   ]
  },
  {
   "cell_type": "code",
   "execution_count": null,
   "metadata": {},
   "outputs": [],
   "source": [
    "X.plotpdf(plcolor=\"k\",histcolor=\"grey\")"
   ]
  },
  {
   "cell_type": "code",
   "execution_count": null,
   "metadata": {},
   "outputs": [],
   "source": [
    "X.plotcdf(pointcolor=\"grey\", pointmarker=\".\", zoom=false)"
   ]
  },
  {
   "cell_type": "markdown",
   "metadata": {},
   "source": [
    "## Figure 2.7: simple d-regular graphs\n",
    "\n",
    "* We empirically compute the probability that a d-regular graph is simple.\n",
    "* we use n=100 and n=10000 below"
   ]
  },
  {
   "cell_type": "code",
   "execution_count": null,
   "metadata": {},
   "outputs": [],
   "source": [
    "function check_random_regular_simple(n, k)\n",
    "    stubs = reduce(vcat, [fill(i, k) for i in 1:n])\n",
    "    shuffle!(stubs)\n",
    "    existing = Set{Tuple{Int, Int}}()\n",
    "    for i in 1:2:length(stubs)\n",
    "        a, b = minmax(stubs[i], stubs[i+1])\n",
    "        (a == b || (a, b) in existing) && return false\n",
    "        push!(existing, (a, b))\n",
    "    end\n",
    "    return true\n",
    "end"
   ]
  },
  {
   "cell_type": "code",
   "execution_count": null,
   "metadata": {},
   "outputs": [],
   "source": [
    "n = 100\n",
    "# n = 10000\n",
    "REP = 100\n",
    "D = 2:10\n",
    "simple = [mean(check_random_regular_simple(n, d) for _ in 1:REP) for d in D]\n",
    "th = [exp(-(d*d-1)/4) for d in D]\n",
    "\n",
    "plot(D,simple,\"o\",color=\"black\")\n",
    "plot(D,th,\":\",color=\"black\")\n",
    "xlabel(\"degree\",fontsize=14)\n",
    "ylabel(\"P(graph is simple)\",fontsize=14);"
   ]
  },
  {
   "cell_type": "markdown",
   "metadata": {},
   "source": [
    "# Part 2 -- Experiments section\n",
    "\n",
    "* We consider a real graph and compare some statistics with random graphs. \n",
    "* We use the GitHub ml developers graph that we introduced in Chapter 1."
   ]
  },
  {
   "cell_type": "code",
   "execution_count": null,
   "metadata": {},
   "outputs": [],
   "source": [
    "## read the GitHub edge list into a graph\n",
    "D = CSV.read(datadir * \"GitHubDevelopers/musae_git_edges.csv\", DataFrame) .+ 1\n",
    "max_node_id = max(maximum(D.id_1), maximum(D.id_2))\n",
    "gh = SimpleGraph(max_node_id)\n",
    "foreach(row -> add_edge!(gh, row...), eachrow(D))\n",
    "\n",
    "## add some node features, here there are\n",
    "## 2 class of nodes, 0: web developer (red), 1: ml developer (blue)\n",
    "X = CSV.read(datadir * \"GitHubDevelopers/musae_git_target.csv\", DataFrame)\n",
    "X.id .+= 1\n",
    "@assert extrema(diff(X.id)) == (1, 1) && extrema(X.id) == (1, length(vertices(gh)))\n",
    "gh_lbl = ifelse.(X.ml_target .== 0, \"web\", \"ml\");"
   ]
  },
  {
   "cell_type": "code",
   "execution_count": null,
   "metadata": {},
   "outputs": [],
   "source": [
    "gh_ml = induced_subgraph(gh, findall(==(\"ml\"), gh_lbl))[1]"
   ]
  },
  {
   "cell_type": "code",
   "execution_count": null,
   "metadata": {},
   "outputs": [],
   "source": [
    "cc = connected_components(gh_ml)\n",
    "sg = induced_subgraph(gh_ml, cc[argmax(length.(cc))])[1]"
   ]
  },
  {
   "cell_type": "code",
   "execution_count": null,
   "metadata": {},
   "outputs": [],
   "source": [
    "function baseStats(G)\n",
    "    deg = degree(G)\n",
    "    cc = connected_components(G)\n",
    "    return Any[nv(G), ne(G),\n",
    "            minimum(deg), mean(deg), median(deg), quantile(deg, 0.99), maximum(deg),\n",
    "            igraph_diameter(G),\n",
    "            length(cc), maximum(length, cc), count(==(0), deg),\n",
    "            global_clustering_coefficient(G),\n",
    "            mean(local_clustering_coefficient(G)[degree(G) .> 1])]\n",
    "end"
   ]
  },
  {
   "cell_type": "code",
   "execution_count": null,
   "metadata": {},
   "outputs": [],
   "source": [
    "function igraph_diameter(G)\n",
    "    ccs = connected_components(G)\n",
    "    ccg = [induced_subgraph(G, cc)[1] for cc in ccs]\n",
    "    maximum(maximum(maximum(gdistances(g, i)) for i in vertices(g)) for g in ccg)\n",
    "end"
   ]
  },
  {
   "cell_type": "code",
   "execution_count": null,
   "metadata": {},
   "outputs": [],
   "source": [
    "function cm_simple(ds)\n",
    "    @assert iseven(sum(ds))\n",
    "    stubs = reduce(vcat, fill(i, ds[i]) for i in 1:length(ds))\n",
    "    shuffle!(stubs)\n",
    "    local_edges = Set{Tuple{Int, Int}}()\n",
    "    recycle = Tuple{Int,Int}[]\n",
    "    for i in 1:2:length(stubs)\n",
    "        e = minmax(stubs[i], stubs[i+1])\n",
    "        if (e[1] == e[2]) || (e in local_edges)\n",
    "            push!(recycle, e)\n",
    "        else\n",
    "            push!(local_edges, e)\n",
    "        end\n",
    "    end\n",
    "\n",
    "    # resolve self-loops and duplicates\n",
    "    last_recycle = length(recycle)\n",
    "    recycle_counter = last_recycle\n",
    "    while !isempty(recycle)\n",
    "        recycle_counter -= 1\n",
    "        if recycle_counter < 0\n",
    "            if length(recycle) < last_recycle\n",
    "                last_recycle = length(recycle)\n",
    "                recycle_counter = last_recycle\n",
    "            else\n",
    "                break\n",
    "            end\n",
    "        end\n",
    "        p1 = popfirst!(recycle)\n",
    "        from_recycle = 2 * length(recycle) / length(stubs)\n",
    "        success = false\n",
    "        for _ in 1:2:length(stubs)\n",
    "            p2 = if rand() < from_recycle\n",
    "                used_recycle = true\n",
    "                recycle_idx = rand(axes(recycle, 1))\n",
    "                recycle[recycle_idx]\n",
    "            else\n",
    "                used_recycle = false\n",
    "                rand(local_edges)\n",
    "            end\n",
    "            if rand() < 0.5\n",
    "                newp1 = minmax(p1[1], p2[1])\n",
    "                newp2 = minmax(p1[2], p2[2])\n",
    "            else\n",
    "                newp1 = minmax(p1[1], p2[2])\n",
    "                newp2 = minmax(p1[2], p2[1])\n",
    "            end\n",
    "            if newp1 == newp2\n",
    "                good_choice = false\n",
    "            elseif (newp1[1] == newp1[2]) || (newp1 in local_edges)\n",
    "                good_choice = false\n",
    "            elseif (newp2[1] == newp2[2]) || (newp2 in local_edges)\n",
    "                good_choice = false\n",
    "            else\n",
    "                good_choice = true\n",
    "            end\n",
    "            if good_choice\n",
    "                if used_recycle\n",
    "                    recycle[recycle_idx], recycle[end] = recycle[end], recycle[recycle_idx]\n",
    "                    pop!(recycle)\n",
    "                else\n",
    "                    pop!(local_edges, p2)\n",
    "                end\n",
    "                success = true\n",
    "                push!(local_edges, newp1)\n",
    "                push!(local_edges, newp2)\n",
    "                break\n",
    "            end\n",
    "        end\n",
    "        success || push!(recycle, p1)\n",
    "    end\n",
    "    g = SimpleGraph(length(ds))\n",
    "    for e in local_edges\n",
    "        add_edge!(g, e...)\n",
    "    end\n",
    "    return g\n",
    "end"
   ]
  },
  {
   "cell_type": "code",
   "execution_count": null,
   "metadata": {},
   "outputs": [],
   "source": [
    "er = erdos_renyi(nv(sg), ne(sg))"
   ]
  },
  {
   "cell_type": "code",
   "execution_count": null,
   "metadata": {},
   "outputs": [],
   "source": [
    "cl = expected_degree_graph(degree(sg))"
   ]
  },
  {
   "cell_type": "code",
   "execution_count": null,
   "metadata": {},
   "outputs": [],
   "source": [
    "cl2 = fastCL(degree(sg), ne(sg))"
   ]
  },
  {
   "cell_type": "code",
   "execution_count": null,
   "metadata": {},
   "outputs": [],
   "source": [
    "cm = cm_simple(degree(sg))"
   ]
  },
  {
   "cell_type": "code",
   "execution_count": null,
   "metadata": {},
   "outputs": [],
   "source": [
    "df = DataFrame(\"statistic\" => [\"nodes\", \"edges\", \"d_min\", \"d_mean\", \"d_median\", \"d_quant_99\", \"d_max\",\n",
    "                               \"diameter\", \"components\", \"largest\", \"isolates\", \"C_glob\", \"C_loc\"],\n",
    "               \"Base Graph\" => baseStats(sg),\n",
    "               \"Erdos-Renyi\" => baseStats(er),\n",
    "               \"Chung-Lu original\" => baseStats(cl),\n",
    "               \"Chung-Lu fixed\" => baseStats(cl2),\n",
    "               \"Configuration simple\" => baseStats(cm))"
   ]
  },
  {
   "cell_type": "code",
   "execution_count": null,
   "metadata": {},
   "outputs": [],
   "source": [
    "## compute min path length distribution for several node pairs for the 5 graphs (real and 4 random ones)\n",
    "cc_er = connected_components(er)\n",
    "er_g = induced_subgraph(er, cc_er[argmax(length.(cc_er))])[1]\n",
    "cc_cl = connected_components(cl)\n",
    "cl_g = induced_subgraph(cl, cc_cl[argmax(length.(cc_cl))])[1]\n",
    "cc_cl2 = connected_components(cl2)\n",
    "cl2_g = induced_subgraph(cl2, cc_cl2[argmax(length.(cc_cl2))])[1]\n",
    "cc_cm = connected_components(cm)\n",
    "cm_g = induced_subgraph(cm, cc_cm[argmax(length.(cc_cm))])[1]\n",
    "\n",
    "SAMPLE_SIZE = 500\n",
    "\n",
    "graphs = [sg, er_g, cl_g, cl2_g, cm_g]\n",
    "Vs = [sample(1:nv(g), SAMPLE_SIZE, replace=false) for g in graphs]\n",
    "\n",
    "sps = [Int[] for _ in eachindex(graphs)]\n",
    "for i in 1:SAMPLE_SIZE\n",
    "    for j in 1:5\n",
    "        append!(sps[j], gdistances(graphs[j], Vs[j][i]))\n",
    "    end\n",
    "end\n",
    "    \n",
    "boxplot(sps,labels=[\"Base\",\"ER\",\"CL original\", \"CL fixed\",\"CM simple\"],\n",
    "        sym=\".\",whis=10, medianprops = Dict(\"linestyle\"=>\"-\", \"linewidth\"=>2.5,\"color\"=>\"black\"))\n",
    "ylabel(\"shortest path length\",fontsize=14);"
   ]
  },
  {
   "cell_type": "markdown",
   "metadata": {},
   "source": [
    "## More power law tests - Grid and GitHub graphs\n",
    "\n",
    "again with plfit package and plots"
   ]
  },
  {
   "cell_type": "code",
   "execution_count": null,
   "metadata": {},
   "outputs": [],
   "source": [
    "## estimates for xmin and gamma\n",
    "d = degree(sg)\n",
    "X = plfit.plfit(d)\n",
    "print(X.plfit())\n",
    "ax = X.xminvsks()\n",
    "ax.set_xlabel(\"l\",fontsize=14)\n",
    "ax.set_ylabel(\"Kolmogorov-Smirnov statistic\",fontsize=12);"
   ]
  },
  {
   "cell_type": "code",
   "execution_count": null,
   "metadata": {},
   "outputs": [],
   "source": [
    "## KS test -- very good fit here\n",
    "KS_tst = X.test_pl(niter=100)"
   ]
  },
  {
   "cell_type": "code",
   "execution_count": null,
   "metadata": {},
   "outputs": [],
   "source": [
    "## github web developers subgraph\n",
    "gh_web = induced_subgraph(gh, findall(!=(\"ml\"), gh_lbl))[1]\n",
    "cc = connected_components(gh_web)\n",
    "sg = induced_subgraph(gh_web, cc[argmax(length.(cc))])[1]\n",
    "## estimates for xmin and gamma\n",
    "d = degree(sg)\n",
    "X = plfit.plfit(d)\n",
    "print(X.plfit())\n",
    "ax = X.xminvsks()\n",
    "ax.set_xlabel(\"l\",fontsize=14)\n",
    "ax.set_ylabel(\"Kolmogorov-Smirnov statistic\",fontsize=12);"
   ]
  },
  {
   "cell_type": "code",
   "execution_count": null,
   "metadata": {},
   "outputs": [],
   "source": [
    "## KS test -- not as good as previous graph, but still significant\n",
    "KS_tst = X.test_pl(niter=100)"
   ]
  },
  {
   "cell_type": "code",
   "execution_count": null,
   "metadata": {},
   "outputs": [],
   "source": [
    "edge_list = split.(readlines(datadir * \"GridEurope/gridkit_europe-highvoltage.edges\"))\n",
    "vertex_ids = unique(reduce(vcat, edge_list))\n",
    "vertex_map = Dict(vertex_ids .=> 1:length(vertex_ids))\n",
    "gr = SimpleGraph(length(vertex_ids))\n",
    "foreach(((from, to),) -> add_edge!(gr, vertex_map[from], vertex_map[to]), edge_list)\n",
    "\n",
    "cc = connected_components(gr)\n",
    "sg = induced_subgraph(gr, cc[argmax(length.(cc))])[1]\n",
    "## estimates for xmin and gamma\n",
    "d = degree(sg)\n",
    "X = plfit.plfit(d)\n",
    "print(X.plfit())\n",
    "ax = X.xminvsks()\n",
    "ax.set_xlabel(\"l\",fontsize=14)\n",
    "ax.set_ylabel(\"Kolmogorov-Smirnov statistic\",fontsize=12);"
   ]
  },
  {
   "cell_type": "code",
   "execution_count": null,
   "metadata": {},
   "outputs": [],
   "source": [
    "## we get xmin=15 ... how many nodes does this cover? --> just a few!\n",
    "count(>=(15), degree(sg))"
   ]
  },
  {
   "cell_type": "code",
   "execution_count": null,
   "metadata": {},
   "outputs": [],
   "source": [
    "## let's fix xmin=4 \n",
    "X = plfit.plfit(d)\n",
    "print(X.plfit(xmin=4))"
   ]
  },
  {
   "cell_type": "code",
   "execution_count": null,
   "metadata": {},
   "outputs": [],
   "source": [
    "## KS test -- clearly not a good fit\n",
    "KS_tst = X.test_pl(niter=100)"
   ]
  },
  {
   "cell_type": "markdown",
   "metadata": {},
   "source": [
    "## Extras"
   ]
  },
  {
   "cell_type": "code",
   "execution_count": null,
   "metadata": {},
   "outputs": [],
   "source": [
    "## generate random graph with (at least one) independent set \n",
    "## n: nodes, s: independent set size, d: avg degree\n",
    "function indepSet(n,s,d)\n",
    "    N = n-s\n",
    "    di = (n*d ÷ 2) - s*d\n",
    "    ## random graph with N nodes\n",
    "    g = erdos_renyi(N, di)\n",
    "    ## extra nodes\n",
    "    add_vertices!(g, s)\n",
    "    ## assign remaining degree to extra nodes\n",
    "    z = rand(N+1:n, s*d)\n",
    "    cm = countmap(z)\n",
    "    deg = [cm[i] for i in N+1:n]\n",
    "    for i in 1:length(deg)\n",
    "        e = sample(1:N,deg[i],replace=false)\n",
    "        for j in e\n",
    "            add_edge!(g, j, i+N)\n",
    "        end\n",
    "    end\n",
    "    return induced_subgraph(g, randperm(nv(g)))[1]\n",
    "end"
   ]
  },
  {
   "cell_type": "code",
   "execution_count": null,
   "metadata": {},
   "outputs": [],
   "source": [
    "function random_indset(g, maxiter)\n",
    "    best = Int[]\n",
    "    for _ in 1:maxiter\n",
    "        this = independent_set(g, MaximalIndependentSet())\n",
    "        length(this) > length(best) && (best = this)\n",
    "    end\n",
    "    return best\n",
    "end"
   ]
  },
  {
   "cell_type": "code",
   "execution_count": null,
   "metadata": {},
   "outputs": [],
   "source": [
    "g = indepSet(50,10,20)"
   ]
  },
  {
   "cell_type": "code",
   "execution_count": null,
   "metadata": {},
   "outputs": [],
   "source": [
    "# algorithm based on vertex degree\n",
    "independent_set(g, DegreeIndependentSet())"
   ]
  },
  {
   "cell_type": "code",
   "execution_count": null,
   "metadata": {},
   "outputs": [],
   "source": [
    "random_indset(g, 1000)"
   ]
  }
 ],
 "metadata": {
  "kernelspec": {
   "display_name": "Julia 1.5.3",
   "language": "julia",
   "name": "julia-1.5"
  },
  "language_info": {
   "file_extension": ".jl",
   "mimetype": "application/julia",
   "name": "julia",
   "version": "1.5.3"
  }
 },
 "nbformat": 4,
 "nbformat_minor": 4
}
